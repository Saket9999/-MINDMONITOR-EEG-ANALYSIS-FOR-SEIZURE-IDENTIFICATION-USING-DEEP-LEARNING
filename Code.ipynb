{
  "cells": [
    {
      "cell_type": "markdown",
      "source": [
        "# **MINDMONITOR EEG ANALYSIS FOR SEIZURE IDENTIFICATION USING DEEP LEARNING**"
      ],
      "metadata": {
        "id": "GufA9J93yTI6"
      }
    },
    {
      "cell_type": "code",
      "execution_count": null,
      "metadata": {
        "id": "kkOADKelMXQf"
      },
      "outputs": [],
      "source": [
        "import tensorflow as tf"
      ]
    },
    {
      "cell_type": "markdown",
      "metadata": {
        "id": "XNrd1lpMr0ux"
      },
      "source": [
        "# Import Library"
      ]
    },
    {
      "cell_type": "code",
      "execution_count": null,
      "metadata": {
        "id": "RabyOoV6r4mJ"
      },
      "outputs": [],
      "source": [
        "import numpy as np\n",
        "import pandas as pd\n",
        "from sklearn.model_selection import train_test_split\n",
        "# from sklearn.metrics import confusion_matrix\n",
        "from sklearn.metrics import classification_report\n",
        "from keras.models import Sequential\n",
        "from keras.layers import Dense\n",
        "from sklearn.metrics import accuracy_score\n",
        "import matplotlib.pyplot as plt"
      ]
    },
    {
      "cell_type": "code",
      "execution_count": null,
      "metadata": {
        "colab": {
          "base_uri": "https://localhost:8080/"
        },
        "id": "vDrRoo6RmW4D",
        "outputId": "8c05274d-1e7c-4fec-a7f5-e07096d44ae2"
      },
      "outputs": [
        {
          "output_type": "stream",
          "name": "stdout",
          "text": [
            "Drive already mounted at /content/drive; to attempt to forcibly remount, call drive.mount(\"/content/drive\", force_remount=True).\n"
          ]
        }
      ],
      "source": [
        "from google.colab import drive\n",
        "drive.mount('/content/drive')"
      ]
    },
    {
      "cell_type": "markdown",
      "metadata": {
        "id": "TrYD5MHaLrqg"
      },
      "source": [
        "# Import dataset"
      ]
    },
    {
      "cell_type": "code",
      "execution_count": null,
      "metadata": {
        "id": "6CizuCNkthJY"
      },
      "outputs": [],
      "source": [
        "Data1 = pd.read_csv(\"/content/drive/MyDrive/Project-3_Dataset/EEG_Dataset-1.csv\")\n",
        "Data2 = pd.read_csv(\"/content/drive/MyDrive/Project-3_Dataset/EEG_Dataset-2.csv\")"
      ]
    },
    {
      "cell_type": "markdown",
      "metadata": {
        "id": "m7qTBsP0KXYL"
      },
      "source": [
        "# Statistics property of dataset"
      ]
    },
    {
      "cell_type": "code",
      "execution_count": null,
      "metadata": {
        "colab": {
          "base_uri": "https://localhost:8080/",
          "height": 235
        },
        "id": "JrLMBqd4MIvl",
        "outputId": "1252a5c0-eab7-4c93-eacb-96ff416eb20e"
      },
      "outputs": [
        {
          "output_type": "execute_result",
          "data": {
            "text/plain": [
              "      Unnamed   X1   X2   X3   X4   X5   X6   X7   X8   X9  ...  X170  X171  \\\n",
              "0  X21.V1.791  135  190  229  223  192  125   55   -9  -33  ...   -17   -15   \n",
              "1  X15.V1.924  386  382  356  331  320  315  307  272  244  ...   164   150   \n",
              "2     X8.V1.1  -32  -39  -47  -37  -32  -36  -57  -73  -85  ...    57    64   \n",
              "3   X16.V1.60 -105 -101  -96  -92  -89  -95 -102 -100  -87  ...   -82   -81   \n",
              "4   X20.V1.54   -9  -65  -98 -102  -78  -48  -16    0  -21  ...     4     2   \n",
              "\n",
              "   X172  X173  X174  X175  X176  X177  X178  y  \n",
              "0   -31   -77  -103  -127  -116   -83   -51  4  \n",
              "1   146   152   157   156   154   143   129  1  \n",
              "2    48    19   -12   -30   -35   -35   -36  5  \n",
              "3   -80   -77   -85   -77   -72   -69   -65  5  \n",
              "4   -12   -32   -41   -65   -83   -89   -73  5  \n",
              "\n",
              "[5 rows x 180 columns]"
            ],
            "text/html": [
              "\n",
              "  <div id=\"df-a9b29393-6b59-454f-b85f-faa9cd886f97\" class=\"colab-df-container\">\n",
              "    <div>\n",
              "<style scoped>\n",
              "    .dataframe tbody tr th:only-of-type {\n",
              "        vertical-align: middle;\n",
              "    }\n",
              "\n",
              "    .dataframe tbody tr th {\n",
              "        vertical-align: top;\n",
              "    }\n",
              "\n",
              "    .dataframe thead th {\n",
              "        text-align: right;\n",
              "    }\n",
              "</style>\n",
              "<table border=\"1\" class=\"dataframe\">\n",
              "  <thead>\n",
              "    <tr style=\"text-align: right;\">\n",
              "      <th></th>\n",
              "      <th>Unnamed</th>\n",
              "      <th>X1</th>\n",
              "      <th>X2</th>\n",
              "      <th>X3</th>\n",
              "      <th>X4</th>\n",
              "      <th>X5</th>\n",
              "      <th>X6</th>\n",
              "      <th>X7</th>\n",
              "      <th>X8</th>\n",
              "      <th>X9</th>\n",
              "      <th>...</th>\n",
              "      <th>X170</th>\n",
              "      <th>X171</th>\n",
              "      <th>X172</th>\n",
              "      <th>X173</th>\n",
              "      <th>X174</th>\n",
              "      <th>X175</th>\n",
              "      <th>X176</th>\n",
              "      <th>X177</th>\n",
              "      <th>X178</th>\n",
              "      <th>y</th>\n",
              "    </tr>\n",
              "  </thead>\n",
              "  <tbody>\n",
              "    <tr>\n",
              "      <th>0</th>\n",
              "      <td>X21.V1.791</td>\n",
              "      <td>135</td>\n",
              "      <td>190</td>\n",
              "      <td>229</td>\n",
              "      <td>223</td>\n",
              "      <td>192</td>\n",
              "      <td>125</td>\n",
              "      <td>55</td>\n",
              "      <td>-9</td>\n",
              "      <td>-33</td>\n",
              "      <td>...</td>\n",
              "      <td>-17</td>\n",
              "      <td>-15</td>\n",
              "      <td>-31</td>\n",
              "      <td>-77</td>\n",
              "      <td>-103</td>\n",
              "      <td>-127</td>\n",
              "      <td>-116</td>\n",
              "      <td>-83</td>\n",
              "      <td>-51</td>\n",
              "      <td>4</td>\n",
              "    </tr>\n",
              "    <tr>\n",
              "      <th>1</th>\n",
              "      <td>X15.V1.924</td>\n",
              "      <td>386</td>\n",
              "      <td>382</td>\n",
              "      <td>356</td>\n",
              "      <td>331</td>\n",
              "      <td>320</td>\n",
              "      <td>315</td>\n",
              "      <td>307</td>\n",
              "      <td>272</td>\n",
              "      <td>244</td>\n",
              "      <td>...</td>\n",
              "      <td>164</td>\n",
              "      <td>150</td>\n",
              "      <td>146</td>\n",
              "      <td>152</td>\n",
              "      <td>157</td>\n",
              "      <td>156</td>\n",
              "      <td>154</td>\n",
              "      <td>143</td>\n",
              "      <td>129</td>\n",
              "      <td>1</td>\n",
              "    </tr>\n",
              "    <tr>\n",
              "      <th>2</th>\n",
              "      <td>X8.V1.1</td>\n",
              "      <td>-32</td>\n",
              "      <td>-39</td>\n",
              "      <td>-47</td>\n",
              "      <td>-37</td>\n",
              "      <td>-32</td>\n",
              "      <td>-36</td>\n",
              "      <td>-57</td>\n",
              "      <td>-73</td>\n",
              "      <td>-85</td>\n",
              "      <td>...</td>\n",
              "      <td>57</td>\n",
              "      <td>64</td>\n",
              "      <td>48</td>\n",
              "      <td>19</td>\n",
              "      <td>-12</td>\n",
              "      <td>-30</td>\n",
              "      <td>-35</td>\n",
              "      <td>-35</td>\n",
              "      <td>-36</td>\n",
              "      <td>5</td>\n",
              "    </tr>\n",
              "    <tr>\n",
              "      <th>3</th>\n",
              "      <td>X16.V1.60</td>\n",
              "      <td>-105</td>\n",
              "      <td>-101</td>\n",
              "      <td>-96</td>\n",
              "      <td>-92</td>\n",
              "      <td>-89</td>\n",
              "      <td>-95</td>\n",
              "      <td>-102</td>\n",
              "      <td>-100</td>\n",
              "      <td>-87</td>\n",
              "      <td>...</td>\n",
              "      <td>-82</td>\n",
              "      <td>-81</td>\n",
              "      <td>-80</td>\n",
              "      <td>-77</td>\n",
              "      <td>-85</td>\n",
              "      <td>-77</td>\n",
              "      <td>-72</td>\n",
              "      <td>-69</td>\n",
              "      <td>-65</td>\n",
              "      <td>5</td>\n",
              "    </tr>\n",
              "    <tr>\n",
              "      <th>4</th>\n",
              "      <td>X20.V1.54</td>\n",
              "      <td>-9</td>\n",
              "      <td>-65</td>\n",
              "      <td>-98</td>\n",
              "      <td>-102</td>\n",
              "      <td>-78</td>\n",
              "      <td>-48</td>\n",
              "      <td>-16</td>\n",
              "      <td>0</td>\n",
              "      <td>-21</td>\n",
              "      <td>...</td>\n",
              "      <td>4</td>\n",
              "      <td>2</td>\n",
              "      <td>-12</td>\n",
              "      <td>-32</td>\n",
              "      <td>-41</td>\n",
              "      <td>-65</td>\n",
              "      <td>-83</td>\n",
              "      <td>-89</td>\n",
              "      <td>-73</td>\n",
              "      <td>5</td>\n",
              "    </tr>\n",
              "  </tbody>\n",
              "</table>\n",
              "<p>5 rows × 180 columns</p>\n",
              "</div>\n",
              "    <div class=\"colab-df-buttons\">\n",
              "\n",
              "  <div class=\"colab-df-container\">\n",
              "    <button class=\"colab-df-convert\" onclick=\"convertToInteractive('df-a9b29393-6b59-454f-b85f-faa9cd886f97')\"\n",
              "            title=\"Convert this dataframe to an interactive table.\"\n",
              "            style=\"display:none;\">\n",
              "\n",
              "  <svg xmlns=\"http://www.w3.org/2000/svg\" height=\"24px\" viewBox=\"0 -960 960 960\">\n",
              "    <path d=\"M120-120v-720h720v720H120Zm60-500h600v-160H180v160Zm220 220h160v-160H400v160Zm0 220h160v-160H400v160ZM180-400h160v-160H180v160Zm440 0h160v-160H620v160ZM180-180h160v-160H180v160Zm440 0h160v-160H620v160Z\"/>\n",
              "  </svg>\n",
              "    </button>\n",
              "\n",
              "  <style>\n",
              "    .colab-df-container {\n",
              "      display:flex;\n",
              "      gap: 12px;\n",
              "    }\n",
              "\n",
              "    .colab-df-convert {\n",
              "      background-color: #E8F0FE;\n",
              "      border: none;\n",
              "      border-radius: 50%;\n",
              "      cursor: pointer;\n",
              "      display: none;\n",
              "      fill: #1967D2;\n",
              "      height: 32px;\n",
              "      padding: 0 0 0 0;\n",
              "      width: 32px;\n",
              "    }\n",
              "\n",
              "    .colab-df-convert:hover {\n",
              "      background-color: #E2EBFA;\n",
              "      box-shadow: 0px 1px 2px rgba(60, 64, 67, 0.3), 0px 1px 3px 1px rgba(60, 64, 67, 0.15);\n",
              "      fill: #174EA6;\n",
              "    }\n",
              "\n",
              "    .colab-df-buttons div {\n",
              "      margin-bottom: 4px;\n",
              "    }\n",
              "\n",
              "    [theme=dark] .colab-df-convert {\n",
              "      background-color: #3B4455;\n",
              "      fill: #D2E3FC;\n",
              "    }\n",
              "\n",
              "    [theme=dark] .colab-df-convert:hover {\n",
              "      background-color: #434B5C;\n",
              "      box-shadow: 0px 1px 3px 1px rgba(0, 0, 0, 0.15);\n",
              "      filter: drop-shadow(0px 1px 2px rgba(0, 0, 0, 0.3));\n",
              "      fill: #FFFFFF;\n",
              "    }\n",
              "  </style>\n",
              "\n",
              "    <script>\n",
              "      const buttonEl =\n",
              "        document.querySelector('#df-a9b29393-6b59-454f-b85f-faa9cd886f97 button.colab-df-convert');\n",
              "      buttonEl.style.display =\n",
              "        google.colab.kernel.accessAllowed ? 'block' : 'none';\n",
              "\n",
              "      async function convertToInteractive(key) {\n",
              "        const element = document.querySelector('#df-a9b29393-6b59-454f-b85f-faa9cd886f97');\n",
              "        const dataTable =\n",
              "          await google.colab.kernel.invokeFunction('convertToInteractive',\n",
              "                                                    [key], {});\n",
              "        if (!dataTable) return;\n",
              "\n",
              "        const docLinkHtml = 'Like what you see? Visit the ' +\n",
              "          '<a target=\"_blank\" href=https://colab.research.google.com/notebooks/data_table.ipynb>data table notebook</a>'\n",
              "          + ' to learn more about interactive tables.';\n",
              "        element.innerHTML = '';\n",
              "        dataTable['output_type'] = 'display_data';\n",
              "        await google.colab.output.renderOutput(dataTable, element);\n",
              "        const docLink = document.createElement('div');\n",
              "        docLink.innerHTML = docLinkHtml;\n",
              "        element.appendChild(docLink);\n",
              "      }\n",
              "    </script>\n",
              "  </div>\n",
              "\n",
              "\n",
              "<div id=\"df-9be99f78-b898-49fd-ab78-f0ffc158f28e\">\n",
              "  <button class=\"colab-df-quickchart\" onclick=\"quickchart('df-9be99f78-b898-49fd-ab78-f0ffc158f28e')\"\n",
              "            title=\"Suggest charts\"\n",
              "            style=\"display:none;\">\n",
              "\n",
              "<svg xmlns=\"http://www.w3.org/2000/svg\" height=\"24px\"viewBox=\"0 0 24 24\"\n",
              "     width=\"24px\">\n",
              "    <g>\n",
              "        <path d=\"M19 3H5c-1.1 0-2 .9-2 2v14c0 1.1.9 2 2 2h14c1.1 0 2-.9 2-2V5c0-1.1-.9-2-2-2zM9 17H7v-7h2v7zm4 0h-2V7h2v10zm4 0h-2v-4h2v4z\"/>\n",
              "    </g>\n",
              "</svg>\n",
              "  </button>\n",
              "\n",
              "<style>\n",
              "  .colab-df-quickchart {\n",
              "      --bg-color: #E8F0FE;\n",
              "      --fill-color: #1967D2;\n",
              "      --hover-bg-color: #E2EBFA;\n",
              "      --hover-fill-color: #174EA6;\n",
              "      --disabled-fill-color: #AAA;\n",
              "      --disabled-bg-color: #DDD;\n",
              "  }\n",
              "\n",
              "  [theme=dark] .colab-df-quickchart {\n",
              "      --bg-color: #3B4455;\n",
              "      --fill-color: #D2E3FC;\n",
              "      --hover-bg-color: #434B5C;\n",
              "      --hover-fill-color: #FFFFFF;\n",
              "      --disabled-bg-color: #3B4455;\n",
              "      --disabled-fill-color: #666;\n",
              "  }\n",
              "\n",
              "  .colab-df-quickchart {\n",
              "    background-color: var(--bg-color);\n",
              "    border: none;\n",
              "    border-radius: 50%;\n",
              "    cursor: pointer;\n",
              "    display: none;\n",
              "    fill: var(--fill-color);\n",
              "    height: 32px;\n",
              "    padding: 0;\n",
              "    width: 32px;\n",
              "  }\n",
              "\n",
              "  .colab-df-quickchart:hover {\n",
              "    background-color: var(--hover-bg-color);\n",
              "    box-shadow: 0 1px 2px rgba(60, 64, 67, 0.3), 0 1px 3px 1px rgba(60, 64, 67, 0.15);\n",
              "    fill: var(--button-hover-fill-color);\n",
              "  }\n",
              "\n",
              "  .colab-df-quickchart-complete:disabled,\n",
              "  .colab-df-quickchart-complete:disabled:hover {\n",
              "    background-color: var(--disabled-bg-color);\n",
              "    fill: var(--disabled-fill-color);\n",
              "    box-shadow: none;\n",
              "  }\n",
              "\n",
              "  .colab-df-spinner {\n",
              "    border: 2px solid var(--fill-color);\n",
              "    border-color: transparent;\n",
              "    border-bottom-color: var(--fill-color);\n",
              "    animation:\n",
              "      spin 1s steps(1) infinite;\n",
              "  }\n",
              "\n",
              "  @keyframes spin {\n",
              "    0% {\n",
              "      border-color: transparent;\n",
              "      border-bottom-color: var(--fill-color);\n",
              "      border-left-color: var(--fill-color);\n",
              "    }\n",
              "    20% {\n",
              "      border-color: transparent;\n",
              "      border-left-color: var(--fill-color);\n",
              "      border-top-color: var(--fill-color);\n",
              "    }\n",
              "    30% {\n",
              "      border-color: transparent;\n",
              "      border-left-color: var(--fill-color);\n",
              "      border-top-color: var(--fill-color);\n",
              "      border-right-color: var(--fill-color);\n",
              "    }\n",
              "    40% {\n",
              "      border-color: transparent;\n",
              "      border-right-color: var(--fill-color);\n",
              "      border-top-color: var(--fill-color);\n",
              "    }\n",
              "    60% {\n",
              "      border-color: transparent;\n",
              "      border-right-color: var(--fill-color);\n",
              "    }\n",
              "    80% {\n",
              "      border-color: transparent;\n",
              "      border-right-color: var(--fill-color);\n",
              "      border-bottom-color: var(--fill-color);\n",
              "    }\n",
              "    90% {\n",
              "      border-color: transparent;\n",
              "      border-bottom-color: var(--fill-color);\n",
              "    }\n",
              "  }\n",
              "</style>\n",
              "\n",
              "  <script>\n",
              "    async function quickchart(key) {\n",
              "      const quickchartButtonEl =\n",
              "        document.querySelector('#' + key + ' button');\n",
              "      quickchartButtonEl.disabled = true;  // To prevent multiple clicks.\n",
              "      quickchartButtonEl.classList.add('colab-df-spinner');\n",
              "      try {\n",
              "        const charts = await google.colab.kernel.invokeFunction(\n",
              "            'suggestCharts', [key], {});\n",
              "      } catch (error) {\n",
              "        console.error('Error during call to suggestCharts:', error);\n",
              "      }\n",
              "      quickchartButtonEl.classList.remove('colab-df-spinner');\n",
              "      quickchartButtonEl.classList.add('colab-df-quickchart-complete');\n",
              "    }\n",
              "    (() => {\n",
              "      let quickchartButtonEl =\n",
              "        document.querySelector('#df-9be99f78-b898-49fd-ab78-f0ffc158f28e button');\n",
              "      quickchartButtonEl.style.display =\n",
              "        google.colab.kernel.accessAllowed ? 'block' : 'none';\n",
              "    })();\n",
              "  </script>\n",
              "</div>\n",
              "\n",
              "    </div>\n",
              "  </div>\n"
            ],
            "application/vnd.google.colaboratory.intrinsic+json": {
              "type": "dataframe",
              "variable_name": "Data1"
            }
          },
          "metadata": {},
          "execution_count": 5
        }
      ],
      "source": [
        "Data1.head(5)"
      ]
    },
    {
      "cell_type": "code",
      "execution_count": null,
      "metadata": {
        "colab": {
          "base_uri": "https://localhost:8080/",
          "height": 349
        },
        "id": "aHcWUFqHMKUz",
        "outputId": "32d79e41-f47e-44a7-bad5-b21d8ba3e29c"
      },
      "outputs": [
        {
          "output_type": "execute_result",
          "data": {
            "text/plain": [
              "                X1           X2           X3           X4           X5  \\\n",
              "count  5999.000000  5999.000000  5999.000000  5999.000000  5999.000000   \n",
              "mean     -9.846808    -9.453076    -9.762627   -10.219870   -10.541257   \n",
              "std     165.943754   166.722745   164.038366   160.989677   160.065449   \n",
              "min   -1741.000000 -1615.000000 -1741.000000 -1630.000000 -1755.000000   \n",
              "25%     -54.000000   -55.000000   -55.000000   -56.000000   -55.000000   \n",
              "50%      -8.000000    -8.000000    -8.000000    -8.000000    -9.000000   \n",
              "75%      35.000000    36.000000    36.000000    35.000000    34.000000   \n",
              "max    1291.000000  1356.000000  1274.000000  1167.000000  1244.000000   \n",
              "\n",
              "                X6           X7           X8           X9          X10  ...  \\\n",
              "count  5999.000000  5999.000000  5999.000000  5999.000000  5999.000000  ...   \n",
              "mean    -10.108851    -9.364894    -8.700783    -7.931489    -7.242374  ...   \n",
              "std     159.762113   158.927158   158.554358   156.956044   155.737648  ...   \n",
              "min   -1757.000000 -1832.000000 -1778.000000 -1840.000000 -1592.000000  ...   \n",
              "25%     -55.000000   -55.500000   -56.000000   -56.000000   -55.000000  ...   \n",
              "50%     -10.000000    -9.000000    -9.000000    -9.000000    -8.000000  ...   \n",
              "75%      34.000000    35.000000    35.000000    35.500000    35.000000  ...   \n",
              "max    1244.000000  1310.000000  1238.000000  1381.000000  1502.000000  ...   \n",
              "\n",
              "             X170         X171         X172         X173         X174  \\\n",
              "count  5999.00000  5999.000000  5999.000000  5999.000000  5999.000000   \n",
              "mean    -11.33939   -12.626604   -13.495249   -13.765794   -12.734122   \n",
              "std     162.97870   163.206928   165.263802   165.977664   166.489394   \n",
              "min   -1867.00000 -1865.000000 -1642.000000 -1723.000000 -1620.000000   \n",
              "25%     -54.00000   -55.000000   -56.000000   -57.000000   -56.000000   \n",
              "50%      -8.00000    -9.000000   -10.000000   -10.000000   -10.000000   \n",
              "75%      34.00000    33.000000    33.000000    34.000000    34.000000   \n",
              "max    1419.00000  1306.000000  1124.000000  1436.000000  1733.000000   \n",
              "\n",
              "              X175         X176         X177         X178            y  \n",
              "count  5999.000000  5999.000000  5999.000000  5999.000000  5999.000000  \n",
              "mean    -11.946658   -11.555426   -11.586931   -11.967161     2.996666  \n",
              "std     165.193110   164.091303   165.179994   168.104148     1.406881  \n",
              "min   -1642.000000 -1781.000000 -1727.000000 -1829.000000     1.000000  \n",
              "25%     -56.000000   -56.000000   -54.000000   -56.000000     2.000000  \n",
              "50%      -9.000000    -8.000000    -9.000000    -9.000000     3.000000  \n",
              "75%      34.000000    34.000000    35.000000    34.000000     4.000000  \n",
              "max    1958.000000  2047.000000  2047.000000  1915.000000     5.000000  \n",
              "\n",
              "[8 rows x 179 columns]"
            ],
            "text/html": [
              "\n",
              "  <div id=\"df-ce753858-7f8f-4473-83e8-5688bef8744b\" class=\"colab-df-container\">\n",
              "    <div>\n",
              "<style scoped>\n",
              "    .dataframe tbody tr th:only-of-type {\n",
              "        vertical-align: middle;\n",
              "    }\n",
              "\n",
              "    .dataframe tbody tr th {\n",
              "        vertical-align: top;\n",
              "    }\n",
              "\n",
              "    .dataframe thead th {\n",
              "        text-align: right;\n",
              "    }\n",
              "</style>\n",
              "<table border=\"1\" class=\"dataframe\">\n",
              "  <thead>\n",
              "    <tr style=\"text-align: right;\">\n",
              "      <th></th>\n",
              "      <th>X1</th>\n",
              "      <th>X2</th>\n",
              "      <th>X3</th>\n",
              "      <th>X4</th>\n",
              "      <th>X5</th>\n",
              "      <th>X6</th>\n",
              "      <th>X7</th>\n",
              "      <th>X8</th>\n",
              "      <th>X9</th>\n",
              "      <th>X10</th>\n",
              "      <th>...</th>\n",
              "      <th>X170</th>\n",
              "      <th>X171</th>\n",
              "      <th>X172</th>\n",
              "      <th>X173</th>\n",
              "      <th>X174</th>\n",
              "      <th>X175</th>\n",
              "      <th>X176</th>\n",
              "      <th>X177</th>\n",
              "      <th>X178</th>\n",
              "      <th>y</th>\n",
              "    </tr>\n",
              "  </thead>\n",
              "  <tbody>\n",
              "    <tr>\n",
              "      <th>count</th>\n",
              "      <td>5999.000000</td>\n",
              "      <td>5999.000000</td>\n",
              "      <td>5999.000000</td>\n",
              "      <td>5999.000000</td>\n",
              "      <td>5999.000000</td>\n",
              "      <td>5999.000000</td>\n",
              "      <td>5999.000000</td>\n",
              "      <td>5999.000000</td>\n",
              "      <td>5999.000000</td>\n",
              "      <td>5999.000000</td>\n",
              "      <td>...</td>\n",
              "      <td>5999.00000</td>\n",
              "      <td>5999.000000</td>\n",
              "      <td>5999.000000</td>\n",
              "      <td>5999.000000</td>\n",
              "      <td>5999.000000</td>\n",
              "      <td>5999.000000</td>\n",
              "      <td>5999.000000</td>\n",
              "      <td>5999.000000</td>\n",
              "      <td>5999.000000</td>\n",
              "      <td>5999.000000</td>\n",
              "    </tr>\n",
              "    <tr>\n",
              "      <th>mean</th>\n",
              "      <td>-9.846808</td>\n",
              "      <td>-9.453076</td>\n",
              "      <td>-9.762627</td>\n",
              "      <td>-10.219870</td>\n",
              "      <td>-10.541257</td>\n",
              "      <td>-10.108851</td>\n",
              "      <td>-9.364894</td>\n",
              "      <td>-8.700783</td>\n",
              "      <td>-7.931489</td>\n",
              "      <td>-7.242374</td>\n",
              "      <td>...</td>\n",
              "      <td>-11.33939</td>\n",
              "      <td>-12.626604</td>\n",
              "      <td>-13.495249</td>\n",
              "      <td>-13.765794</td>\n",
              "      <td>-12.734122</td>\n",
              "      <td>-11.946658</td>\n",
              "      <td>-11.555426</td>\n",
              "      <td>-11.586931</td>\n",
              "      <td>-11.967161</td>\n",
              "      <td>2.996666</td>\n",
              "    </tr>\n",
              "    <tr>\n",
              "      <th>std</th>\n",
              "      <td>165.943754</td>\n",
              "      <td>166.722745</td>\n",
              "      <td>164.038366</td>\n",
              "      <td>160.989677</td>\n",
              "      <td>160.065449</td>\n",
              "      <td>159.762113</td>\n",
              "      <td>158.927158</td>\n",
              "      <td>158.554358</td>\n",
              "      <td>156.956044</td>\n",
              "      <td>155.737648</td>\n",
              "      <td>...</td>\n",
              "      <td>162.97870</td>\n",
              "      <td>163.206928</td>\n",
              "      <td>165.263802</td>\n",
              "      <td>165.977664</td>\n",
              "      <td>166.489394</td>\n",
              "      <td>165.193110</td>\n",
              "      <td>164.091303</td>\n",
              "      <td>165.179994</td>\n",
              "      <td>168.104148</td>\n",
              "      <td>1.406881</td>\n",
              "    </tr>\n",
              "    <tr>\n",
              "      <th>min</th>\n",
              "      <td>-1741.000000</td>\n",
              "      <td>-1615.000000</td>\n",
              "      <td>-1741.000000</td>\n",
              "      <td>-1630.000000</td>\n",
              "      <td>-1755.000000</td>\n",
              "      <td>-1757.000000</td>\n",
              "      <td>-1832.000000</td>\n",
              "      <td>-1778.000000</td>\n",
              "      <td>-1840.000000</td>\n",
              "      <td>-1592.000000</td>\n",
              "      <td>...</td>\n",
              "      <td>-1867.00000</td>\n",
              "      <td>-1865.000000</td>\n",
              "      <td>-1642.000000</td>\n",
              "      <td>-1723.000000</td>\n",
              "      <td>-1620.000000</td>\n",
              "      <td>-1642.000000</td>\n",
              "      <td>-1781.000000</td>\n",
              "      <td>-1727.000000</td>\n",
              "      <td>-1829.000000</td>\n",
              "      <td>1.000000</td>\n",
              "    </tr>\n",
              "    <tr>\n",
              "      <th>25%</th>\n",
              "      <td>-54.000000</td>\n",
              "      <td>-55.000000</td>\n",
              "      <td>-55.000000</td>\n",
              "      <td>-56.000000</td>\n",
              "      <td>-55.000000</td>\n",
              "      <td>-55.000000</td>\n",
              "      <td>-55.500000</td>\n",
              "      <td>-56.000000</td>\n",
              "      <td>-56.000000</td>\n",
              "      <td>-55.000000</td>\n",
              "      <td>...</td>\n",
              "      <td>-54.00000</td>\n",
              "      <td>-55.000000</td>\n",
              "      <td>-56.000000</td>\n",
              "      <td>-57.000000</td>\n",
              "      <td>-56.000000</td>\n",
              "      <td>-56.000000</td>\n",
              "      <td>-56.000000</td>\n",
              "      <td>-54.000000</td>\n",
              "      <td>-56.000000</td>\n",
              "      <td>2.000000</td>\n",
              "    </tr>\n",
              "    <tr>\n",
              "      <th>50%</th>\n",
              "      <td>-8.000000</td>\n",
              "      <td>-8.000000</td>\n",
              "      <td>-8.000000</td>\n",
              "      <td>-8.000000</td>\n",
              "      <td>-9.000000</td>\n",
              "      <td>-10.000000</td>\n",
              "      <td>-9.000000</td>\n",
              "      <td>-9.000000</td>\n",
              "      <td>-9.000000</td>\n",
              "      <td>-8.000000</td>\n",
              "      <td>...</td>\n",
              "      <td>-8.00000</td>\n",
              "      <td>-9.000000</td>\n",
              "      <td>-10.000000</td>\n",
              "      <td>-10.000000</td>\n",
              "      <td>-10.000000</td>\n",
              "      <td>-9.000000</td>\n",
              "      <td>-8.000000</td>\n",
              "      <td>-9.000000</td>\n",
              "      <td>-9.000000</td>\n",
              "      <td>3.000000</td>\n",
              "    </tr>\n",
              "    <tr>\n",
              "      <th>75%</th>\n",
              "      <td>35.000000</td>\n",
              "      <td>36.000000</td>\n",
              "      <td>36.000000</td>\n",
              "      <td>35.000000</td>\n",
              "      <td>34.000000</td>\n",
              "      <td>34.000000</td>\n",
              "      <td>35.000000</td>\n",
              "      <td>35.000000</td>\n",
              "      <td>35.500000</td>\n",
              "      <td>35.000000</td>\n",
              "      <td>...</td>\n",
              "      <td>34.00000</td>\n",
              "      <td>33.000000</td>\n",
              "      <td>33.000000</td>\n",
              "      <td>34.000000</td>\n",
              "      <td>34.000000</td>\n",
              "      <td>34.000000</td>\n",
              "      <td>34.000000</td>\n",
              "      <td>35.000000</td>\n",
              "      <td>34.000000</td>\n",
              "      <td>4.000000</td>\n",
              "    </tr>\n",
              "    <tr>\n",
              "      <th>max</th>\n",
              "      <td>1291.000000</td>\n",
              "      <td>1356.000000</td>\n",
              "      <td>1274.000000</td>\n",
              "      <td>1167.000000</td>\n",
              "      <td>1244.000000</td>\n",
              "      <td>1244.000000</td>\n",
              "      <td>1310.000000</td>\n",
              "      <td>1238.000000</td>\n",
              "      <td>1381.000000</td>\n",
              "      <td>1502.000000</td>\n",
              "      <td>...</td>\n",
              "      <td>1419.00000</td>\n",
              "      <td>1306.000000</td>\n",
              "      <td>1124.000000</td>\n",
              "      <td>1436.000000</td>\n",
              "      <td>1733.000000</td>\n",
              "      <td>1958.000000</td>\n",
              "      <td>2047.000000</td>\n",
              "      <td>2047.000000</td>\n",
              "      <td>1915.000000</td>\n",
              "      <td>5.000000</td>\n",
              "    </tr>\n",
              "  </tbody>\n",
              "</table>\n",
              "<p>8 rows × 179 columns</p>\n",
              "</div>\n",
              "    <div class=\"colab-df-buttons\">\n",
              "\n",
              "  <div class=\"colab-df-container\">\n",
              "    <button class=\"colab-df-convert\" onclick=\"convertToInteractive('df-ce753858-7f8f-4473-83e8-5688bef8744b')\"\n",
              "            title=\"Convert this dataframe to an interactive table.\"\n",
              "            style=\"display:none;\">\n",
              "\n",
              "  <svg xmlns=\"http://www.w3.org/2000/svg\" height=\"24px\" viewBox=\"0 -960 960 960\">\n",
              "    <path d=\"M120-120v-720h720v720H120Zm60-500h600v-160H180v160Zm220 220h160v-160H400v160Zm0 220h160v-160H400v160ZM180-400h160v-160H180v160Zm440 0h160v-160H620v160ZM180-180h160v-160H180v160Zm440 0h160v-160H620v160Z\"/>\n",
              "  </svg>\n",
              "    </button>\n",
              "\n",
              "  <style>\n",
              "    .colab-df-container {\n",
              "      display:flex;\n",
              "      gap: 12px;\n",
              "    }\n",
              "\n",
              "    .colab-df-convert {\n",
              "      background-color: #E8F0FE;\n",
              "      border: none;\n",
              "      border-radius: 50%;\n",
              "      cursor: pointer;\n",
              "      display: none;\n",
              "      fill: #1967D2;\n",
              "      height: 32px;\n",
              "      padding: 0 0 0 0;\n",
              "      width: 32px;\n",
              "    }\n",
              "\n",
              "    .colab-df-convert:hover {\n",
              "      background-color: #E2EBFA;\n",
              "      box-shadow: 0px 1px 2px rgba(60, 64, 67, 0.3), 0px 1px 3px 1px rgba(60, 64, 67, 0.15);\n",
              "      fill: #174EA6;\n",
              "    }\n",
              "\n",
              "    .colab-df-buttons div {\n",
              "      margin-bottom: 4px;\n",
              "    }\n",
              "\n",
              "    [theme=dark] .colab-df-convert {\n",
              "      background-color: #3B4455;\n",
              "      fill: #D2E3FC;\n",
              "    }\n",
              "\n",
              "    [theme=dark] .colab-df-convert:hover {\n",
              "      background-color: #434B5C;\n",
              "      box-shadow: 0px 1px 3px 1px rgba(0, 0, 0, 0.15);\n",
              "      filter: drop-shadow(0px 1px 2px rgba(0, 0, 0, 0.3));\n",
              "      fill: #FFFFFF;\n",
              "    }\n",
              "  </style>\n",
              "\n",
              "    <script>\n",
              "      const buttonEl =\n",
              "        document.querySelector('#df-ce753858-7f8f-4473-83e8-5688bef8744b button.colab-df-convert');\n",
              "      buttonEl.style.display =\n",
              "        google.colab.kernel.accessAllowed ? 'block' : 'none';\n",
              "\n",
              "      async function convertToInteractive(key) {\n",
              "        const element = document.querySelector('#df-ce753858-7f8f-4473-83e8-5688bef8744b');\n",
              "        const dataTable =\n",
              "          await google.colab.kernel.invokeFunction('convertToInteractive',\n",
              "                                                    [key], {});\n",
              "        if (!dataTable) return;\n",
              "\n",
              "        const docLinkHtml = 'Like what you see? Visit the ' +\n",
              "          '<a target=\"_blank\" href=https://colab.research.google.com/notebooks/data_table.ipynb>data table notebook</a>'\n",
              "          + ' to learn more about interactive tables.';\n",
              "        element.innerHTML = '';\n",
              "        dataTable['output_type'] = 'display_data';\n",
              "        await google.colab.output.renderOutput(dataTable, element);\n",
              "        const docLink = document.createElement('div');\n",
              "        docLink.innerHTML = docLinkHtml;\n",
              "        element.appendChild(docLink);\n",
              "      }\n",
              "    </script>\n",
              "  </div>\n",
              "\n",
              "\n",
              "<div id=\"df-40aa8582-5894-4c83-934d-ef12559ce413\">\n",
              "  <button class=\"colab-df-quickchart\" onclick=\"quickchart('df-40aa8582-5894-4c83-934d-ef12559ce413')\"\n",
              "            title=\"Suggest charts\"\n",
              "            style=\"display:none;\">\n",
              "\n",
              "<svg xmlns=\"http://www.w3.org/2000/svg\" height=\"24px\"viewBox=\"0 0 24 24\"\n",
              "     width=\"24px\">\n",
              "    <g>\n",
              "        <path d=\"M19 3H5c-1.1 0-2 .9-2 2v14c0 1.1.9 2 2 2h14c1.1 0 2-.9 2-2V5c0-1.1-.9-2-2-2zM9 17H7v-7h2v7zm4 0h-2V7h2v10zm4 0h-2v-4h2v4z\"/>\n",
              "    </g>\n",
              "</svg>\n",
              "  </button>\n",
              "\n",
              "<style>\n",
              "  .colab-df-quickchart {\n",
              "      --bg-color: #E8F0FE;\n",
              "      --fill-color: #1967D2;\n",
              "      --hover-bg-color: #E2EBFA;\n",
              "      --hover-fill-color: #174EA6;\n",
              "      --disabled-fill-color: #AAA;\n",
              "      --disabled-bg-color: #DDD;\n",
              "  }\n",
              "\n",
              "  [theme=dark] .colab-df-quickchart {\n",
              "      --bg-color: #3B4455;\n",
              "      --fill-color: #D2E3FC;\n",
              "      --hover-bg-color: #434B5C;\n",
              "      --hover-fill-color: #FFFFFF;\n",
              "      --disabled-bg-color: #3B4455;\n",
              "      --disabled-fill-color: #666;\n",
              "  }\n",
              "\n",
              "  .colab-df-quickchart {\n",
              "    background-color: var(--bg-color);\n",
              "    border: none;\n",
              "    border-radius: 50%;\n",
              "    cursor: pointer;\n",
              "    display: none;\n",
              "    fill: var(--fill-color);\n",
              "    height: 32px;\n",
              "    padding: 0;\n",
              "    width: 32px;\n",
              "  }\n",
              "\n",
              "  .colab-df-quickchart:hover {\n",
              "    background-color: var(--hover-bg-color);\n",
              "    box-shadow: 0 1px 2px rgba(60, 64, 67, 0.3), 0 1px 3px 1px rgba(60, 64, 67, 0.15);\n",
              "    fill: var(--button-hover-fill-color);\n",
              "  }\n",
              "\n",
              "  .colab-df-quickchart-complete:disabled,\n",
              "  .colab-df-quickchart-complete:disabled:hover {\n",
              "    background-color: var(--disabled-bg-color);\n",
              "    fill: var(--disabled-fill-color);\n",
              "    box-shadow: none;\n",
              "  }\n",
              "\n",
              "  .colab-df-spinner {\n",
              "    border: 2px solid var(--fill-color);\n",
              "    border-color: transparent;\n",
              "    border-bottom-color: var(--fill-color);\n",
              "    animation:\n",
              "      spin 1s steps(1) infinite;\n",
              "  }\n",
              "\n",
              "  @keyframes spin {\n",
              "    0% {\n",
              "      border-color: transparent;\n",
              "      border-bottom-color: var(--fill-color);\n",
              "      border-left-color: var(--fill-color);\n",
              "    }\n",
              "    20% {\n",
              "      border-color: transparent;\n",
              "      border-left-color: var(--fill-color);\n",
              "      border-top-color: var(--fill-color);\n",
              "    }\n",
              "    30% {\n",
              "      border-color: transparent;\n",
              "      border-left-color: var(--fill-color);\n",
              "      border-top-color: var(--fill-color);\n",
              "      border-right-color: var(--fill-color);\n",
              "    }\n",
              "    40% {\n",
              "      border-color: transparent;\n",
              "      border-right-color: var(--fill-color);\n",
              "      border-top-color: var(--fill-color);\n",
              "    }\n",
              "    60% {\n",
              "      border-color: transparent;\n",
              "      border-right-color: var(--fill-color);\n",
              "    }\n",
              "    80% {\n",
              "      border-color: transparent;\n",
              "      border-right-color: var(--fill-color);\n",
              "      border-bottom-color: var(--fill-color);\n",
              "    }\n",
              "    90% {\n",
              "      border-color: transparent;\n",
              "      border-bottom-color: var(--fill-color);\n",
              "    }\n",
              "  }\n",
              "</style>\n",
              "\n",
              "  <script>\n",
              "    async function quickchart(key) {\n",
              "      const quickchartButtonEl =\n",
              "        document.querySelector('#' + key + ' button');\n",
              "      quickchartButtonEl.disabled = true;  // To prevent multiple clicks.\n",
              "      quickchartButtonEl.classList.add('colab-df-spinner');\n",
              "      try {\n",
              "        const charts = await google.colab.kernel.invokeFunction(\n",
              "            'suggestCharts', [key], {});\n",
              "      } catch (error) {\n",
              "        console.error('Error during call to suggestCharts:', error);\n",
              "      }\n",
              "      quickchartButtonEl.classList.remove('colab-df-spinner');\n",
              "      quickchartButtonEl.classList.add('colab-df-quickchart-complete');\n",
              "    }\n",
              "    (() => {\n",
              "      let quickchartButtonEl =\n",
              "        document.querySelector('#df-40aa8582-5894-4c83-934d-ef12559ce413 button');\n",
              "      quickchartButtonEl.style.display =\n",
              "        google.colab.kernel.accessAllowed ? 'block' : 'none';\n",
              "    })();\n",
              "  </script>\n",
              "</div>\n",
              "\n",
              "    </div>\n",
              "  </div>\n"
            ],
            "application/vnd.google.colaboratory.intrinsic+json": {
              "type": "dataframe"
            }
          },
          "metadata": {},
          "execution_count": 6
        }
      ],
      "source": [
        "Data1.describe()"
      ]
    },
    {
      "cell_type": "markdown",
      "metadata": {
        "id": "0xTbXduCQR7I"
      },
      "source": [
        "# **Preprocessing**"
      ]
    },
    {
      "cell_type": "code",
      "execution_count": null,
      "metadata": {
        "id": "kh9E3NulWUhh"
      },
      "outputs": [],
      "source": [
        "Data1.dropna(inplace=True)\n",
        "Data2.dropna(inplace=True)"
      ]
    },
    {
      "cell_type": "code",
      "execution_count": null,
      "metadata": {
        "id": "CscVQBrsTw36"
      },
      "outputs": [],
      "source": [
        "# Data.drop(columns='Unnamed', inplace=True)"
      ]
    },
    {
      "cell_type": "code",
      "execution_count": null,
      "metadata": {
        "id": "JOrOMrVAWJ-T"
      },
      "outputs": [],
      "source": [
        "Data1 = Data1.iloc[:,1:]\n",
        "Data2 = Data2.iloc[:,1:]"
      ]
    },
    {
      "cell_type": "code",
      "execution_count": null,
      "metadata": {
        "id": "hYTKqQAHW862"
      },
      "outputs": [],
      "source": [
        "Data1.fillna(Data1.mean(), inplace=True)\n",
        "Data2.fillna(Data2.mean(), inplace=True)"
      ]
    },
    {
      "cell_type": "markdown",
      "metadata": {
        "id": "_NbyctT-N1x3"
      },
      "source": [
        "# Remove the unnecessary features and assign to (X1) , labels to (y1)\n"
      ]
    },
    {
      "cell_type": "code",
      "execution_count": null,
      "metadata": {
        "id": "Jtj9VfqxNmrN"
      },
      "outputs": [],
      "source": [
        "X1 = Data1.iloc[:,:-1]\n",
        "X2 = Data2.iloc[:,:-1]"
      ]
    },
    {
      "cell_type": "code",
      "execution_count": null,
      "metadata": {
        "id": "_3tUnmL0Nmhl"
      },
      "outputs": [],
      "source": [
        "y1 = Data1.iloc[:,-1]\n",
        "y2 = Data2.iloc[:,-1]"
      ]
    },
    {
      "cell_type": "markdown",
      "metadata": {
        "id": "6dLg6Dwc85ir"
      },
      "source": [
        "# **Filters**"
      ]
    },
    {
      "cell_type": "code",
      "execution_count": null,
      "metadata": {
        "id": "_uXLssFD8-la"
      },
      "outputs": [],
      "source": [
        "from scipy.ndimage import gaussian_filter\n",
        "from scipy.signal import butter, filtfilt\n",
        "from scipy.signal import cheby1, filtfilt, bessel\n",
        "from scipy.signal import wiener\n",
        "from scipy.signal import butter, filtfilt\n",
        "import pywt"
      ]
    },
    {
      "cell_type": "markdown",
      "metadata": {
        "id": "OxFixQ8eVvlO"
      },
      "source": [
        "# Gaussian Butterworth filter"
      ]
    },
    {
      "cell_type": "code",
      "execution_count": null,
      "metadata": {
        "id": "mc08Q3qHNwHt"
      },
      "outputs": [],
      "source": [
        "def apply_gaussian_filter(data, sigma):\n",
        "    filtered_data = gaussian_filter(data, sigma=sigma)\n",
        "    return filtered_data\n",
        "\n",
        "def apply_butter_lowpass_filter(data, cutoff_freq, sampling_freq, order=5):\n",
        "    nyquist_freq = 0.5 * sampling_freq\n",
        "    normal_cutoff = cutoff_freq / nyquist_freq\n",
        "    b, a = butter(order, normal_cutoff, btype='low', analog=False)\n",
        "    filtered_data = filtfilt(b, a, data)\n",
        "    return filtered_data\n",
        "\n",
        "def calculate_snr(original_signal, noisy_signal):\n",
        "    noise = original_signal - noisy_signal\n",
        "    snr = 10 * np.log10(np.sum(original_signal**2) / np.sum(noise**2))\n",
        "    return snr"
      ]
    },
    {
      "cell_type": "code",
      "execution_count": null,
      "metadata": {
        "id": "jGuksSGbNzHd"
      },
      "outputs": [],
      "source": [
        "sigma = 2.0"
      ]
    },
    {
      "cell_type": "code",
      "execution_count": null,
      "metadata": {
        "id": "_FNgBsDDN0rV"
      },
      "outputs": [],
      "source": [
        "filtered_data_gaussian = apply_gaussian_filter(X1, sigma)"
      ]
    },
    {
      "cell_type": "code",
      "execution_count": null,
      "metadata": {
        "id": "4WW2AoH8N2EN"
      },
      "outputs": [],
      "source": [
        "cutoff_freq = 60\n",
        "sampling_freq = 256\n",
        "order = 2"
      ]
    },
    {
      "cell_type": "code",
      "execution_count": null,
      "metadata": {
        "id": "ipHBVKwFN5Hu"
      },
      "outputs": [],
      "source": [
        "filtered_data_butter = apply_butter_lowpass_filter(X1, cutoff_freq, sampling_freq, order)"
      ]
    },
    {
      "cell_type": "code",
      "execution_count": null,
      "metadata": {
        "id": "JEoW3sWTN6h3"
      },
      "outputs": [],
      "source": [
        "combined_filtered_data = (filtered_data_gaussian + filtered_data_butter) / 2"
      ]
    },
    {
      "cell_type": "code",
      "execution_count": null,
      "metadata": {
        "id": "mGukLY--N73O"
      },
      "outputs": [],
      "source": [
        "overall_snr_combined1 = calculate_snr(np.ravel(X1), np.ravel(combined_filtered_data))"
      ]
    },
    {
      "cell_type": "code",
      "execution_count": null,
      "metadata": {
        "colab": {
          "base_uri": "https://localhost:8080/"
        },
        "id": "iPDXMD3CVwOO",
        "outputId": "1f2172a0-0886-4518-a014-2178d17170d0"
      },
      "outputs": [
        {
          "output_type": "stream",
          "name": "stdout",
          "text": [
            "\n",
            "Overall Signal-to-Noise Ratio (SNR) for combined approach:\n",
            "7.06 dB\n"
          ]
        }
      ],
      "source": [
        "print(\"\\nOverall Signal-to-Noise Ratio (SNR) for combined approach:\")\n",
        "print(f\"{overall_snr_combined1:.2f} dB\")"
      ]
    },
    {
      "cell_type": "markdown",
      "metadata": {
        "id": "gM31pwaNb3tE"
      },
      "source": [
        "# Chebyshev wavelet_denoising filter"
      ]
    },
    {
      "cell_type": "code",
      "execution_count": null,
      "metadata": {
        "id": "KWFqgLH7fEeK"
      },
      "outputs": [],
      "source": [
        "def chebyshev_lowpass(cutoff_freq, sampling_freq, ripple_db, order=5):\n",
        "    nyquist_freq = 0.5 * sampling_freq\n",
        "    Wn = cutoff_freq / nyquist_freq\n",
        "    b, a = cheby1(order, ripple_db, Wn, btype='low', analog=False)\n",
        "    return b, a\n",
        "\n",
        "def apply_chebyshev_lowpass_filter(data, cutoff_freq, sampling_freq, ripple_db, order=5):\n",
        "    b, a = chebyshev_lowpass(cutoff_freq, sampling_freq, ripple_db, order=order)\n",
        "    filtered_data = filtfilt(b, a, data)\n",
        "    return filtered_data\n",
        "\n",
        "def apply_wavelet_denoising(data, wavelet, threshold):\n",
        "    coefficients = pywt.wavedec(data, wavelet)\n",
        "    coefficients = [pywt.threshold(c, threshold, mode='soft') for c in coefficients]\n",
        "    denoised_data = pywt.waverec(coefficients, wavelet)\n",
        "    return denoised_data\n",
        "\n",
        "def calculate_snr(original_signal, noisy_signal):\n",
        "    noise = original_signal - noisy_signal\n",
        "    snr = 10 * np.log10(np.sum(original_signal**2) / np.sum(noise**2))\n",
        "    return snr"
      ]
    },
    {
      "cell_type": "code",
      "execution_count": null,
      "metadata": {
        "id": "1NuALrmCfGVs"
      },
      "outputs": [],
      "source": [
        "cutoff_freq = 60\n",
        "sampling_freq = 256\n",
        "ripple_db = 0.5\n",
        "order = 4\n"
      ]
    },
    {
      "cell_type": "code",
      "execution_count": null,
      "metadata": {
        "id": "p0ImBkVWfHW7"
      },
      "outputs": [],
      "source": [
        "wavelet = 'db4'\n",
        "threshold = 1"
      ]
    },
    {
      "cell_type": "code",
      "execution_count": null,
      "metadata": {
        "id": "3k3j96sefIgM"
      },
      "outputs": [],
      "source": [
        "filtered_data_cheby = apply_chebyshev_lowpass_filter(X1, cutoff_freq, sampling_freq, ripple_db, order)"
      ]
    },
    {
      "cell_type": "code",
      "execution_count": null,
      "metadata": {
        "id": "cMMYtWQIfJsT"
      },
      "outputs": [],
      "source": [
        "denoised_data = apply_wavelet_denoising(filtered_data_cheby, wavelet, threshold)"
      ]
    },
    {
      "cell_type": "code",
      "execution_count": null,
      "metadata": {
        "id": "6NanO9zFfK4z"
      },
      "outputs": [],
      "source": [
        "overall_snr_combined2 = calculate_snr(np.ravel(X1), np.ravel(denoised_data))"
      ]
    },
    {
      "cell_type": "code",
      "execution_count": null,
      "metadata": {
        "colab": {
          "base_uri": "https://localhost:8080/"
        },
        "id": "3rIwtxYPPlxj",
        "outputId": "8cc769f3-331e-423d-a8c5-c5d3889b86e2"
      },
      "outputs": [
        {
          "output_type": "stream",
          "name": "stdout",
          "text": [
            "\n",
            "Overall Signal-to-Noise Ratio (SNR) after combined filtering:\n",
            "21.22 dB\n"
          ]
        }
      ],
      "source": [
        "print(\"\\nOverall Signal-to-Noise Ratio (SNR) after combined filtering:\")\n",
        "print(f\"{overall_snr_combined2:.2f} dB\")"
      ]
    },
    {
      "cell_type": "markdown",
      "metadata": {
        "id": "X8HS7_2uU1Ix"
      },
      "source": [
        "# Chebyshev Bessel Filter"
      ]
    },
    {
      "cell_type": "code",
      "execution_count": null,
      "metadata": {
        "id": "5y0wkBDHOEGH"
      },
      "outputs": [],
      "source": [
        "def apply_chebyshev_lowpass_filter(data, cutoff_freq, ripple_db, order):\n",
        "    nyquist_freq = 0.5 * sampling_freq\n",
        "    Wn = cutoff_freq / nyquist_freq\n",
        "    b, a = cheby1(order, ripple_db, Wn, btype='low', analog=False)\n",
        "    filtered_data_cheby = filtfilt(b, a, data)\n",
        "    return filtered_data_cheby\n",
        "\n",
        "def apply_bessel_lowpass_filter(data, cutoff_freq, order):\n",
        "    nyquist_freq = 0.5 * sampling_freq\n",
        "    Wn = cutoff_freq / nyquist_freq\n",
        "    b, a = bessel(order, Wn, btype='low', analog=False)\n",
        "    filtered_data_bessel = filtfilt(b, a, data)\n",
        "    return filtered_data_bessel"
      ]
    },
    {
      "cell_type": "code",
      "execution_count": null,
      "metadata": {
        "id": "6jZ7XoZ_ONYw"
      },
      "outputs": [],
      "source": [
        "cutoff_freq_cheby = 60\n",
        "ripple_db_cheby = 0.5\n",
        "order_cheby = 4\n",
        "order_bessel = 4"
      ]
    },
    {
      "cell_type": "code",
      "execution_count": null,
      "metadata": {
        "id": "ANugnGJFOQSY"
      },
      "outputs": [],
      "source": [
        "filtered_data_cheby = apply_chebyshev_lowpass_filter(X1, cutoff_freq_cheby, ripple_db_cheby, order_cheby)\n",
        "filtered_data_bessel = apply_bessel_lowpass_filter(X1, cutoff_freq, order_bessel)"
      ]
    },
    {
      "cell_type": "code",
      "execution_count": null,
      "metadata": {
        "id": "f69NDk-QOX2B"
      },
      "outputs": [],
      "source": [
        "combined_filtered_data = (filtered_data_cheby + filtered_data_bessel) / 2"
      ]
    },
    {
      "cell_type": "code",
      "execution_count": null,
      "metadata": {
        "id": "f7t6Pgl0OZLq"
      },
      "outputs": [],
      "source": [
        "overall_snr_combined3 = calculate_snr(np.ravel(X1), np.ravel(combined_filtered_data))\n"
      ]
    },
    {
      "cell_type": "code",
      "execution_count": null,
      "metadata": {
        "colab": {
          "base_uri": "https://localhost:8080/"
        },
        "id": "EkL-qwAjU11m",
        "outputId": "3ef599c2-878c-4d27-ab0d-967b1054dd4d"
      },
      "outputs": [
        {
          "output_type": "stream",
          "name": "stdout",
          "text": [
            "\n",
            "Overall Signal-to-Noise Ratio (SNR) for combined approach:\n",
            "22.37 dB\n"
          ]
        }
      ],
      "source": [
        "print(\"\\nOverall Signal-to-Noise Ratio (SNR) for combined approach:\")\n",
        "print(f\"{overall_snr_combined3:.2f} dB\")\n"
      ]
    },
    {
      "cell_type": "markdown",
      "metadata": {
        "id": "gdj7aqupT42z"
      },
      "source": [
        "# Daubechies Wiener filter"
      ]
    },
    {
      "cell_type": "code",
      "execution_count": null,
      "metadata": {
        "id": "Imj_M2xBOf_K"
      },
      "outputs": [],
      "source": [
        "filtered_data_wiener = wiener(X1)"
      ]
    },
    {
      "cell_type": "code",
      "execution_count": null,
      "metadata": {
        "id": "WvehjJ8yOiFi"
      },
      "outputs": [],
      "source": [
        "wavelet = 'db4'\n",
        "level = 3"
      ]
    },
    {
      "cell_type": "code",
      "execution_count": null,
      "metadata": {
        "id": "YuQAmas5Oltz"
      },
      "outputs": [],
      "source": [
        "coefficients = pywt.wavedec(filtered_data_wiener, wavelet, level=level)\n",
        "threshold = 1"
      ]
    },
    {
      "cell_type": "code",
      "execution_count": null,
      "metadata": {
        "id": "8jCEoeI3Ooje"
      },
      "outputs": [],
      "source": [
        "\n",
        "coefficients = [pywt.threshold(c, threshold, mode='soft') for c in coefficients]\n",
        "denoised_data = pywt.waverec(coefficients, wavelet)"
      ]
    },
    {
      "cell_type": "code",
      "execution_count": null,
      "metadata": {
        "id": "9lvkeiTqOqco"
      },
      "outputs": [],
      "source": [
        "overall_snr_combined4 = calculate_snr(np.ravel(X1), np.ravel(denoised_data))"
      ]
    },
    {
      "cell_type": "code",
      "execution_count": null,
      "metadata": {
        "colab": {
          "base_uri": "https://localhost:8080/"
        },
        "id": "sNOQ91pET4GS",
        "outputId": "835dfab4-aec0-496b-c3fb-93f73c442c85"
      },
      "outputs": [
        {
          "output_type": "stream",
          "name": "stdout",
          "text": [
            "\n",
            "Overall Signal-to-Noise Ratio (SNR) for combined approach:\n",
            "7.73 dB\n"
          ]
        }
      ],
      "source": [
        "print(\"\\nOverall Signal-to-Noise Ratio (SNR) for combined approach:\")\n",
        "print(f\"{overall_snr_combined4:.2f} dB\")"
      ]
    },
    {
      "cell_type": "markdown",
      "metadata": {
        "id": "HCKFmr_JCczt"
      },
      "source": [
        "# Butterworth Wavelet denoising filter"
      ]
    },
    {
      "cell_type": "code",
      "execution_count": null,
      "metadata": {
        "id": "ljxqxkIAZTap"
      },
      "outputs": [],
      "source": [
        "def butterworth_filter(data, cutoff_freq, sampling_freq, order=5):\n",
        "\n",
        "    nyquist_freq = 0.5 * sampling_freq\n",
        "    cutoff = cutoff_freq / nyquist_freq\n",
        "    b, a = butter(order, cutoff, btype='low', analog=False)\n",
        "    filtered_data = filtfilt(b, a, data)\n",
        "    return filtered_data"
      ]
    },
    {
      "cell_type": "code",
      "execution_count": null,
      "metadata": {
        "id": "XiyQTReyZU0x"
      },
      "outputs": [],
      "source": [
        "def wavelet_denoising(data, wavelet='db4', level=3):\n",
        "\n",
        "    coeffs = pywt.wavedec(data, wavelet, level=level)\n",
        "    threshold = 1\n",
        "    coeffs = [pywt.threshold(c, threshold, mode='soft') for c in coeffs]\n",
        "    denoised_data = pywt.waverec(coeffs, wavelet)\n",
        "    return denoised_data"
      ]
    },
    {
      "cell_type": "code",
      "execution_count": null,
      "metadata": {
        "id": "by2pjgWkZbhT"
      },
      "outputs": [],
      "source": [
        "def combine_filters(data, cutoff_freq, sampling_freq, wavelet='db4', level=3, order=5):\n",
        "\n",
        "    butter_filtered_data = butterworth_filter(data, cutoff_freq, sampling_freq, order)\n",
        "    combined_filtered_data = wavelet_denoising(butter_filtered_data, wavelet, level)\n",
        "    return combined_filtered_data"
      ]
    },
    {
      "cell_type": "code",
      "execution_count": null,
      "metadata": {
        "id": "9AavKwhBZCCE"
      },
      "outputs": [],
      "source": [
        "def calculate_snr(original_signal, noisy_signal):\n",
        "    noise = original_signal - noisy_signal\n",
        "    snr = 10 * np.log10(np.sum(original_signal*2) / np.sum(noise*2))\n",
        "    return snr"
      ]
    },
    {
      "cell_type": "code",
      "execution_count": null,
      "metadata": {
        "id": "aqX76CK9Zhei"
      },
      "outputs": [],
      "source": [
        "cutoff_freq = 40\n",
        "sampling_freq = 256\n",
        "wavelet = 'db4'\n",
        "level = 4\n",
        "order = 5"
      ]
    },
    {
      "cell_type": "code",
      "execution_count": null,
      "metadata": {
        "id": "gbnrjmPBZkMK"
      },
      "outputs": [],
      "source": [
        "filtered_data1 = combine_filters(X1, cutoff_freq, sampling_freq, wavelet, level, order)\n",
        "filtered_data2 = combine_filters(X2, cutoff_freq, sampling_freq, wavelet, level, order)"
      ]
    },
    {
      "cell_type": "code",
      "execution_count": null,
      "metadata": {
        "id": "Wzp_vkrUZCCE"
      },
      "outputs": [],
      "source": [
        "overall_snr_combined51 = calculate_snr(np.ravel(X1), np.ravel(filtered_data1))\n",
        "overall_snr_combined52 = calculate_snr(np.ravel(X2), np.ravel(filtered_data2))"
      ]
    },
    {
      "cell_type": "code",
      "execution_count": null,
      "metadata": {
        "colab": {
          "base_uri": "https://localhost:8080/"
        },
        "id": "SXAINBd3ZCCE",
        "outputId": "a8304637-f359-4429-f6da-7219a873df69"
      },
      "outputs": [
        {
          "output_type": "stream",
          "name": "stdout",
          "text": [
            "\n",
            "Overall Signal-to-Noise Ratio (SNR):\n",
            "24.11 dB\n"
          ]
        }
      ],
      "source": [
        "print(\"\\nOverall Signal-to-Noise Ratio (SNR):\")\n",
        "print(f\"{overall_snr_combined51:.2f} dB\")"
      ]
    },
    {
      "cell_type": "code",
      "execution_count": null,
      "metadata": {
        "colab": {
          "base_uri": "https://localhost:8080/"
        },
        "id": "kbonPs83YkvS",
        "outputId": "6d64134f-1047-45c4-b240-8bd33a089948"
      },
      "outputs": [
        {
          "output_type": "stream",
          "name": "stdout",
          "text": [
            "\n",
            "Overall Signal-to-Noise Ratio (SNR):\n",
            "23.57 dB\n"
          ]
        }
      ],
      "source": [
        "print(\"\\nOverall Signal-to-Noise Ratio (SNR):\")\n",
        "print(f\"{overall_snr_combined52:.2f} dB\")"
      ]
    },
    {
      "cell_type": "markdown",
      "metadata": {
        "id": "lx-VmiwDfuRX"
      },
      "source": [
        "# Visualization of filters"
      ]
    },
    {
      "cell_type": "code",
      "execution_count": null,
      "metadata": {
        "id": "i1zJ8gHZjfeT"
      },
      "outputs": [],
      "source": [
        "filters = ['Gaussian Butterworth', 'Chebyshev wavelet_denoising ', 'Chebyshev Bessel ','Daubechies Wiener ','Butterworth Wavelet denoising']\n",
        "snr_values = [overall_snr_combined1, overall_snr_combined2, overall_snr_combined3, overall_snr_combined4, overall_snr_combined51]\n",
        "colors = ['skyblue', 'salmon', 'lightgreen', 'gold', 'lightcoral']"
      ]
    },
    {
      "cell_type": "code",
      "execution_count": null,
      "metadata": {
        "colab": {
          "base_uri": "https://localhost:8080/",
          "height": 607
        },
        "id": "d3i9YlMxjjqU",
        "outputId": "8de7612e-52ba-4a31-d30f-fcd14e9c6b09"
      },
      "outputs": [
        {
          "output_type": "display_data",
          "data": {
            "text/plain": [
              "<Figure size 640x480 with 1 Axes>"
            ],
            "image/png": "[encoded data removed]"
          },
          "metadata": {}
        }
      ],
      "source": [
        "bars = plt.bar(filters, snr_values, color=colors)\n",
        "plt.xlabel('Filter')\n",
        "plt.ylabel('Signal-to-Noise Ratio (SNR) [dB]')\n",
        "plt.title('SNR Comparison of Different Filters')\n",
        "plt.grid(axis='y', linestyle='--', alpha=0.7)\n",
        "plt.ylim(0, max(snr_values) * 1.1)\n",
        "\n",
        "plt.xticks(rotation=40)\n",
        "\n",
        "legend_labels = ['Gaussian Butterworth', 'Chebyshev wavelet_denoising ', 'Chebyshev Bessel ','Daubechies Wiener ','Butterworth Wavelet denoising']\n",
        "legend_handles = [plt.Rectangle((0,0),1,1, color=color) for color in colors]\n",
        "plt.legend(legend_handles, legend_labels, loc='upper left')\n",
        "\n",
        "plt.subplots_adjust(left=0.1)\n",
        "\n",
        "plt.show()\n"
      ]
    },
    {
      "cell_type": "markdown",
      "metadata": {
        "id": "fug2gU6C3J8X"
      },
      "source": [
        "# Filtered data"
      ]
    },
    {
      "cell_type": "code",
      "execution_count": null,
      "metadata": {
        "colab": {
          "base_uri": "https://localhost:8080/"
        },
        "id": "F3INjKkSuntW",
        "outputId": "f67b270b-e50e-43bf-af3f-b66fe5fed431"
      },
      "outputs": [
        {
          "output_type": "execute_result",
          "data": {
            "text/plain": [
              "array([[ 134.64937122,  192.06145019,  224.68726805, ..., -113.089676  ,\n",
              "         -89.19842549,  -50.21701889],\n",
              "       [ 385.08493341,  365.71296447,  353.20669322, ...,  152.24005842,\n",
              "         143.74777469,  128.60331285],\n",
              "       [ -32.72723057,  -36.82632357,  -38.29484437, ...,  -38.08615055,\n",
              "         -40.4082585 ,  -35.32747647],\n",
              "       ...,\n",
              "       [ -74.62075565,  -62.24989338,  -56.37080485, ...,  -15.73532623,\n",
              "         -17.56312091,  -20.34029627],\n",
              "       [  18.52313185,   17.80695436,   16.11866285, ...,  -12.37342192,\n",
              "           3.94211549,   25.4882227 ],\n",
              "       [ 246.09165022,    9.31642213, -110.88006823, ...,  318.28073224,\n",
              "         386.79932953,  415.97389996]])"
            ]
          },
          "metadata": {},
          "execution_count": 52
        }
      ],
      "source": [
        "filtered_data1"
      ]
    },
    {
      "cell_type": "code",
      "execution_count": null,
      "metadata": {
        "colab": {
          "base_uri": "https://localhost:8080/",
          "height": 255
        },
        "id": "I7L_KJDTvjTB",
        "outputId": "b0b5e825-8a4e-4747-bc65-1d263a8a3c37"
      },
      "outputs": [
        {
          "output_type": "execute_result",
          "data": {
            "text/plain": [
              "           X1          X2          X3          X4          X5          X6  \\\n",
              "0  134.649371  192.061450  224.687268  223.929041  187.140368  123.253556   \n",
              "1  385.084933  365.712964  353.206693  343.605799  331.835558  313.498007   \n",
              "2  -32.727231  -36.826324  -38.294844  -38.090185  -39.567054  -43.389074   \n",
              "3 -103.635011  -96.942239  -93.865459  -92.643651  -93.435981  -97.402413   \n",
              "4   -8.640543  -63.459244  -96.121949 -101.176571  -79.329935  -42.292071   \n",
              "\n",
              "           X7          X8          X9         X10  ...        X169  \\\n",
              "0   56.315916   -0.466723  -33.493466  -36.517834  ...    5.047247   \n",
              "1  287.174379  258.494412  245.207077  251.749524  ...  163.576738   \n",
              "2  -53.298378  -69.139101  -82.004986  -91.971480  ...   25.574059   \n",
              "3  -97.733134  -94.352441  -88.239261  -78.553293  ...  -78.089610   \n",
              "4  -14.843670   -7.309788  -25.059656  -60.062989  ...    6.915764   \n",
              "\n",
              "         X170        X171        X172        X173        X174        X175  \\\n",
              "0   -0.364494  -15.594395  -43.676949  -74.027950 -103.646829 -118.657853   \n",
              "1  163.632665  158.476234  151.184701  148.532635  152.941568  154.242954   \n",
              "2   50.429666   59.268944   46.557196   22.955508   -6.947301  -29.546474   \n",
              "3  -80.809517  -81.799629  -80.715979  -79.667581  -78.162263  -75.831074   \n",
              "4    5.737049   -0.572334  -11.411746  -27.701968  -49.673112  -66.503836   \n",
              "\n",
              "         X176        X177        X178  \n",
              "0 -113.089676  -89.198425  -50.217019  \n",
              "1  152.240058  143.747775  128.603313  \n",
              "2  -38.086151  -40.408259  -35.327476  \n",
              "3  -72.931589  -69.306950  -64.961696  \n",
              "4  -77.442391  -79.303878  -72.669784  \n",
              "\n",
              "[5 rows x 178 columns]"
            ],
            "text/html": [
              "\n",
              "  <div id=\"df-28270322-4d82-4ec2-a6b3-9d84f5ae2723\" class=\"colab-df-container\">\n",
              "    <div>\n",
              "<style scoped>\n",
              "    .dataframe tbody tr th:only-of-type {\n",
              "        vertical-align: middle;\n",
              "    }\n",
              "\n",
              "    .dataframe tbody tr th {\n",
              "        vertical-align: top;\n",
              "    }\n",
              "\n",
              "    .dataframe thead th {\n",
              "        text-align: right;\n",
              "    }\n",
              "</style>\n",
              "<table border=\"1\" class=\"dataframe\">\n",
              "  <thead>\n",
              "    <tr style=\"text-align: right;\">\n",
              "      <th></th>\n",
              "      <th>X1</th>\n",
              "      <th>X2</th>\n",
              "      <th>X3</th>\n",
              "      <th>X4</th>\n",
              "      <th>X5</th>\n",
              "      <th>X6</th>\n",
              "      <th>X7</th>\n",
              "      <th>X8</th>\n",
              "      <th>X9</th>\n",
              "      <th>X10</th>\n",
              "      <th>...</th>\n",
              "      <th>X169</th>\n",
              "      <th>X170</th>\n",
              "      <th>X171</th>\n",
              "      <th>X172</th>\n",
              "      <th>X173</th>\n",
              "      <th>X174</th>\n",
              "      <th>X175</th>\n",
              "      <th>X176</th>\n",
              "      <th>X177</th>\n",
              "      <th>X178</th>\n",
              "    </tr>\n",
              "  </thead>\n",
              "  <tbody>\n",
              "    <tr>\n",
              "      <th>0</th>\n",
              "      <td>134.649371</td>\n",
              "      <td>192.061450</td>\n",
              "      <td>224.687268</td>\n",
              "      <td>223.929041</td>\n",
              "      <td>187.140368</td>\n",
              "      <td>123.253556</td>\n",
              "      <td>56.315916</td>\n",
              "      <td>-0.466723</td>\n",
              "      <td>-33.493466</td>\n",
              "      <td>-36.517834</td>\n",
              "      <td>...</td>\n",
              "      <td>5.047247</td>\n",
              "      <td>-0.364494</td>\n",
              "      <td>-15.594395</td>\n",
              "      <td>-43.676949</td>\n",
              "      <td>-74.027950</td>\n",
              "      <td>-103.646829</td>\n",
              "      <td>-118.657853</td>\n",
              "      <td>-113.089676</td>\n",
              "      <td>-89.198425</td>\n",
              "      <td>-50.217019</td>\n",
              "    </tr>\n",
              "    <tr>\n",
              "      <th>1</th>\n",
              "      <td>385.084933</td>\n",
              "      <td>365.712964</td>\n",
              "      <td>353.206693</td>\n",
              "      <td>343.605799</td>\n",
              "      <td>331.835558</td>\n",
              "      <td>313.498007</td>\n",
              "      <td>287.174379</td>\n",
              "      <td>258.494412</td>\n",
              "      <td>245.207077</td>\n",
              "      <td>251.749524</td>\n",
              "      <td>...</td>\n",
              "      <td>163.576738</td>\n",
              "      <td>163.632665</td>\n",
              "      <td>158.476234</td>\n",
              "      <td>151.184701</td>\n",
              "      <td>148.532635</td>\n",
              "      <td>152.941568</td>\n",
              "      <td>154.242954</td>\n",
              "      <td>152.240058</td>\n",
              "      <td>143.747775</td>\n",
              "      <td>128.603313</td>\n",
              "    </tr>\n",
              "    <tr>\n",
              "      <th>2</th>\n",
              "      <td>-32.727231</td>\n",
              "      <td>-36.826324</td>\n",
              "      <td>-38.294844</td>\n",
              "      <td>-38.090185</td>\n",
              "      <td>-39.567054</td>\n",
              "      <td>-43.389074</td>\n",
              "      <td>-53.298378</td>\n",
              "      <td>-69.139101</td>\n",
              "      <td>-82.004986</td>\n",
              "      <td>-91.971480</td>\n",
              "      <td>...</td>\n",
              "      <td>25.574059</td>\n",
              "      <td>50.429666</td>\n",
              "      <td>59.268944</td>\n",
              "      <td>46.557196</td>\n",
              "      <td>22.955508</td>\n",
              "      <td>-6.947301</td>\n",
              "      <td>-29.546474</td>\n",
              "      <td>-38.086151</td>\n",
              "      <td>-40.408259</td>\n",
              "      <td>-35.327476</td>\n",
              "    </tr>\n",
              "    <tr>\n",
              "      <th>3</th>\n",
              "      <td>-103.635011</td>\n",
              "      <td>-96.942239</td>\n",
              "      <td>-93.865459</td>\n",
              "      <td>-92.643651</td>\n",
              "      <td>-93.435981</td>\n",
              "      <td>-97.402413</td>\n",
              "      <td>-97.733134</td>\n",
              "      <td>-94.352441</td>\n",
              "      <td>-88.239261</td>\n",
              "      <td>-78.553293</td>\n",
              "      <td>...</td>\n",
              "      <td>-78.089610</td>\n",
              "      <td>-80.809517</td>\n",
              "      <td>-81.799629</td>\n",
              "      <td>-80.715979</td>\n",
              "      <td>-79.667581</td>\n",
              "      <td>-78.162263</td>\n",
              "      <td>-75.831074</td>\n",
              "      <td>-72.931589</td>\n",
              "      <td>-69.306950</td>\n",
              "      <td>-64.961696</td>\n",
              "    </tr>\n",
              "    <tr>\n",
              "      <th>4</th>\n",
              "      <td>-8.640543</td>\n",
              "      <td>-63.459244</td>\n",
              "      <td>-96.121949</td>\n",
              "      <td>-101.176571</td>\n",
              "      <td>-79.329935</td>\n",
              "      <td>-42.292071</td>\n",
              "      <td>-14.843670</td>\n",
              "      <td>-7.309788</td>\n",
              "      <td>-25.059656</td>\n",
              "      <td>-60.062989</td>\n",
              "      <td>...</td>\n",
              "      <td>6.915764</td>\n",
              "      <td>5.737049</td>\n",
              "      <td>-0.572334</td>\n",
              "      <td>-11.411746</td>\n",
              "      <td>-27.701968</td>\n",
              "      <td>-49.673112</td>\n",
              "      <td>-66.503836</td>\n",
              "      <td>-77.442391</td>\n",
              "      <td>-79.303878</td>\n",
              "      <td>-72.669784</td>\n",
              "    </tr>\n",
              "  </tbody>\n",
              "</table>\n",
              "<p>5 rows × 178 columns</p>\n",
              "</div>\n",
              "    <div class=\"colab-df-buttons\">\n",
              "\n",
              "  <div class=\"colab-df-container\">\n",
              "    <button class=\"colab-df-convert\" onclick=\"convertToInteractive('df-28270322-4d82-4ec2-a6b3-9d84f5ae2723')\"\n",
              "            title=\"Convert this dataframe to an interactive table.\"\n",
              "            style=\"display:none;\">\n",
              "\n",
              "  <svg xmlns=\"http://www.w3.org/2000/svg\" height=\"24px\" viewBox=\"0 -960 960 960\">\n",
              "    <path d=\"M120-120v-720h720v720H120Zm60-500h600v-160H180v160Zm220 220h160v-160H400v160Zm0 220h160v-160H400v160ZM180-400h160v-160H180v160Zm440 0h160v-160H620v160ZM180-180h160v-160H180v160Zm440 0h160v-160H620v160Z\"/>\n",
              "  </svg>\n",
              "    </button>\n",
              "\n",
              "  <style>\n",
              "    .colab-df-container {\n",
              "      display:flex;\n",
              "      gap: 12px;\n",
              "    }\n",
              "\n",
              "    .colab-df-convert {\n",
              "      background-color: #E8F0FE;\n",
              "      border: none;\n",
              "      border-radius: 50%;\n",
              "      cursor: pointer;\n",
              "      display: none;\n",
              "      fill: #1967D2;\n",
              "      height: 32px;\n",
              "      padding: 0 0 0 0;\n",
              "      width: 32px;\n",
              "    }\n",
              "\n",
              "    .colab-df-convert:hover {\n",
              "      background-color: #E2EBFA;\n",
              "      box-shadow: 0px 1px 2px rgba(60, 64, 67, 0.3), 0px 1px 3px 1px rgba(60, 64, 67, 0.15);\n",
              "      fill: #174EA6;\n",
              "    }\n",
              "\n",
              "    .colab-df-buttons div {\n",
              "      margin-bottom: 4px;\n",
              "    }\n",
              "\n",
              "    [theme=dark] .colab-df-convert {\n",
              "      background-color: #3B4455;\n",
              "      fill: #D2E3FC;\n",
              "    }\n",
              "\n",
              "    [theme=dark] .colab-df-convert:hover {\n",
              "      background-color: #434B5C;\n",
              "      box-shadow: 0px 1px 3px 1px rgba(0, 0, 0, 0.15);\n",
              "      filter: drop-shadow(0px 1px 2px rgba(0, 0, 0, 0.3));\n",
              "      fill: #FFFFFF;\n",
              "    }\n",
              "  </style>\n",
              "\n",
              "    <script>\n",
              "      const buttonEl =\n",
              "        document.querySelector('#df-28270322-4d82-4ec2-a6b3-9d84f5ae2723 button.colab-df-convert');\n",
              "      buttonEl.style.display =\n",
              "        google.colab.kernel.accessAllowed ? 'block' : 'none';\n",
              "\n",
              "      async function convertToInteractive(key) {\n",
              "        const element = document.querySelector('#df-28270322-4d82-4ec2-a6b3-9d84f5ae2723');\n",
              "        const dataTable =\n",
              "          await google.colab.kernel.invokeFunction('convertToInteractive',\n",
              "                                                    [key], {});\n",
              "        if (!dataTable) return;\n",
              "\n",
              "        const docLinkHtml = 'Like what you see? Visit the ' +\n",
              "          '<a target=\"_blank\" href=https://colab.research.google.com/notebooks/data_table.ipynb>data table notebook</a>'\n",
              "          + ' to learn more about interactive tables.';\n",
              "        element.innerHTML = '';\n",
              "        dataTable['output_type'] = 'display_data';\n",
              "        await google.colab.output.renderOutput(dataTable, element);\n",
              "        const docLink = document.createElement('div');\n",
              "        docLink.innerHTML = docLinkHtml;\n",
              "        element.appendChild(docLink);\n",
              "      }\n",
              "    </script>\n",
              "  </div>\n",
              "\n",
              "\n",
              "<div id=\"df-cb7b05a7-8947-40ee-9ad7-baadc60f2cbb\">\n",
              "  <button class=\"colab-df-quickchart\" onclick=\"quickchart('df-cb7b05a7-8947-40ee-9ad7-baadc60f2cbb')\"\n",
              "            title=\"Suggest charts\"\n",
              "            style=\"display:none;\">\n",
              "\n",
              "<svg xmlns=\"http://www.w3.org/2000/svg\" height=\"24px\"viewBox=\"0 0 24 24\"\n",
              "     width=\"24px\">\n",
              "    <g>\n",
              "        <path d=\"M19 3H5c-1.1 0-2 .9-2 2v14c0 1.1.9 2 2 2h14c1.1 0 2-.9 2-2V5c0-1.1-.9-2-2-2zM9 17H7v-7h2v7zm4 0h-2V7h2v10zm4 0h-2v-4h2v4z\"/>\n",
              "    </g>\n",
              "</svg>\n",
              "  </button>\n",
              "\n",
              "<style>\n",
              "  .colab-df-quickchart {\n",
              "      --bg-color: #E8F0FE;\n",
              "      --fill-color: #1967D2;\n",
              "      --hover-bg-color: #E2EBFA;\n",
              "      --hover-fill-color: #174EA6;\n",
              "      --disabled-fill-color: #AAA;\n",
              "      --disabled-bg-color: #DDD;\n",
              "  }\n",
              "\n",
              "  [theme=dark] .colab-df-quickchart {\n",
              "      --bg-color: #3B4455;\n",
              "      --fill-color: #D2E3FC;\n",
              "      --hover-bg-color: #434B5C;\n",
              "      --hover-fill-color: #FFFFFF;\n",
              "      --disabled-bg-color: #3B4455;\n",
              "      --disabled-fill-color: #666;\n",
              "  }\n",
              "\n",
              "  .colab-df-quickchart {\n",
              "    background-color: var(--bg-color);\n",
              "    border: none;\n",
              "    border-radius: 50%;\n",
              "    cursor: pointer;\n",
              "    display: none;\n",
              "    fill: var(--fill-color);\n",
              "    height: 32px;\n",
              "    padding: 0;\n",
              "    width: 32px;\n",
              "  }\n",
              "\n",
              "  .colab-df-quickchart:hover {\n",
              "    background-color: var(--hover-bg-color);\n",
              "    box-shadow: 0 1px 2px rgba(60, 64, 67, 0.3), 0 1px 3px 1px rgba(60, 64, 67, 0.15);\n",
              "    fill: var(--button-hover-fill-color);\n",
              "  }\n",
              "\n",
              "  .colab-df-quickchart-complete:disabled,\n",
              "  .colab-df-quickchart-complete:disabled:hover {\n",
              "    background-color: var(--disabled-bg-color);\n",
              "    fill: var(--disabled-fill-color);\n",
              "    box-shadow: none;\n",
              "  }\n",
              "\n",
              "  .colab-df-spinner {\n",
              "    border: 2px solid var(--fill-color);\n",
              "    border-color: transparent;\n",
              "    border-bottom-color: var(--fill-color);\n",
              "    animation:\n",
              "      spin 1s steps(1) infinite;\n",
              "  }\n",
              "\n",
              "  @keyframes spin {\n",
              "    0% {\n",
              "      border-color: transparent;\n",
              "      border-bottom-color: var(--fill-color);\n",
              "      border-left-color: var(--fill-color);\n",
              "    }\n",
              "    20% {\n",
              "      border-color: transparent;\n",
              "      border-left-color: var(--fill-color);\n",
              "      border-top-color: var(--fill-color);\n",
              "    }\n",
              "    30% {\n",
              "      border-color: transparent;\n",
              "      border-left-color: var(--fill-color);\n",
              "      border-top-color: var(--fill-color);\n",
              "      border-right-color: var(--fill-color);\n",
              "    }\n",
              "    40% {\n",
              "      border-color: transparent;\n",
              "      border-right-color: var(--fill-color);\n",
              "      border-top-color: var(--fill-color);\n",
              "    }\n",
              "    60% {\n",
              "      border-color: transparent;\n",
              "      border-right-color: var(--fill-color);\n",
              "    }\n",
              "    80% {\n",
              "      border-color: transparent;\n",
              "      border-right-color: var(--fill-color);\n",
              "      border-bottom-color: var(--fill-color);\n",
              "    }\n",
              "    90% {\n",
              "      border-color: transparent;\n",
              "      border-bottom-color: var(--fill-color);\n",
              "    }\n",
              "  }\n",
              "</style>\n",
              "\n",
              "  <script>\n",
              "    async function quickchart(key) {\n",
              "      const quickchartButtonEl =\n",
              "        document.querySelector('#' + key + ' button');\n",
              "      quickchartButtonEl.disabled = true;  // To prevent multiple clicks.\n",
              "      quickchartButtonEl.classList.add('colab-df-spinner');\n",
              "      try {\n",
              "        const charts = await google.colab.kernel.invokeFunction(\n",
              "            'suggestCharts', [key], {});\n",
              "      } catch (error) {\n",
              "        console.error('Error during call to suggestCharts:', error);\n",
              "      }\n",
              "      quickchartButtonEl.classList.remove('colab-df-spinner');\n",
              "      quickchartButtonEl.classList.add('colab-df-quickchart-complete');\n",
              "    }\n",
              "    (() => {\n",
              "      let quickchartButtonEl =\n",
              "        document.querySelector('#df-cb7b05a7-8947-40ee-9ad7-baadc60f2cbb button');\n",
              "      quickchartButtonEl.style.display =\n",
              "        google.colab.kernel.accessAllowed ? 'block' : 'none';\n",
              "    })();\n",
              "  </script>\n",
              "</div>\n",
              "\n",
              "    </div>\n",
              "  </div>\n"
            ],
            "application/vnd.google.colaboratory.intrinsic+json": {
              "type": "dataframe",
              "variable_name": "filtered_data1"
            }
          },
          "metadata": {},
          "execution_count": 53
        }
      ],
      "source": [
        "filtered_data1 = pd.DataFrame(filtered_data1, columns=[f'X{i}' for i in range(1, filtered_data1.shape[1] + 1)])\n",
        "filtered_data1.head(5)"
      ]
    },
    {
      "cell_type": "code",
      "execution_count": null,
      "metadata": {
        "colab": {
          "base_uri": "https://localhost:8080/",
          "height": 255
        },
        "id": "kbtlbVAGY2I8",
        "outputId": "8762d4f9-d5b9-448a-e3c6-64f9a403e31d"
      },
      "outputs": [
        {
          "output_type": "execute_result",
          "data": {
            "text/plain": [
              "           X1          X2           X3           X4           X5           X6  \\\n",
              "0  129.227849  138.032607   146.481934   156.406171   161.045513   158.180768   \n",
              "1 -592.732652 -800.801185 -1014.332046 -1213.568222 -1333.924687 -1301.369967   \n",
              "2  -31.371206  -60.477220   -76.451563   -79.719275   -71.523661   -57.193330   \n",
              "3    8.653193    1.825539    -2.259491    -5.321533    -6.001217    -2.424699   \n",
              "4  -55.621508  -44.419883   -34.702976   -23.641831   -21.697219   -32.027897   \n",
              "\n",
              "            X7          X8          X9         X10  ...        X169  \\\n",
              "0   145.114998  120.366157   96.548057   77.479300  ...   96.363305   \n",
              "1 -1086.611795 -714.988316 -280.851645  111.713082  ...  134.218489   \n",
              "2   -48.183955  -49.082361  -57.621221  -73.001386  ...   41.611606   \n",
              "3     2.926413   11.167920   17.906109   22.714628  ...   21.776252   \n",
              "4   -54.806916  -86.867759 -111.311984 -124.533129  ...   60.040120   \n",
              "\n",
              "         X170        X171        X172        X173         X174        X175  \\\n",
              "0   96.263380   91.956883   82.722582   71.816245    57.958182   45.734974   \n",
              "1  -73.552452 -434.472456 -780.032989 -990.960047 -1032.484351 -945.274761   \n",
              "2   43.669420   47.760848   54.628049   55.595206    49.887427   38.788610   \n",
              "3   18.925462   16.956344   15.307578   10.170340     2.033412   -7.253565   \n",
              "4  101.900653  115.995916   94.636305   50.200399    -6.797912  -53.402940   \n",
              "\n",
              "         X176        X177        X178  \n",
              "0   35.769708   28.672386   26.089915  \n",
              "1 -783.416276 -595.125597 -402.918586  \n",
              "2   22.723154    8.111171   -3.819666  \n",
              "3  -18.316530  -28.427169  -37.119902  \n",
              "4  -78.134019  -84.658431  -76.158922  \n",
              "\n",
              "[5 rows x 178 columns]"
            ],
            "text/html": [
              "\n",
              "  <div id=\"df-b314021c-0c80-454a-b447-298a8b8b8760\" class=\"colab-df-container\">\n",
              "    <div>\n",
              "<style scoped>\n",
              "    .dataframe tbody tr th:only-of-type {\n",
              "        vertical-align: middle;\n",
              "    }\n",
              "\n",
              "    .dataframe tbody tr th {\n",
              "        vertical-align: top;\n",
              "    }\n",
              "\n",
              "    .dataframe thead th {\n",
              "        text-align: right;\n",
              "    }\n",
              "</style>\n",
              "<table border=\"1\" class=\"dataframe\">\n",
              "  <thead>\n",
              "    <tr style=\"text-align: right;\">\n",
              "      <th></th>\n",
              "      <th>X1</th>\n",
              "      <th>X2</th>\n",
              "      <th>X3</th>\n",
              "      <th>X4</th>\n",
              "      <th>X5</th>\n",
              "      <th>X6</th>\n",
              "      <th>X7</th>\n",
              "      <th>X8</th>\n",
              "      <th>X9</th>\n",
              "      <th>X10</th>\n",
              "      <th>...</th>\n",
              "      <th>X169</th>\n",
              "      <th>X170</th>\n",
              "      <th>X171</th>\n",
              "      <th>X172</th>\n",
              "      <th>X173</th>\n",
              "      <th>X174</th>\n",
              "      <th>X175</th>\n",
              "      <th>X176</th>\n",
              "      <th>X177</th>\n",
              "      <th>X178</th>\n",
              "    </tr>\n",
              "  </thead>\n",
              "  <tbody>\n",
              "    <tr>\n",
              "      <th>0</th>\n",
              "      <td>129.227849</td>\n",
              "      <td>138.032607</td>\n",
              "      <td>146.481934</td>\n",
              "      <td>156.406171</td>\n",
              "      <td>161.045513</td>\n",
              "      <td>158.180768</td>\n",
              "      <td>145.114998</td>\n",
              "      <td>120.366157</td>\n",
              "      <td>96.548057</td>\n",
              "      <td>77.479300</td>\n",
              "      <td>...</td>\n",
              "      <td>96.363305</td>\n",
              "      <td>96.263380</td>\n",
              "      <td>91.956883</td>\n",
              "      <td>82.722582</td>\n",
              "      <td>71.816245</td>\n",
              "      <td>57.958182</td>\n",
              "      <td>45.734974</td>\n",
              "      <td>35.769708</td>\n",
              "      <td>28.672386</td>\n",
              "      <td>26.089915</td>\n",
              "    </tr>\n",
              "    <tr>\n",
              "      <th>1</th>\n",
              "      <td>-592.732652</td>\n",
              "      <td>-800.801185</td>\n",
              "      <td>-1014.332046</td>\n",
              "      <td>-1213.568222</td>\n",
              "      <td>-1333.924687</td>\n",
              "      <td>-1301.369967</td>\n",
              "      <td>-1086.611795</td>\n",
              "      <td>-714.988316</td>\n",
              "      <td>-280.851645</td>\n",
              "      <td>111.713082</td>\n",
              "      <td>...</td>\n",
              "      <td>134.218489</td>\n",
              "      <td>-73.552452</td>\n",
              "      <td>-434.472456</td>\n",
              "      <td>-780.032989</td>\n",
              "      <td>-990.960047</td>\n",
              "      <td>-1032.484351</td>\n",
              "      <td>-945.274761</td>\n",
              "      <td>-783.416276</td>\n",
              "      <td>-595.125597</td>\n",
              "      <td>-402.918586</td>\n",
              "    </tr>\n",
              "    <tr>\n",
              "      <th>2</th>\n",
              "      <td>-31.371206</td>\n",
              "      <td>-60.477220</td>\n",
              "      <td>-76.451563</td>\n",
              "      <td>-79.719275</td>\n",
              "      <td>-71.523661</td>\n",
              "      <td>-57.193330</td>\n",
              "      <td>-48.183955</td>\n",
              "      <td>-49.082361</td>\n",
              "      <td>-57.621221</td>\n",
              "      <td>-73.001386</td>\n",
              "      <td>...</td>\n",
              "      <td>41.611606</td>\n",
              "      <td>43.669420</td>\n",
              "      <td>47.760848</td>\n",
              "      <td>54.628049</td>\n",
              "      <td>55.595206</td>\n",
              "      <td>49.887427</td>\n",
              "      <td>38.788610</td>\n",
              "      <td>22.723154</td>\n",
              "      <td>8.111171</td>\n",
              "      <td>-3.819666</td>\n",
              "    </tr>\n",
              "    <tr>\n",
              "      <th>3</th>\n",
              "      <td>8.653193</td>\n",
              "      <td>1.825539</td>\n",
              "      <td>-2.259491</td>\n",
              "      <td>-5.321533</td>\n",
              "      <td>-6.001217</td>\n",
              "      <td>-2.424699</td>\n",
              "      <td>2.926413</td>\n",
              "      <td>11.167920</td>\n",
              "      <td>17.906109</td>\n",
              "      <td>22.714628</td>\n",
              "      <td>...</td>\n",
              "      <td>21.776252</td>\n",
              "      <td>18.925462</td>\n",
              "      <td>16.956344</td>\n",
              "      <td>15.307578</td>\n",
              "      <td>10.170340</td>\n",
              "      <td>2.033412</td>\n",
              "      <td>-7.253565</td>\n",
              "      <td>-18.316530</td>\n",
              "      <td>-28.427169</td>\n",
              "      <td>-37.119902</td>\n",
              "    </tr>\n",
              "    <tr>\n",
              "      <th>4</th>\n",
              "      <td>-55.621508</td>\n",
              "      <td>-44.419883</td>\n",
              "      <td>-34.702976</td>\n",
              "      <td>-23.641831</td>\n",
              "      <td>-21.697219</td>\n",
              "      <td>-32.027897</td>\n",
              "      <td>-54.806916</td>\n",
              "      <td>-86.867759</td>\n",
              "      <td>-111.311984</td>\n",
              "      <td>-124.533129</td>\n",
              "      <td>...</td>\n",
              "      <td>60.040120</td>\n",
              "      <td>101.900653</td>\n",
              "      <td>115.995916</td>\n",
              "      <td>94.636305</td>\n",
              "      <td>50.200399</td>\n",
              "      <td>-6.797912</td>\n",
              "      <td>-53.402940</td>\n",
              "      <td>-78.134019</td>\n",
              "      <td>-84.658431</td>\n",
              "      <td>-76.158922</td>\n",
              "    </tr>\n",
              "  </tbody>\n",
              "</table>\n",
              "<p>5 rows × 178 columns</p>\n",
              "</div>\n",
              "    <div class=\"colab-df-buttons\">\n",
              "\n",
              "  <div class=\"colab-df-container\">\n",
              "    <button class=\"colab-df-convert\" onclick=\"convertToInteractive('df-b314021c-0c80-454a-b447-298a8b8b8760')\"\n",
              "            title=\"Convert this dataframe to an interactive table.\"\n",
              "            style=\"display:none;\">\n",
              "\n",
              "  <svg xmlns=\"http://www.w3.org/2000/svg\" height=\"24px\" viewBox=\"0 -960 960 960\">\n",
              "    <path d=\"M120-120v-720h720v720H120Zm60-500h600v-160H180v160Zm220 220h160v-160H400v160Zm0 220h160v-160H400v160ZM180-400h160v-160H180v160Zm440 0h160v-160H620v160ZM180-180h160v-160H180v160Zm440 0h160v-160H620v160Z\"/>\n",
              "  </svg>\n",
              "    </button>\n",
              "\n",
              "  <style>\n",
              "    .colab-df-container {\n",
              "      display:flex;\n",
              "      gap: 12px;\n",
              "    }\n",
              "\n",
              "    .colab-df-convert {\n",
              "      background-color: #E8F0FE;\n",
              "      border: none;\n",
              "      border-radius: 50%;\n",
              "      cursor: pointer;\n",
              "      display: none;\n",
              "      fill: #1967D2;\n",
              "      height: 32px;\n",
              "      padding: 0 0 0 0;\n",
              "      width: 32px;\n",
              "    }\n",
              "\n",
              "    .colab-df-convert:hover {\n",
              "      background-color: #E2EBFA;\n",
              "      box-shadow: 0px 1px 2px rgba(60, 64, 67, 0.3), 0px 1px 3px 1px rgba(60, 64, 67, 0.15);\n",
              "      fill: #174EA6;\n",
              "    }\n",
              "\n",
              "    .colab-df-buttons div {\n",
              "      margin-bottom: 4px;\n",
              "    }\n",
              "\n",
              "    [theme=dark] .colab-df-convert {\n",
              "      background-color: #3B4455;\n",
              "      fill: #D2E3FC;\n",
              "    }\n",
              "\n",
              "    [theme=dark] .colab-df-convert:hover {\n",
              "      background-color: #434B5C;\n",
              "      box-shadow: 0px 1px 3px 1px rgba(0, 0, 0, 0.15);\n",
              "      filter: drop-shadow(0px 1px 2px rgba(0, 0, 0, 0.3));\n",
              "      fill: #FFFFFF;\n",
              "    }\n",
              "  </style>\n",
              "\n",
              "    <script>\n",
              "      const buttonEl =\n",
              "        document.querySelector('#df-b314021c-0c80-454a-b447-298a8b8b8760 button.colab-df-convert');\n",
              "      buttonEl.style.display =\n",
              "        google.colab.kernel.accessAllowed ? 'block' : 'none';\n",
              "\n",
              "      async function convertToInteractive(key) {\n",
              "        const element = document.querySelector('#df-b314021c-0c80-454a-b447-298a8b8b8760');\n",
              "        const dataTable =\n",
              "          await google.colab.kernel.invokeFunction('convertToInteractive',\n",
              "                                                    [key], {});\n",
              "        if (!dataTable) return;\n",
              "\n",
              "        const docLinkHtml = 'Like what you see? Visit the ' +\n",
              "          '<a target=\"_blank\" href=https://colab.research.google.com/notebooks/data_table.ipynb>data table notebook</a>'\n",
              "          + ' to learn more about interactive tables.';\n",
              "        element.innerHTML = '';\n",
              "        dataTable['output_type'] = 'display_data';\n",
              "        await google.colab.output.renderOutput(dataTable, element);\n",
              "        const docLink = document.createElement('div');\n",
              "        docLink.innerHTML = docLinkHtml;\n",
              "        element.appendChild(docLink);\n",
              "      }\n",
              "    </script>\n",
              "  </div>\n",
              "\n",
              "\n",
              "<div id=\"df-9b41f9db-dd52-490b-8afc-3a40a9f17ac4\">\n",
              "  <button class=\"colab-df-quickchart\" onclick=\"quickchart('df-9b41f9db-dd52-490b-8afc-3a40a9f17ac4')\"\n",
              "            title=\"Suggest charts\"\n",
              "            style=\"display:none;\">\n",
              "\n",
              "<svg xmlns=\"http://www.w3.org/2000/svg\" height=\"24px\"viewBox=\"0 0 24 24\"\n",
              "     width=\"24px\">\n",
              "    <g>\n",
              "        <path d=\"M19 3H5c-1.1 0-2 .9-2 2v14c0 1.1.9 2 2 2h14c1.1 0 2-.9 2-2V5c0-1.1-.9-2-2-2zM9 17H7v-7h2v7zm4 0h-2V7h2v10zm4 0h-2v-4h2v4z\"/>\n",
              "    </g>\n",
              "</svg>\n",
              "  </button>\n",
              "\n",
              "<style>\n",
              "  .colab-df-quickchart {\n",
              "      --bg-color: #E8F0FE;\n",
              "      --fill-color: #1967D2;\n",
              "      --hover-bg-color: #E2EBFA;\n",
              "      --hover-fill-color: #174EA6;\n",
              "      --disabled-fill-color: #AAA;\n",
              "      --disabled-bg-color: #DDD;\n",
              "  }\n",
              "\n",
              "  [theme=dark] .colab-df-quickchart {\n",
              "      --bg-color: #3B4455;\n",
              "      --fill-color: #D2E3FC;\n",
              "      --hover-bg-color: #434B5C;\n",
              "      --hover-fill-color: #FFFFFF;\n",
              "      --disabled-bg-color: #3B4455;\n",
              "      --disabled-fill-color: #666;\n",
              "  }\n",
              "\n",
              "  .colab-df-quickchart {\n",
              "    background-color: var(--bg-color);\n",
              "    border: none;\n",
              "    border-radius: 50%;\n",
              "    cursor: pointer;\n",
              "    display: none;\n",
              "    fill: var(--fill-color);\n",
              "    height: 32px;\n",
              "    padding: 0;\n",
              "    width: 32px;\n",
              "  }\n",
              "\n",
              "  .colab-df-quickchart:hover {\n",
              "    background-color: var(--hover-bg-color);\n",
              "    box-shadow: 0 1px 2px rgba(60, 64, 67, 0.3), 0 1px 3px 1px rgba(60, 64, 67, 0.15);\n",
              "    fill: var(--button-hover-fill-color);\n",
              "  }\n",
              "\n",
              "  .colab-df-quickchart-complete:disabled,\n",
              "  .colab-df-quickchart-complete:disabled:hover {\n",
              "    background-color: var(--disabled-bg-color);\n",
              "    fill: var(--disabled-fill-color);\n",
              "    box-shadow: none;\n",
              "  }\n",
              "\n",
              "  .colab-df-spinner {\n",
              "    border: 2px solid var(--fill-color);\n",
              "    border-color: transparent;\n",
              "    border-bottom-color: var(--fill-color);\n",
              "    animation:\n",
              "      spin 1s steps(1) infinite;\n",
              "  }\n",
              "\n",
              "  @keyframes spin {\n",
              "    0% {\n",
              "      border-color: transparent;\n",
              "      border-bottom-color: var(--fill-color);\n",
              "      border-left-color: var(--fill-color);\n",
              "    }\n",
              "    20% {\n",
              "      border-color: transparent;\n",
              "      border-left-color: var(--fill-color);\n",
              "      border-top-color: var(--fill-color);\n",
              "    }\n",
              "    30% {\n",
              "      border-color: transparent;\n",
              "      border-left-color: var(--fill-color);\n",
              "      border-top-color: var(--fill-color);\n",
              "      border-right-color: var(--fill-color);\n",
              "    }\n",
              "    40% {\n",
              "      border-color: transparent;\n",
              "      border-right-color: var(--fill-color);\n",
              "      border-top-color: var(--fill-color);\n",
              "    }\n",
              "    60% {\n",
              "      border-color: transparent;\n",
              "      border-right-color: var(--fill-color);\n",
              "    }\n",
              "    80% {\n",
              "      border-color: transparent;\n",
              "      border-right-color: var(--fill-color);\n",
              "      border-bottom-color: var(--fill-color);\n",
              "    }\n",
              "    90% {\n",
              "      border-color: transparent;\n",
              "      border-bottom-color: var(--fill-color);\n",
              "    }\n",
              "  }\n",
              "</style>\n",
              "\n",
              "  <script>\n",
              "    async function quickchart(key) {\n",
              "      const quickchartButtonEl =\n",
              "        document.querySelector('#' + key + ' button');\n",
              "      quickchartButtonEl.disabled = true;  // To prevent multiple clicks.\n",
              "      quickchartButtonEl.classList.add('colab-df-spinner');\n",
              "      try {\n",
              "        const charts = await google.colab.kernel.invokeFunction(\n",
              "            'suggestCharts', [key], {});\n",
              "      } catch (error) {\n",
              "        console.error('Error during call to suggestCharts:', error);\n",
              "      }\n",
              "      quickchartButtonEl.classList.remove('colab-df-spinner');\n",
              "      quickchartButtonEl.classList.add('colab-df-quickchart-complete');\n",
              "    }\n",
              "    (() => {\n",
              "      let quickchartButtonEl =\n",
              "        document.querySelector('#df-9b41f9db-dd52-490b-8afc-3a40a9f17ac4 button');\n",
              "      quickchartButtonEl.style.display =\n",
              "        google.colab.kernel.accessAllowed ? 'block' : 'none';\n",
              "    })();\n",
              "  </script>\n",
              "</div>\n",
              "\n",
              "    </div>\n",
              "  </div>\n"
            ],
            "application/vnd.google.colaboratory.intrinsic+json": {
              "type": "dataframe",
              "variable_name": "filtered_data2"
            }
          },
          "metadata": {},
          "execution_count": 54
        }
      ],
      "source": [
        "filtered_data2 = pd.DataFrame(filtered_data2, columns=[f'X{i}' for i in range(1, filtered_data2.shape[1] + 1)])\n",
        "filtered_data2.head(5)"
      ]
    },
    {
      "cell_type": "markdown",
      "metadata": {
        "id": "hdEU4ekQt4Re"
      },
      "source": [
        "# Visualization of Original data\n",
        "\n",
        "\n"
      ]
    },
    {
      "cell_type": "code",
      "execution_count": null,
      "metadata": {
        "id": "luca6ovBd2Ol"
      },
      "outputs": [],
      "source": [
        "eeg_columns = [f\"X{i}\" for i in range(1, 179)]"
      ]
    },
    {
      "cell_type": "code",
      "execution_count": null,
      "metadata": {
        "id": "KrpG-3oTd3tg",
        "colab": {
          "base_uri": "https://localhost:8080/"
        },
        "outputId": "1fb5ab45-506b-4501-c1df-e08188ef9199"
      },
      "outputs": [
        {
          "output_type": "stream",
          "name": "stderr",
          "text": [
            "<ipython-input-56-623fce001cf3>:1: SettingWithCopyWarning: \n",
            "A value is trying to be set on a copy of a slice from a DataFrame.\n",
            "Try using .loc[row_indexer,col_indexer] = value instead\n",
            "\n",
            "See the caveats in the documentation: https://pandas.pydata.org/pandas-docs/stable/user_guide/indexing.html#returning-a-view-versus-a-copy\n",
            "  X1[eeg_columns] = X1[eeg_columns].astype(float)\n"
          ]
        }
      ],
      "source": [
        "X1[eeg_columns] = X1[eeg_columns].astype(float)"
      ]
    },
    {
      "cell_type": "code",
      "execution_count": null,
      "metadata": {
        "colab": {
          "base_uri": "https://localhost:8080/",
          "height": 410
        },
        "id": "gRXMhIACd49e",
        "outputId": "56635016-c717-4fd1-bfc5-98e274cdcd4f"
      },
      "outputs": [
        {
          "output_type": "display_data",
          "data": {
            "text/plain": [
              "<Figure size 700x400 with 1 Axes>"
            ],
            "image/png": "[encoded data removed]"
          },
          "metadata": {}
        }
      ],
      "source": [
        "plt.figure(figsize=(7, 4))\n",
        "for i in range(5):\n",
        "    plt.plot(X1.loc[i, eeg_columns], label=f\"Row {i + 1}\")\n",
        "\n",
        "plt.xlabel('Time')\n",
        "plt.ylabel('EEG Signal Intensity')\n",
        "plt.title('EEG Signals for First 5 Rows')\n",
        "plt.legend()\n",
        "plt.grid(True)\n",
        "plt.show()"
      ]
    },
    {
      "cell_type": "markdown",
      "metadata": {
        "id": "c7_cdwbkaSOl"
      },
      "source": [
        "# Visualization of filtered data"
      ]
    },
    {
      "cell_type": "code",
      "execution_count": null,
      "metadata": {
        "id": "c5_t7cfXdqKA"
      },
      "outputs": [],
      "source": [
        "column_names = [f'X{i}' for i in range(1, filtered_data1.shape[1] + 1)]"
      ]
    },
    {
      "cell_type": "code",
      "execution_count": null,
      "metadata": {
        "id": "RdaQ6NLUdswd"
      },
      "outputs": [],
      "source": [
        "filtered_data1[column_names] = filtered_data1[column_names].astype(float)"
      ]
    },
    {
      "cell_type": "code",
      "execution_count": null,
      "metadata": {
        "colab": {
          "base_uri": "https://localhost:8080/",
          "height": 410
        },
        "id": "Th7_8LBRdyGt",
        "outputId": "63636889-f8a2-40a9-f190-2ad99ccfdd43"
      },
      "outputs": [
        {
          "output_type": "display_data",
          "data": {
            "text/plain": [
              "<Figure size 700x400 with 1 Axes>"
            ],
            "image/png": "[encoded data removed]"
          },
          "metadata": {}
        }
      ],
      "source": [
        "plt.figure(figsize=(7, 4))\n",
        "for i in range(5):\n",
        "    plt.plot(filtered_data1.loc[i, eeg_columns], label=f\"Row {i + 1}\")\n",
        "\n",
        "plt.xlabel('Time')\n",
        "plt.ylabel('EEG Signal Intensity')\n",
        "plt.title('EEG Signals for First 5 Rows')\n",
        "plt.legend()\n",
        "plt.grid(True)\n",
        "plt.show()\n"
      ]
    },
    {
      "cell_type": "code",
      "execution_count": null,
      "metadata": {
        "colab": {
          "base_uri": "https://localhost:8080/"
        },
        "id": "hUFPJWIA2_QS",
        "outputId": "b26e1bed-27f7-4074-b747-365b5822030d"
      },
      "outputs": [
        {
          "output_type": "stream",
          "name": "stderr",
          "text": [
            "<ipython-input-61-ae98d7018482>:1: PerformanceWarning: DataFrame is highly fragmented.  This is usually the result of calling `frame.insert` many times, which has poor performance.  Consider joining all columns at once using pd.concat(axis=1) instead. To get a de-fragmented frame, use `newframe = frame.copy()`\n",
            "  filtered_data1['y']= y1\n"
          ]
        }
      ],
      "source": [
        "filtered_data1['y']= y1\n",
        "filtered_data2['y']= y2"
      ]
    },
    {
      "cell_type": "code",
      "execution_count": null,
      "metadata": {
        "colab": {
          "base_uri": "https://localhost:8080/",
          "height": 255
        },
        "id": "PNRzdL8R33ou",
        "outputId": "d2d61df0-8347-49ce-edb5-bbd74fc25c77"
      },
      "outputs": [
        {
          "output_type": "execute_result",
          "data": {
            "text/plain": [
              "           X1          X2          X3          X4          X5          X6  \\\n",
              "0  134.649371  192.061450  224.687268  223.929041  187.140368  123.253556   \n",
              "1  385.084933  365.712964  353.206693  343.605799  331.835558  313.498007   \n",
              "2  -32.727231  -36.826324  -38.294844  -38.090185  -39.567054  -43.389074   \n",
              "3 -103.635011  -96.942239  -93.865459  -92.643651  -93.435981  -97.402413   \n",
              "4   -8.640543  -63.459244  -96.121949 -101.176571  -79.329935  -42.292071   \n",
              "\n",
              "           X7          X8          X9         X10  ...        X170  \\\n",
              "0   56.315916   -0.466723  -33.493466  -36.517834  ...   -0.364494   \n",
              "1  287.174379  258.494412  245.207077  251.749524  ...  163.632665   \n",
              "2  -53.298378  -69.139101  -82.004986  -91.971480  ...   50.429666   \n",
              "3  -97.733134  -94.352441  -88.239261  -78.553293  ...  -80.809517   \n",
              "4  -14.843670   -7.309788  -25.059656  -60.062989  ...    5.737049   \n",
              "\n",
              "         X171        X172        X173        X174        X175        X176  \\\n",
              "0  -15.594395  -43.676949  -74.027950 -103.646829 -118.657853 -113.089676   \n",
              "1  158.476234  151.184701  148.532635  152.941568  154.242954  152.240058   \n",
              "2   59.268944   46.557196   22.955508   -6.947301  -29.546474  -38.086151   \n",
              "3  -81.799629  -80.715979  -79.667581  -78.162263  -75.831074  -72.931589   \n",
              "4   -0.572334  -11.411746  -27.701968  -49.673112  -66.503836  -77.442391   \n",
              "\n",
              "         X177        X178  y  \n",
              "0  -89.198425  -50.217019  4  \n",
              "1  143.747775  128.603313  1  \n",
              "2  -40.408259  -35.327476  5  \n",
              "3  -69.306950  -64.961696  5  \n",
              "4  -79.303878  -72.669784  5  \n",
              "\n",
              "[5 rows x 179 columns]"
            ],
            "text/html": [
              "\n",
              "  <div id=\"df-d4b37a74-bee4-487d-8996-d50e5874bbda\" class=\"colab-df-container\">\n",
              "    <div>\n",
              "<style scoped>\n",
              "    .dataframe tbody tr th:only-of-type {\n",
              "        vertical-align: middle;\n",
              "    }\n",
              "\n",
              "    .dataframe tbody tr th {\n",
              "        vertical-align: top;\n",
              "    }\n",
              "\n",
              "    .dataframe thead th {\n",
              "        text-align: right;\n",
              "    }\n",
              "</style>\n",
              "<table border=\"1\" class=\"dataframe\">\n",
              "  <thead>\n",
              "    <tr style=\"text-align: right;\">\n",
              "      <th></th>\n",
              "      <th>X1</th>\n",
              "      <th>X2</th>\n",
              "      <th>X3</th>\n",
              "      <th>X4</th>\n",
              "      <th>X5</th>\n",
              "      <th>X6</th>\n",
              "      <th>X7</th>\n",
              "      <th>X8</th>\n",
              "      <th>X9</th>\n",
              "      <th>X10</th>\n",
              "      <th>...</th>\n",
              "      <th>X170</th>\n",
              "      <th>X171</th>\n",
              "      <th>X172</th>\n",
              "      <th>X173</th>\n",
              "      <th>X174</th>\n",
              "      <th>X175</th>\n",
              "      <th>X176</th>\n",
              "      <th>X177</th>\n",
              "      <th>X178</th>\n",
              "      <th>y</th>\n",
              "    </tr>\n",
              "  </thead>\n",
              "  <tbody>\n",
              "    <tr>\n",
              "      <th>0</th>\n",
              "      <td>134.649371</td>\n",
              "      <td>192.061450</td>\n",
              "      <td>224.687268</td>\n",
              "      <td>223.929041</td>\n",
              "      <td>187.140368</td>\n",
              "      <td>123.253556</td>\n",
              "      <td>56.315916</td>\n",
              "      <td>-0.466723</td>\n",
              "      <td>-33.493466</td>\n",
              "      <td>-36.517834</td>\n",
              "      <td>...</td>\n",
              "      <td>-0.364494</td>\n",
              "      <td>-15.594395</td>\n",
              "      <td>-43.676949</td>\n",
              "      <td>-74.027950</td>\n",
              "      <td>-103.646829</td>\n",
              "      <td>-118.657853</td>\n",
              "      <td>-113.089676</td>\n",
              "      <td>-89.198425</td>\n",
              "      <td>-50.217019</td>\n",
              "      <td>4</td>\n",
              "    </tr>\n",
              "    <tr>\n",
              "      <th>1</th>\n",
              "      <td>385.084933</td>\n",
              "      <td>365.712964</td>\n",
              "      <td>353.206693</td>\n",
              "      <td>343.605799</td>\n",
              "      <td>331.835558</td>\n",
              "      <td>313.498007</td>\n",
              "      <td>287.174379</td>\n",
              "      <td>258.494412</td>\n",
              "      <td>245.207077</td>\n",
              "      <td>251.749524</td>\n",
              "      <td>...</td>\n",
              "      <td>163.632665</td>\n",
              "      <td>158.476234</td>\n",
              "      <td>151.184701</td>\n",
              "      <td>148.532635</td>\n",
              "      <td>152.941568</td>\n",
              "      <td>154.242954</td>\n",
              "      <td>152.240058</td>\n",
              "      <td>143.747775</td>\n",
              "      <td>128.603313</td>\n",
              "      <td>1</td>\n",
              "    </tr>\n",
              "    <tr>\n",
              "      <th>2</th>\n",
              "      <td>-32.727231</td>\n",
              "      <td>-36.826324</td>\n",
              "      <td>-38.294844</td>\n",
              "      <td>-38.090185</td>\n",
              "      <td>-39.567054</td>\n",
              "      <td>-43.389074</td>\n",
              "      <td>-53.298378</td>\n",
              "      <td>-69.139101</td>\n",
              "      <td>-82.004986</td>\n",
              "      <td>-91.971480</td>\n",
              "      <td>...</td>\n",
              "      <td>50.429666</td>\n",
              "      <td>59.268944</td>\n",
              "      <td>46.557196</td>\n",
              "      <td>22.955508</td>\n",
              "      <td>-6.947301</td>\n",
              "      <td>-29.546474</td>\n",
              "      <td>-38.086151</td>\n",
              "      <td>-40.408259</td>\n",
              "      <td>-35.327476</td>\n",
              "      <td>5</td>\n",
              "    </tr>\n",
              "    <tr>\n",
              "      <th>3</th>\n",
              "      <td>-103.635011</td>\n",
              "      <td>-96.942239</td>\n",
              "      <td>-93.865459</td>\n",
              "      <td>-92.643651</td>\n",
              "      <td>-93.435981</td>\n",
              "      <td>-97.402413</td>\n",
              "      <td>-97.733134</td>\n",
              "      <td>-94.352441</td>\n",
              "      <td>-88.239261</td>\n",
              "      <td>-78.553293</td>\n",
              "      <td>...</td>\n",
              "      <td>-80.809517</td>\n",
              "      <td>-81.799629</td>\n",
              "      <td>-80.715979</td>\n",
              "      <td>-79.667581</td>\n",
              "      <td>-78.162263</td>\n",
              "      <td>-75.831074</td>\n",
              "      <td>-72.931589</td>\n",
              "      <td>-69.306950</td>\n",
              "      <td>-64.961696</td>\n",
              "      <td>5</td>\n",
              "    </tr>\n",
              "    <tr>\n",
              "      <th>4</th>\n",
              "      <td>-8.640543</td>\n",
              "      <td>-63.459244</td>\n",
              "      <td>-96.121949</td>\n",
              "      <td>-101.176571</td>\n",
              "      <td>-79.329935</td>\n",
              "      <td>-42.292071</td>\n",
              "      <td>-14.843670</td>\n",
              "      <td>-7.309788</td>\n",
              "      <td>-25.059656</td>\n",
              "      <td>-60.062989</td>\n",
              "      <td>...</td>\n",
              "      <td>5.737049</td>\n",
              "      <td>-0.572334</td>\n",
              "      <td>-11.411746</td>\n",
              "      <td>-27.701968</td>\n",
              "      <td>-49.673112</td>\n",
              "      <td>-66.503836</td>\n",
              "      <td>-77.442391</td>\n",
              "      <td>-79.303878</td>\n",
              "      <td>-72.669784</td>\n",
              "      <td>5</td>\n",
              "    </tr>\n",
              "  </tbody>\n",
              "</table>\n",
              "<p>5 rows × 179 columns</p>\n",
              "</div>\n",
              "    <div class=\"colab-df-buttons\">\n",
              "\n",
              "  <div class=\"colab-df-container\">\n",
              "    <button class=\"colab-df-convert\" onclick=\"convertToInteractive('df-d4b37a74-bee4-487d-8996-d50e5874bbda')\"\n",
              "            title=\"Convert this dataframe to an interactive table.\"\n",
              "            style=\"display:none;\">\n",
              "\n",
              "  <svg xmlns=\"http://www.w3.org/2000/svg\" height=\"24px\" viewBox=\"0 -960 960 960\">\n",
              "    <path d=\"M120-120v-720h720v720H120Zm60-500h600v-160H180v160Zm220 220h160v-160H400v160Zm0 220h160v-160H400v160ZM180-400h160v-160H180v160Zm440 0h160v-160H620v160ZM180-180h160v-160H180v160Zm440 0h160v-160H620v160Z\"/>\n",
              "  </svg>\n",
              "    </button>\n",
              "\n",
              "  <style>\n",
              "    .colab-df-container {\n",
              "      display:flex;\n",
              "      gap: 12px;\n",
              "    }\n",
              "\n",
              "    .colab-df-convert {\n",
              "      background-color: #E8F0FE;\n",
              "      border: none;\n",
              "      border-radius: 50%;\n",
              "      cursor: pointer;\n",
              "      display: none;\n",
              "      fill: #1967D2;\n",
              "      height: 32px;\n",
              "      padding: 0 0 0 0;\n",
              "      width: 32px;\n",
              "    }\n",
              "\n",
              "    .colab-df-convert:hover {\n",
              "      background-color: #E2EBFA;\n",
              "      box-shadow: 0px 1px 2px rgba(60, 64, 67, 0.3), 0px 1px 3px 1px rgba(60, 64, 67, 0.15);\n",
              "      fill: #174EA6;\n",
              "    }\n",
              "\n",
              "    .colab-df-buttons div {\n",
              "      margin-bottom: 4px;\n",
              "    }\n",
              "\n",
              "    [theme=dark] .colab-df-convert {\n",
              "      background-color: #3B4455;\n",
              "      fill: #D2E3FC;\n",
              "    }\n",
              "\n",
              "    [theme=dark] .colab-df-convert:hover {\n",
              "      background-color: #434B5C;\n",
              "      box-shadow: 0px 1px 3px 1px rgba(0, 0, 0, 0.15);\n",
              "      filter: drop-shadow(0px 1px 2px rgba(0, 0, 0, 0.3));\n",
              "      fill: #FFFFFF;\n",
              "    }\n",
              "  </style>\n",
              "\n",
              "    <script>\n",
              "      const buttonEl =\n",
              "        document.querySelector('#df-d4b37a74-bee4-487d-8996-d50e5874bbda button.colab-df-convert');\n",
              "      buttonEl.style.display =\n",
              "        google.colab.kernel.accessAllowed ? 'block' : 'none';\n",
              "\n",
              "      async function convertToInteractive(key) {\n",
              "        const element = document.querySelector('#df-d4b37a74-bee4-487d-8996-d50e5874bbda');\n",
              "        const dataTable =\n",
              "          await google.colab.kernel.invokeFunction('convertToInteractive',\n",
              "                                                    [key], {});\n",
              "        if (!dataTable) return;\n",
              "\n",
              "        const docLinkHtml = 'Like what you see? Visit the ' +\n",
              "          '<a target=\"_blank\" href=https://colab.research.google.com/notebooks/data_table.ipynb>data table notebook</a>'\n",
              "          + ' to learn more about interactive tables.';\n",
              "        element.innerHTML = '';\n",
              "        dataTable['output_type'] = 'display_data';\n",
              "        await google.colab.output.renderOutput(dataTable, element);\n",
              "        const docLink = document.createElement('div');\n",
              "        docLink.innerHTML = docLinkHtml;\n",
              "        element.appendChild(docLink);\n",
              "      }\n",
              "    </script>\n",
              "  </div>\n",
              "\n",
              "\n",
              "<div id=\"df-ac13ec72-3114-44af-b37c-b1ce547f6b4b\">\n",
              "  <button class=\"colab-df-quickchart\" onclick=\"quickchart('df-ac13ec72-3114-44af-b37c-b1ce547f6b4b')\"\n",
              "            title=\"Suggest charts\"\n",
              "            style=\"display:none;\">\n",
              "\n",
              "<svg xmlns=\"http://www.w3.org/2000/svg\" height=\"24px\"viewBox=\"0 0 24 24\"\n",
              "     width=\"24px\">\n",
              "    <g>\n",
              "        <path d=\"M19 3H5c-1.1 0-2 .9-2 2v14c0 1.1.9 2 2 2h14c1.1 0 2-.9 2-2V5c0-1.1-.9-2-2-2zM9 17H7v-7h2v7zm4 0h-2V7h2v10zm4 0h-2v-4h2v4z\"/>\n",
              "    </g>\n",
              "</svg>\n",
              "  </button>\n",
              "\n",
              "<style>\n",
              "  .colab-df-quickchart {\n",
              "      --bg-color: #E8F0FE;\n",
              "      --fill-color: #1967D2;\n",
              "      --hover-bg-color: #E2EBFA;\n",
              "      --hover-fill-color: #174EA6;\n",
              "      --disabled-fill-color: #AAA;\n",
              "      --disabled-bg-color: #DDD;\n",
              "  }\n",
              "\n",
              "  [theme=dark] .colab-df-quickchart {\n",
              "      --bg-color: #3B4455;\n",
              "      --fill-color: #D2E3FC;\n",
              "      --hover-bg-color: #434B5C;\n",
              "      --hover-fill-color: #FFFFFF;\n",
              "      --disabled-bg-color: #3B4455;\n",
              "      --disabled-fill-color: #666;\n",
              "  }\n",
              "\n",
              "  .colab-df-quickchart {\n",
              "    background-color: var(--bg-color);\n",
              "    border: none;\n",
              "    border-radius: 50%;\n",
              "    cursor: pointer;\n",
              "    display: none;\n",
              "    fill: var(--fill-color);\n",
              "    height: 32px;\n",
              "    padding: 0;\n",
              "    width: 32px;\n",
              "  }\n",
              "\n",
              "  .colab-df-quickchart:hover {\n",
              "    background-color: var(--hover-bg-color);\n",
              "    box-shadow: 0 1px 2px rgba(60, 64, 67, 0.3), 0 1px 3px 1px rgba(60, 64, 67, 0.15);\n",
              "    fill: var(--button-hover-fill-color);\n",
              "  }\n",
              "\n",
              "  .colab-df-quickchart-complete:disabled,\n",
              "  .colab-df-quickchart-complete:disabled:hover {\n",
              "    background-color: var(--disabled-bg-color);\n",
              "    fill: var(--disabled-fill-color);\n",
              "    box-shadow: none;\n",
              "  }\n",
              "\n",
              "  .colab-df-spinner {\n",
              "    border: 2px solid var(--fill-color);\n",
              "    border-color: transparent;\n",
              "    border-bottom-color: var(--fill-color);\n",
              "    animation:\n",
              "      spin 1s steps(1) infinite;\n",
              "  }\n",
              "\n",
              "  @keyframes spin {\n",
              "    0% {\n",
              "      border-color: transparent;\n",
              "      border-bottom-color: var(--fill-color);\n",
              "      border-left-color: var(--fill-color);\n",
              "    }\n",
              "    20% {\n",
              "      border-color: transparent;\n",
              "      border-left-color: var(--fill-color);\n",
              "      border-top-color: var(--fill-color);\n",
              "    }\n",
              "    30% {\n",
              "      border-color: transparent;\n",
              "      border-left-color: var(--fill-color);\n",
              "      border-top-color: var(--fill-color);\n",
              "      border-right-color: var(--fill-color);\n",
              "    }\n",
              "    40% {\n",
              "      border-color: transparent;\n",
              "      border-right-color: var(--fill-color);\n",
              "      border-top-color: var(--fill-color);\n",
              "    }\n",
              "    60% {\n",
              "      border-color: transparent;\n",
              "      border-right-color: var(--fill-color);\n",
              "    }\n",
              "    80% {\n",
              "      border-color: transparent;\n",
              "      border-right-color: var(--fill-color);\n",
              "      border-bottom-color: var(--fill-color);\n",
              "    }\n",
              "    90% {\n",
              "      border-color: transparent;\n",
              "      border-bottom-color: var(--fill-color);\n",
              "    }\n",
              "  }\n",
              "</style>\n",
              "\n",
              "  <script>\n",
              "    async function quickchart(key) {\n",
              "      const quickchartButtonEl =\n",
              "        document.querySelector('#' + key + ' button');\n",
              "      quickchartButtonEl.disabled = true;  // To prevent multiple clicks.\n",
              "      quickchartButtonEl.classList.add('colab-df-spinner');\n",
              "      try {\n",
              "        const charts = await google.colab.kernel.invokeFunction(\n",
              "            'suggestCharts', [key], {});\n",
              "      } catch (error) {\n",
              "        console.error('Error during call to suggestCharts:', error);\n",
              "      }\n",
              "      quickchartButtonEl.classList.remove('colab-df-spinner');\n",
              "      quickchartButtonEl.classList.add('colab-df-quickchart-complete');\n",
              "    }\n",
              "    (() => {\n",
              "      let quickchartButtonEl =\n",
              "        document.querySelector('#df-ac13ec72-3114-44af-b37c-b1ce547f6b4b button');\n",
              "      quickchartButtonEl.style.display =\n",
              "        google.colab.kernel.accessAllowed ? 'block' : 'none';\n",
              "    })();\n",
              "  </script>\n",
              "</div>\n",
              "\n",
              "    </div>\n",
              "  </div>\n"
            ],
            "application/vnd.google.colaboratory.intrinsic+json": {
              "type": "dataframe",
              "variable_name": "filtered_data1"
            }
          },
          "metadata": {},
          "execution_count": 62
        }
      ],
      "source": [
        "filtered_data1.head(5)"
      ]
    },
    {
      "cell_type": "markdown",
      "metadata": {
        "id": "OszZKkexLIhN"
      },
      "source": [
        "# **Splitting the filtered data into features (X) and labels (y)**"
      ]
    },
    {
      "cell_type": "code",
      "execution_count": null,
      "metadata": {
        "id": "fvG-kXk1LIhO"
      },
      "outputs": [],
      "source": [
        "X3 = filtered_data1.iloc[:,0:-1].values\n",
        "X4 = filtered_data2.iloc[:,0:-1].values"
      ]
    },
    {
      "cell_type": "code",
      "execution_count": null,
      "metadata": {
        "id": "SnriA7vILIhO"
      },
      "outputs": [],
      "source": [
        "y3 = filtered_data1.iloc[:,-1:].values\n",
        "y3[y3>1] = 0"
      ]
    },
    {
      "cell_type": "code",
      "execution_count": null,
      "metadata": {
        "id": "UUTe7_2nZnUW"
      },
      "outputs": [],
      "source": [
        "y4 = filtered_data2.iloc[:,-1:].values\n",
        "y4[y4>1] = 0"
      ]
    },
    {
      "cell_type": "code",
      "execution_count": null,
      "metadata": {
        "colab": {
          "base_uri": "https://localhost:8080/"
        },
        "id": "6TPIKlr3-G-Q",
        "outputId": "1748bb38-7ed8-4379-b94b-b9e52c643f2e"
      },
      "outputs": [
        {
          "output_type": "stream",
          "name": "stdout",
          "text": [
            "[[ 134.64937122  192.06145019  224.68726805 ... -113.089676\n",
            "   -89.19842549  -50.21701889]\n",
            " [ 385.08493341  365.71296447  353.20669322 ...  152.24005842\n",
            "   143.74777469  128.60331285]\n",
            " [ -32.72723057  -36.82632357  -38.29484437 ...  -38.08615055\n",
            "   -40.4082585   -35.32747647]\n",
            " ...\n",
            " [ -74.62075565  -62.24989338  -56.37080485 ...  -15.73532623\n",
            "   -17.56312091  -20.34029627]\n",
            " [  18.52313185   17.80695436   16.11866285 ...  -12.37342192\n",
            "     3.94211549   25.4882227 ]\n",
            " [ 246.09165022    9.31642213 -110.88006823 ...  318.28073224\n",
            "   386.79932953  415.97389996]]\n"
          ]
        }
      ],
      "source": [
        "print(X3)"
      ]
    },
    {
      "cell_type": "code",
      "execution_count": null,
      "metadata": {
        "colab": {
          "base_uri": "https://localhost:8080/"
        },
        "id": "o6VH3Rdu_wgz",
        "outputId": "26d55625-a0fb-4f5c-da2e-c1fac38937f3"
      },
      "outputs": [
        {
          "output_type": "stream",
          "name": "stdout",
          "text": [
            "[[0]\n",
            " [1]\n",
            " [0]\n",
            " ...\n",
            " [0]\n",
            " [0]\n",
            " [1]]\n"
          ]
        }
      ],
      "source": [
        "print(y3)"
      ]
    },
    {
      "cell_type": "markdown",
      "metadata": {
        "id": "nQkcfD_gLIhP"
      },
      "source": [
        "# **Implementing the Models**"
      ]
    },
    {
      "cell_type": "code",
      "execution_count": null,
      "metadata": {
        "id": "W3dh4MuJ9Y47"
      },
      "outputs": [],
      "source": [
        "from tensorflow.keras import layers, models\n",
        "from sklearn.metrics import precision_score, recall_score, f1_score\n",
        "from tensorflow.keras.models import Sequential\n",
        "from tensorflow.keras.layers import Flatten, Dense"
      ]
    },
    {
      "cell_type": "markdown",
      "metadata": {
        "id": "zRS2FAQlcOxW"
      },
      "source": [
        "# *Alexnet model*"
      ]
    },
    {
      "cell_type": "markdown",
      "metadata": {
        "id": "TBTJQ2djCtJt"
      },
      "source": [
        "**Architecture of a model**"
      ]
    },
    {
      "cell_type": "code",
      "execution_count": null,
      "metadata": {
        "id": "P2C2mqGS9dr7"
      },
      "outputs": [],
      "source": [
        "def build_eeg_alexnet(input_shape, num_classes):\n",
        "    model = models.Sequential()\n",
        "\n",
        "    # Convolutional layers\n",
        "    model.add(layers.Conv1D(96, kernel_size=11, strides=4, activation='relu', input_shape=input_shape))\n",
        "    model.add(layers.MaxPooling1D(pool_size=3, strides=2))\n",
        "    model.add(layers.Conv1D(256, kernel_size=5, padding='same', activation='relu'))\n",
        "    model.add(layers.MaxPooling1D(pool_size=3, strides=2))\n",
        "    model.add(layers.Conv1D(384, kernel_size=3, padding='same', activation='relu'))\n",
        "    model.add(layers.Conv1D(384, kernel_size=3, padding='same', activation='relu'))\n",
        "    model.add(layers.Conv1D(256, kernel_size=3, padding='same', activation='relu'))\n",
        "    model.add(layers.MaxPooling1D(pool_size=3, strides=2))\n",
        "\n",
        "    # Flatten layer\n",
        "    model.add(layers.Flatten())\n",
        "\n",
        "    # Fully connected layers\n",
        "    model.add(layers.Dense(4096, activation='relu'))\n",
        "    model.add(layers.Dropout(0.5))\n",
        "    model.add(layers.Dense(4096, activation='relu'))\n",
        "    model.add(layers.Dropout(0.5))\n",
        "\n",
        "    # Output layer\n",
        "    model.add(layers.Dense(num_classes, activation='softmax'))\n",
        "\n",
        "    return model"
      ]
    },
    {
      "cell_type": "markdown",
      "metadata": {
        "id": "dOBASbaqLIhO"
      },
      "source": [
        " **Splitting the Dataset into Training and Test Sets**"
      ]
    },
    {
      "cell_type": "code",
      "execution_count": null,
      "metadata": {
        "id": "EYHmkBkHCgUJ"
      },
      "outputs": [],
      "source": [
        "X_train, X_temp, y_train, y_temp = train_test_split(X3, y3, test_size=0.2, random_state=42)\n",
        "X_val, X_test, y_val, y_test = train_test_split(X_temp, y_temp, test_size=0.5, random_state=42)"
      ]
    },
    {
      "cell_type": "markdown",
      "metadata": {
        "id": "uMBcXFcECkcN"
      },
      "source": [
        " **Reshaping for alexnet model**"
      ]
    },
    {
      "cell_type": "code",
      "execution_count": null,
      "metadata": {
        "id": "fwUOBFLn9aTp"
      },
      "outputs": [],
      "source": [
        "X_train = np.expand_dims(X_train, axis=-1)\n",
        "X_val = np.expand_dims(X_val, axis=-1)\n",
        "X_test = np.expand_dims(X_test, axis=-1)"
      ]
    },
    {
      "cell_type": "markdown",
      "metadata": {
        "id": "mFIGVCq_DoFa"
      },
      "source": [
        "**initialization of a parameter**"
      ]
    },
    {
      "cell_type": "code",
      "execution_count": null,
      "metadata": {
        "id": "L3bRpG5h9lzM"
      },
      "outputs": [],
      "source": [
        "input_shape = (178, 1)\n",
        "num_classes = 2"
      ]
    },
    {
      "cell_type": "markdown",
      "metadata": {
        "id": "MGUkicLDDLxs"
      },
      "source": [
        "**Compilation and fiting of a model**"
      ]
    },
    {
      "cell_type": "code",
      "execution_count": null,
      "metadata": {
        "id": "dRzGunbH9m6c"
      },
      "outputs": [],
      "source": [
        "eeg_alexnet = build_eeg_alexnet(input_shape, num_classes)"
      ]
    },
    {
      "cell_type": "code",
      "execution_count": null,
      "metadata": {
        "id": "VunlQ6TT9oQE"
      },
      "outputs": [],
      "source": [
        "eeg_alexnet.compile(optimizer='adam',\n",
        "                     loss='sparse_categorical_crossentropy',\n",
        "                     metrics=['accuracy'])"
      ]
    },
    {
      "cell_type": "code",
      "execution_count": null,
      "metadata": {
        "colab": {
          "base_uri": "https://localhost:8080/"
        },
        "id": "1S01ziMd9pvd",
        "outputId": "73cf3676-a873-4063-bd61-68c03aa84db3"
      },
      "outputs": [
        {
          "output_type": "stream",
          "name": "stdout",
          "text": [
            "Epoch 1/5\n",
            "150/150 [==============================] - 62s 395ms/step - loss: 1.2652 - accuracy: 0.9021 - val_loss: 0.0808 - val_accuracy: 0.9683\n",
            "Epoch 2/5\n",
            "150/150 [==============================] - 53s 354ms/step - loss: 0.0931 - accuracy: 0.9710 - val_loss: 0.0783 - val_accuracy: 0.9750\n",
            "Epoch 3/5\n",
            "150/150 [==============================] - 52s 349ms/step - loss: 0.0835 - accuracy: 0.9708 - val_loss: 0.1164 - val_accuracy: 0.9617\n",
            "Epoch 4/5\n",
            "150/150 [==============================] - 53s 353ms/step - loss: 0.0698 - accuracy: 0.9758 - val_loss: 0.0766 - val_accuracy: 0.9683\n",
            "Epoch 5/5\n",
            "150/150 [==============================] - 52s 347ms/step - loss: 0.0715 - accuracy: 0.9765 - val_loss: 0.0810 - val_accuracy: 0.9700\n"
          ]
        }
      ],
      "source": [
        "history_alexnet = eeg_alexnet.fit(X_train, y_train,\n",
        "                           epochs=5,\n",
        "                           validation_data=(X_val, y_val))"
      ]
    },
    {
      "cell_type": "markdown",
      "metadata": {
        "id": "P0ees19jDWVK"
      },
      "source": [
        "**Performance metrics**"
      ]
    },
    {
      "cell_type": "code",
      "execution_count": null,
      "metadata": {
        "colab": {
          "base_uri": "https://localhost:8080/"
        },
        "id": "xC2Ah8HacPFM",
        "outputId": "f99a7f01-2480-487b-d826-4a4674ede406"
      },
      "outputs": [
        {
          "output_type": "stream",
          "name": "stdout",
          "text": [
            "19/19 [==============================] - 1s 48ms/step - loss: 0.0465 - accuracy: 0.9783\n",
            "Test accuracy: 0.9783333539962769\n"
          ]
        }
      ],
      "source": [
        "test_loss, accuracy_alexnet = eeg_alexnet.evaluate(X_test, y_test)\n",
        "print('Test accuracy:', accuracy_alexnet)"
      ]
    },
    {
      "cell_type": "code",
      "execution_count": null,
      "metadata": {
        "id": "xtq5HPLhzCCJ"
      },
      "outputs": [],
      "source": [
        "train_losses_alexnet = history_alexnet.history['loss']"
      ]
    },
    {
      "cell_type": "code",
      "execution_count": null,
      "metadata": {
        "colab": {
          "base_uri": "https://localhost:8080/"
        },
        "id": "uJSgwhFp95d_",
        "outputId": "b82a46a8-7099-4e98-d2a0-057f0d5341ed"
      },
      "outputs": [
        {
          "output_type": "stream",
          "name": "stdout",
          "text": [
            "19/19 [==============================] - 1s 33ms/step\n"
          ]
        }
      ],
      "source": [
        "y_pred_alexnet = eeg_alexnet.predict(X_test)"
      ]
    },
    {
      "cell_type": "code",
      "execution_count": null,
      "metadata": {
        "id": "zVPyVV-O98Hf"
      },
      "outputs": [],
      "source": [
        "y_pred_labels_alexnet = np.argmax(y_pred_alexnet, axis=1)"
      ]
    },
    {
      "cell_type": "code",
      "execution_count": null,
      "metadata": {
        "colab": {
          "base_uri": "https://localhost:8080/"
        },
        "id": "RDBrDILX995X",
        "outputId": "3a23a811-ddcc-40d6-ca9c-ec5af2ed8a0d"
      },
      "outputs": [
        {
          "output_type": "stream",
          "name": "stdout",
          "text": [
            "Precision (AlexNet): 0.9782244664934248\n"
          ]
        }
      ],
      "source": [
        "precision_alexnet = precision_score(y_test, y_pred_labels_alexnet, average='weighted')\n",
        "print(\"Precision (AlexNet):\", precision_alexnet)"
      ]
    },
    {
      "cell_type": "code",
      "execution_count": null,
      "metadata": {
        "colab": {
          "base_uri": "https://localhost:8080/"
        },
        "id": "4U-yz28P-A7X",
        "outputId": "f4d1a1f0-a1ca-4cba-a20f-d0ccb3e31948"
      },
      "outputs": [
        {
          "output_type": "stream",
          "name": "stdout",
          "text": [
            "Recall (AlexNet): 0.9783333333333334\n"
          ]
        }
      ],
      "source": [
        "recall_alexnet = recall_score(y_test, y_pred_labels_alexnet, average='weighted')\n",
        "print(\"Recall (AlexNet):\", recall_alexnet)"
      ]
    },
    {
      "cell_type": "code",
      "execution_count": null,
      "metadata": {
        "colab": {
          "base_uri": "https://localhost:8080/"
        },
        "id": "LRpp6rwItybA",
        "outputId": "ea37ea9e-28f8-4b81-ae02-1234dd7f2563"
      },
      "outputs": [
        {
          "output_type": "stream",
          "name": "stdout",
          "text": [
            "F1-score (AlexNet): 0.9780506104271793\n"
          ]
        }
      ],
      "source": [
        "f1_score_alexnet = f1_score(y_test, y_pred_labels_alexnet, average='weighted')\n",
        "print(\"F1-score (AlexNet):\", f1_score_alexnet)"
      ]
    },
    {
      "cell_type": "markdown",
      "metadata": {
        "id": "8MXpH9QsqDNm"
      },
      "source": [
        "# *Densenet model*"
      ]
    },
    {
      "cell_type": "markdown",
      "metadata": {
        "id": "rgvnABxucqN1"
      },
      "source": [
        "**Architecture of a model**"
      ]
    },
    {
      "cell_type": "code",
      "execution_count": null,
      "metadata": {
        "id": "N5GVtXbYLIhP"
      },
      "outputs": [],
      "source": [
        "def denseBlock(dims,inp) :\n",
        "    x = tf.keras.layers.BatchNormalization() (inp)\n",
        "    x = tf.keras.layers.Dense(dims,activation=tf.keras.layers.LeakyReLU(0.2)) (x)\n",
        "    x = tf.keras.layers.Dropout(0.4) (x)\n",
        "    x = tf.keras.layers.Dense(dims,activation=tf.keras.layers.LeakyReLU(0.2)) (x)\n",
        "    x = tf.keras.layers.Dropout(0.4) (x)\n",
        "    x = tf.keras.layers.Dense(dims,activation=tf.keras.layers.LeakyReLU(0.2)) (x)\n",
        "    x = tf.keras.layers.Dropout(0.4) (x)\n",
        "    x = tf.keras.layers.Dense(178,activation=tf.keras.layers.LeakyReLU(0.2)) (x)\n",
        "    return x"
      ]
    },
    {
      "cell_type": "code",
      "execution_count": null,
      "metadata": {
        "id": "PRC7NY2Qc5Wf"
      },
      "outputs": [],
      "source": [
        "inp = tf.keras.layers.Input(shape=(178,),name='input')"
      ]
    },
    {
      "cell_type": "code",
      "execution_count": null,
      "metadata": {
        "id": "yt6SXMmQc6zg"
      },
      "outputs": [],
      "source": [
        "x1 = denseBlock(256,inp)\n",
        "x2 = denseBlock(512,inp)\n",
        "x3 = denseBlock(1024,inp)"
      ]
    },
    {
      "cell_type": "code",
      "execution_count": null,
      "metadata": {
        "id": "R5WwMT6Jc78Q"
      },
      "outputs": [],
      "source": [
        "x = tf.keras.layers.Concatenate()([x1,x2,x3])\n",
        "x = tf.keras.layers.Dense(128,activation=tf.keras.layers.LeakyReLU(0.2)) (x)"
      ]
    },
    {
      "cell_type": "code",
      "execution_count": null,
      "metadata": {
        "id": "pWAjGT9Qc9Q_"
      },
      "outputs": [],
      "source": [
        "out = tf.keras.layers.Dense(1,activation='sigmoid',name='output') (x)"
      ]
    },
    {
      "cell_type": "code",
      "execution_count": null,
      "metadata": {
        "id": "MZsTbKo4c-Yg"
      },
      "outputs": [],
      "source": [
        "eeg_densenet_model = tf.keras.models.Model(inp,out)"
      ]
    },
    {
      "cell_type": "code",
      "execution_count": null,
      "metadata": {
        "colab": {
          "base_uri": "https://localhost:8080/"
        },
        "id": "gG2rmIqJLIhP",
        "outputId": "6d1e4681-7d0a-43f2-c459-d23622586f71"
      },
      "outputs": [
        {
          "output_type": "stream",
          "name": "stdout",
          "text": [
            "Model: \"model\"\n",
            "__________________________________________________________________________________________________\n",
            " Layer (type)                Output Shape                 Param #   Connected to                  \n",
            "==================================================================================================\n",
            " input (InputLayer)          [(None, 178)]                0         []                            \n",
            "                                                                                                  \n",
            " batch_normalization (Batch  (None, 178)                  712       ['input[0][0]']               \n",
            " Normalization)                                                                                   \n",
            "                                                                                                  \n",
            " batch_normalization_1 (Bat  (None, 178)                  712       ['input[0][0]']               \n",
            " chNormalization)                                                                                 \n",
            "                                                                                                  \n",
            " batch_normalization_2 (Bat  (None, 178)                  712       ['input[0][0]']               \n",
            " chNormalization)                                                                                 \n",
            "                                                                                                  \n",
            " dense_3 (Dense)             (None, 256)                  45824     ['batch_normalization[0][0]'] \n",
            "                                                                                                  \n",
            " dense_7 (Dense)             (None, 512)                  91648     ['batch_normalization_1[0][0]'\n",
            "                                                                    ]                             \n",
            "                                                                                                  \n",
            " dense_11 (Dense)            (None, 1024)                 183296    ['batch_normalization_2[0][0]'\n",
            "                                                                    ]                             \n",
            "                                                                                                  \n",
            " dropout_2 (Dropout)         (None, 256)                  0         ['dense_3[0][0]']             \n",
            "                                                                                                  \n",
            " dropout_5 (Dropout)         (None, 512)                  0         ['dense_7[0][0]']             \n",
            "                                                                                                  \n",
            " dropout_8 (Dropout)         (None, 1024)                 0         ['dense_11[0][0]']            \n",
            "                                                                                                  \n",
            " dense_4 (Dense)             (None, 256)                  65792     ['dropout_2[0][0]']           \n",
            "                                                                                                  \n",
            " dense_8 (Dense)             (None, 512)                  262656    ['dropout_5[0][0]']           \n",
            "                                                                                                  \n",
            " dense_12 (Dense)            (None, 1024)                 1049600   ['dropout_8[0][0]']           \n",
            "                                                                                                  \n",
            " dropout_3 (Dropout)         (None, 256)                  0         ['dense_4[0][0]']             \n",
            "                                                                                                  \n",
            " dropout_6 (Dropout)         (None, 512)                  0         ['dense_8[0][0]']             \n",
            "                                                                                                  \n",
            " dropout_9 (Dropout)         (None, 1024)                 0         ['dense_12[0][0]']            \n",
            "                                                                                                  \n",
            " dense_5 (Dense)             (None, 256)                  65792     ['dropout_3[0][0]']           \n",
            "                                                                                                  \n",
            " dense_9 (Dense)             (None, 512)                  262656    ['dropout_6[0][0]']           \n",
            "                                                                                                  \n",
            " dense_13 (Dense)            (None, 1024)                 1049600   ['dropout_9[0][0]']           \n",
            "                                                                                                  \n",
            " dropout_4 (Dropout)         (None, 256)                  0         ['dense_5[0][0]']             \n",
            "                                                                                                  \n",
            " dropout_7 (Dropout)         (None, 512)                  0         ['dense_9[0][0]']             \n",
            "                                                                                                  \n",
            " dropout_10 (Dropout)        (None, 1024)                 0         ['dense_13[0][0]']            \n",
            "                                                                                                  \n",
            " dense_6 (Dense)             (None, 178)                  45746     ['dropout_4[0][0]']           \n",
            "                                                                                                  \n",
            " dense_10 (Dense)            (None, 178)                  91314     ['dropout_7[0][0]']           \n",
            "                                                                                                  \n",
            " dense_14 (Dense)            (None, 178)                  182450    ['dropout_10[0][0]']          \n",
            "                                                                                                  \n",
            " concatenate (Concatenate)   (None, 534)                  0         ['dense_6[0][0]',             \n",
            "                                                                     'dense_10[0][0]',            \n",
            "                                                                     'dense_14[0][0]']            \n",
            "                                                                                                  \n",
            " dense_15 (Dense)            (None, 128)                  68480     ['concatenate[0][0]']         \n",
            "                                                                                                  \n",
            " output (Dense)              (None, 1)                    129       ['dense_15[0][0]']            \n",
            "                                                                                                  \n",
            "==================================================================================================\n",
            "Total params: 3467119 (13.23 MB)\n",
            "Trainable params: 3466051 (13.22 MB)\n",
            "Non-trainable params: 1068 (4.17 KB)\n",
            "__________________________________________________________________________________________________\n"
          ]
        }
      ],
      "source": [
        "eeg_densenet_model.summary()"
      ]
    },
    {
      "cell_type": "markdown",
      "metadata": {
        "id": "Iln65gSGE74H"
      },
      "source": [
        " **Splitting the Dataset into Training and Test Sets**"
      ]
    },
    {
      "cell_type": "code",
      "execution_count": null,
      "metadata": {
        "colab": {
          "base_uri": "https://localhost:8080/"
        },
        "id": "RmCl3mcSB8wD",
        "outputId": "93108209-db9d-4ad2-9ea7-21afaf3847ec"
      },
      "outputs": [
        {
          "output_type": "execute_result",
          "data": {
            "text/plain": [
              "((4499, 178), (1500, 1))"
            ]
          },
          "metadata": {},
          "execution_count": 90
        }
      ],
      "source": [
        "X_train, X_test, y_train, y_test = train_test_split(X3,y3,test_size=0.25,shuffle=True)\n",
        "X_train.shape,y_test.shape"
      ]
    },
    {
      "cell_type": "markdown",
      "metadata": {
        "id": "GuLINUScLIhP"
      },
      "source": [
        "**Model visualization**"
      ]
    },
    {
      "cell_type": "code",
      "execution_count": null,
      "metadata": {
        "colab": {
          "base_uri": "https://localhost:8080/",
          "height": 1000
        },
        "id": "Lt8qo2VALIhP",
        "outputId": "668b40d1-5e37-4279-fc08-1a8eeebb9af0"
      },
      "outputs": [
        {
          "output_type": "execute_result",
          "data": {
            "image/png": "[encoded data removed]",
            "text/plain": [
              "<IPython.core.display.Image object>"
            ]
          },
          "metadata": {},
          "execution_count": 91
        }
      ],
      "source": [
        "tf.keras.utils.plot_model(eeg_densenet_model,show_shapes=True)"
      ]
    },
    {
      "cell_type": "markdown",
      "metadata": {
        "id": "LuAxN2K7FhQV"
      },
      "source": [
        "**Compilation and fiting of a model**"
      ]
    },
    {
      "cell_type": "code",
      "execution_count": null,
      "metadata": {
        "colab": {
          "base_uri": "https://localhost:8080/"
        },
        "id": "K0TWMNrbLIhQ",
        "outputId": "112dce71-ccfd-428a-a20b-8373932f828b"
      },
      "outputs": [
        {
          "output_type": "stream",
          "name": "stdout",
          "text": [
            "Epoch 1/50\n",
            "29/29 [==============================] - 5s 76ms/step - loss: 0.6696 - accuracy: 0.6052 - val_loss: 0.5860 - val_accuracy: 0.8144\n",
            "Epoch 2/50\n",
            "29/29 [==============================] - 2s 66ms/step - loss: 0.5738 - accuracy: 0.8244 - val_loss: 0.4556 - val_accuracy: 0.8911\n",
            "Epoch 3/50\n",
            "29/29 [==============================] - 2s 75ms/step - loss: 0.4519 - accuracy: 0.8916 - val_loss: 0.3481 - val_accuracy: 0.9233\n",
            "Epoch 4/50\n",
            "29/29 [==============================] - 2s 78ms/step - loss: 0.3316 - accuracy: 0.9194 - val_loss: 0.2455 - val_accuracy: 0.9478\n",
            "Epoch 5/50\n",
            "29/29 [==============================] - 2s 66ms/step - loss: 0.2614 - accuracy: 0.9364 - val_loss: 0.2180 - val_accuracy: 0.9489\n",
            "Epoch 6/50\n",
            "29/29 [==============================] - 2s 66ms/step - loss: 0.2057 - accuracy: 0.9469 - val_loss: 0.1579 - val_accuracy: 0.9622\n",
            "Epoch 7/50\n",
            "29/29 [==============================] - 2s 65ms/step - loss: 0.1717 - accuracy: 0.9539 - val_loss: 0.1462 - val_accuracy: 0.9622\n",
            "Epoch 8/50\n",
            "29/29 [==============================] - 2s 66ms/step - loss: 0.1549 - accuracy: 0.9561 - val_loss: 0.1315 - val_accuracy: 0.9678\n",
            "Epoch 9/50\n",
            "29/29 [==============================] - 2s 72ms/step - loss: 0.1357 - accuracy: 0.9639 - val_loss: 0.1220 - val_accuracy: 0.9711\n",
            "Epoch 10/50\n",
            "29/29 [==============================] - 2s 82ms/step - loss: 0.1248 - accuracy: 0.9636 - val_loss: 0.1134 - val_accuracy: 0.9700\n",
            "Epoch 11/50\n",
            "29/29 [==============================] - 2s 64ms/step - loss: 0.1298 - accuracy: 0.9611 - val_loss: 0.1039 - val_accuracy: 0.9778\n",
            "Epoch 12/50\n",
            "29/29 [==============================] - 2s 66ms/step - loss: 0.1212 - accuracy: 0.9622 - val_loss: 0.1068 - val_accuracy: 0.9711\n",
            "Epoch 13/50\n",
            "29/29 [==============================] - 2s 66ms/step - loss: 0.1009 - accuracy: 0.9708 - val_loss: 0.1209 - val_accuracy: 0.9689\n",
            "Epoch 14/50\n",
            "29/29 [==============================] - 2s 65ms/step - loss: 0.0970 - accuracy: 0.9667 - val_loss: 0.1151 - val_accuracy: 0.9667\n",
            "Epoch 15/50\n",
            "29/29 [==============================] - 2s 68ms/step - loss: 0.0941 - accuracy: 0.9697 - val_loss: 0.1188 - val_accuracy: 0.9678\n",
            "Epoch 16/50\n",
            "29/29 [==============================] - 2s 84ms/step - loss: 0.0922 - accuracy: 0.9739 - val_loss: 0.1054 - val_accuracy: 0.9722\n",
            "Epoch 17/50\n",
            "29/29 [==============================] - 2s 66ms/step - loss: 0.0878 - accuracy: 0.9705 - val_loss: 0.0985 - val_accuracy: 0.9767\n",
            "Epoch 18/50\n",
            "29/29 [==============================] - 2s 65ms/step - loss: 0.0943 - accuracy: 0.9700 - val_loss: 0.1155 - val_accuracy: 0.9700\n",
            "Epoch 19/50\n",
            "29/29 [==============================] - 2s 67ms/step - loss: 0.0937 - accuracy: 0.9686 - val_loss: 0.1176 - val_accuracy: 0.9722\n",
            "Epoch 20/50\n",
            "29/29 [==============================] - 2s 65ms/step - loss: 0.0938 - accuracy: 0.9692 - val_loss: 0.1064 - val_accuracy: 0.9733\n",
            "Epoch 21/50\n",
            "29/29 [==============================] - 2s 67ms/step - loss: 0.0761 - accuracy: 0.9753 - val_loss: 0.1148 - val_accuracy: 0.9722\n",
            "Epoch 22/50\n",
            "29/29 [==============================] - 3s 87ms/step - loss: 0.0763 - accuracy: 0.9728 - val_loss: 0.1165 - val_accuracy: 0.9711\n",
            "Epoch 23/50\n",
            "29/29 [==============================] - 2s 67ms/step - loss: 0.0760 - accuracy: 0.9725 - val_loss: 0.1039 - val_accuracy: 0.9733\n",
            "Epoch 24/50\n",
            "29/29 [==============================] - 2s 66ms/step - loss: 0.0812 - accuracy: 0.9747 - val_loss: 0.1008 - val_accuracy: 0.9756\n",
            "Epoch 25/50\n",
            "29/29 [==============================] - 2s 67ms/step - loss: 0.0698 - accuracy: 0.9775 - val_loss: 0.0949 - val_accuracy: 0.9756\n",
            "Epoch 26/50\n",
            "29/29 [==============================] - 2s 65ms/step - loss: 0.0691 - accuracy: 0.9789 - val_loss: 0.1044 - val_accuracy: 0.9722\n",
            "Epoch 27/50\n",
            "29/29 [==============================] - 2s 66ms/step - loss: 0.0870 - accuracy: 0.9725 - val_loss: 0.0920 - val_accuracy: 0.9767\n",
            "Epoch 28/50\n",
            "29/29 [==============================] - 3s 88ms/step - loss: 0.0613 - accuracy: 0.9780 - val_loss: 0.1143 - val_accuracy: 0.9722\n",
            "Epoch 29/50\n",
            "29/29 [==============================] - 2s 66ms/step - loss: 0.0643 - accuracy: 0.9769 - val_loss: 0.1022 - val_accuracy: 0.9756\n",
            "Epoch 30/50\n",
            "29/29 [==============================] - 2s 68ms/step - loss: 0.0568 - accuracy: 0.9814 - val_loss: 0.1053 - val_accuracy: 0.9744\n",
            "Epoch 31/50\n",
            "29/29 [==============================] - 2s 65ms/step - loss: 0.0634 - accuracy: 0.9792 - val_loss: 0.1166 - val_accuracy: 0.9711\n",
            "Epoch 32/50\n",
            "29/29 [==============================] - 2s 66ms/step - loss: 0.0650 - accuracy: 0.9797 - val_loss: 0.0998 - val_accuracy: 0.9744\n",
            "Epoch 33/50\n",
            "29/29 [==============================] - 2s 66ms/step - loss: 0.0521 - accuracy: 0.9831 - val_loss: 0.1089 - val_accuracy: 0.9722\n",
            "Epoch 34/50\n",
            "29/29 [==============================] - 3s 90ms/step - loss: 0.0669 - accuracy: 0.9767 - val_loss: 0.1139 - val_accuracy: 0.9711\n",
            "Epoch 35/50\n",
            "29/29 [==============================] - 2s 66ms/step - loss: 0.0656 - accuracy: 0.9772 - val_loss: 0.1070 - val_accuracy: 0.9711\n",
            "Epoch 36/50\n",
            "29/29 [==============================] - 2s 65ms/step - loss: 0.0612 - accuracy: 0.9794 - val_loss: 0.1131 - val_accuracy: 0.9689\n",
            "Epoch 37/50\n",
            "29/29 [==============================] - 2s 66ms/step - loss: 0.0520 - accuracy: 0.9833 - val_loss: 0.1029 - val_accuracy: 0.9722\n",
            "Epoch 38/50\n",
            "29/29 [==============================] - 2s 65ms/step - loss: 0.0564 - accuracy: 0.9806 - val_loss: 0.1199 - val_accuracy: 0.9700\n",
            "Epoch 39/50\n",
            "29/29 [==============================] - 2s 67ms/step - loss: 0.0531 - accuracy: 0.9811 - val_loss: 0.1129 - val_accuracy: 0.9744\n",
            "Epoch 40/50\n",
            "29/29 [==============================] - 3s 88ms/step - loss: 0.0436 - accuracy: 0.9853 - val_loss: 0.1115 - val_accuracy: 0.9744\n",
            "Epoch 41/50\n",
            "29/29 [==============================] - 2s 65ms/step - loss: 0.0565 - accuracy: 0.9817 - val_loss: 0.1054 - val_accuracy: 0.9722\n",
            "Epoch 42/50\n",
            "29/29 [==============================] - 2s 65ms/step - loss: 0.0587 - accuracy: 0.9772 - val_loss: 0.0992 - val_accuracy: 0.9722\n",
            "Epoch 43/50\n",
            "29/29 [==============================] - 2s 67ms/step - loss: 0.0507 - accuracy: 0.9808 - val_loss: 0.1069 - val_accuracy: 0.9722\n",
            "Epoch 44/50\n",
            "29/29 [==============================] - 2s 66ms/step - loss: 0.0502 - accuracy: 0.9822 - val_loss: 0.1268 - val_accuracy: 0.9667\n",
            "Epoch 45/50\n",
            "29/29 [==============================] - 2s 66ms/step - loss: 0.0433 - accuracy: 0.9856 - val_loss: 0.1264 - val_accuracy: 0.9678\n",
            "Epoch 46/50\n",
            "29/29 [==============================] - 3s 87ms/step - loss: 0.0512 - accuracy: 0.9808 - val_loss: 0.1126 - val_accuracy: 0.9744\n",
            "Epoch 47/50\n",
            "29/29 [==============================] - 2s 69ms/step - loss: 0.0423 - accuracy: 0.9847 - val_loss: 0.1284 - val_accuracy: 0.9711\n",
            "Epoch 48/50\n",
            "29/29 [==============================] - 2s 66ms/step - loss: 0.0615 - accuracy: 0.9797 - val_loss: 0.1069 - val_accuracy: 0.9722\n",
            "Epoch 49/50\n",
            "29/29 [==============================] - 2s 65ms/step - loss: 0.0394 - accuracy: 0.9853 - val_loss: 0.1127 - val_accuracy: 0.9711\n",
            "Epoch 50/50\n",
            "29/29 [==============================] - 2s 66ms/step - loss: 0.0362 - accuracy: 0.9864 - val_loss: 0.1291 - val_accuracy: 0.9678\n"
          ]
        }
      ],
      "source": [
        "eeg_densenet_model.compile(loss='binary_crossentropy',optimizer=tf.keras.optimizers.Adam(1e-4),metrics=['accuracy'])\n",
        "history_densenet = eeg_densenet_model.fit(X_train,y_train,epochs=50,batch_size=128,validation_split=0.2)"
      ]
    },
    {
      "cell_type": "markdown",
      "metadata": {
        "id": "6Yj_bMWQFpWF"
      },
      "source": [
        "**Perfromance metrics**"
      ]
    },
    {
      "cell_type": "code",
      "execution_count": null,
      "metadata": {
        "colab": {
          "base_uri": "https://localhost:8080/"
        },
        "id": "usTUoZ_YLIhQ",
        "outputId": "1d333d0e-d4a7-4375-e812-f8f5218c7a8a"
      },
      "outputs": [
        {
          "output_type": "stream",
          "name": "stdout",
          "text": [
            "47/47 [==============================] - 0s 6ms/step - loss: 0.1390 - accuracy: 0.9613\n",
            "Test Loss: 0.1390385776758194, Test Accuracy: 0.9613333344459534\n"
          ]
        }
      ],
      "source": [
        "loss1, accuracy_densenet = eeg_densenet_model.evaluate(X_test, y_test)\n",
        "print(f'Test Loss: {loss1}, Test Accuracy: {accuracy_densenet}')"
      ]
    },
    {
      "cell_type": "code",
      "execution_count": null,
      "metadata": {
        "colab": {
          "base_uri": "https://localhost:8080/"
        },
        "id": "kuWMKtIHzvNu",
        "outputId": "48311f3a-4f72-4c0a-e1ad-9c01f9da6f5d"
      },
      "outputs": [
        {
          "output_type": "stream",
          "name": "stdout",
          "text": [
            "47/47 [==============================] - 0s 6ms/step\n"
          ]
        }
      ],
      "source": [
        "predictions1 = eeg_densenet_model.predict(X_test)"
      ]
    },
    {
      "cell_type": "code",
      "execution_count": null,
      "metadata": {
        "id": "U3D_S41KzvN0"
      },
      "outputs": [],
      "source": [
        "binary_predictions1 = (predictions1 > 0.5).astype('int32')"
      ]
    },
    {
      "cell_type": "code",
      "execution_count": null,
      "metadata": {
        "colab": {
          "base_uri": "https://localhost:8080/"
        },
        "id": "cvQtjfy7zvN0",
        "outputId": "2b79c534-bb14-4748-8fc4-003fe6b3c5ea"
      },
      "outputs": [
        {
          "output_type": "stream",
          "name": "stdout",
          "text": [
            "Precision: 0.9832635983263598\n"
          ]
        }
      ],
      "source": [
        "precision_densenet = precision_score(y_test, binary_predictions1)\n",
        "print(\"Precision:\", precision_densenet)"
      ]
    },
    {
      "cell_type": "code",
      "execution_count": null,
      "metadata": {
        "colab": {
          "base_uri": "https://localhost:8080/"
        },
        "id": "q7OMk9DKGfA-",
        "outputId": "6ab7dec2-4ce3-4331-962f-11f63a740566"
      },
      "outputs": [
        {
          "output_type": "stream",
          "name": "stdout",
          "text": [
            "F1 Score: 0.8901515151515151\n"
          ]
        }
      ],
      "source": [
        "f1_score_densenet = f1_score(y_test, binary_predictions1)\n",
        "print(\"F1 Score:\", f1_score_densenet)"
      ]
    },
    {
      "cell_type": "code",
      "execution_count": null,
      "metadata": {
        "colab": {
          "base_uri": "https://localhost:8080/"
        },
        "id": "R1gH7k3MGfBE",
        "outputId": "ce730eb3-2d11-435d-f949-b1bab0825175"
      },
      "outputs": [
        {
          "output_type": "stream",
          "name": "stdout",
          "text": [
            "Recall: 0.8131487889273357\n"
          ]
        }
      ],
      "source": [
        "recall_densenet = recall_score(y_test, binary_predictions1)\n",
        "print(\"Recall:\", recall_densenet)"
      ]
    },
    {
      "cell_type": "markdown",
      "metadata": {
        "id": "6dceW8ldiZpw"
      },
      "source": [
        "# *Googlenet model*"
      ]
    },
    {
      "cell_type": "markdown",
      "metadata": {
        "id": "ZcURwLj5F1Jw"
      },
      "source": [
        "**Architecture of a model**"
      ]
    },
    {
      "cell_type": "code",
      "execution_count": null,
      "metadata": {
        "id": "yjNjUoq--mSD"
      },
      "outputs": [],
      "source": [
        "def inception_module(x, filters):\n",
        "    # 1x1 convolution branch\n",
        "    conv1x1 = layers.Conv1D(filters[0], 1, padding='same', activation='relu')(x)\n",
        "\n",
        "    # 3x3 convolution branch\n",
        "    conv3x3 = layers.Conv1D(filters[1], 1, padding='same', activation='relu')(x)\n",
        "    conv3x3 = layers.Conv1D(filters[2], 3, padding='same', activation='relu')(conv3x3)\n",
        "\n",
        "    # 5x5 convolution branch\n",
        "    conv5x5 = layers.Conv1D(filters[3], 1, padding='same', activation='relu')(x)\n",
        "    conv5x5 = layers.Conv1D(filters[4], 5, padding='same', activation='relu')(conv5x5)\n",
        "\n",
        "    # Max pooling branch\n",
        "    pool = layers.MaxPooling1D(3, strides=1, padding='same')(x)\n",
        "    pool = layers.Conv1D(filters[5], 1, padding='same', activation='relu')(pool)\n",
        "\n",
        "    # Concatenate the outputs\n",
        "    output = layers.concatenate([conv1x1, conv3x3, conv5x5, pool], axis=-1)\n",
        "    return output"
      ]
    },
    {
      "cell_type": "code",
      "execution_count": null,
      "metadata": {
        "id": "BdxXPPP0-qxl"
      },
      "outputs": [],
      "source": [
        "def build_eeg_googlenet(input_shape, num_classes):\n",
        "    inputs = tf.keras.Input(shape=input_shape)\n",
        "\n",
        "    # Stem module\n",
        "    x = layers.Conv1D(64, 7, strides=2, padding='same', activation='relu')(inputs)\n",
        "    x = layers.MaxPooling1D(3, strides=2, padding='same')(x)\n",
        "    x = layers.Conv1D(64, 1, padding='same', activation='relu')(x)\n",
        "    x = layers.Conv1D(192, 3, padding='same', activation='relu')(x)\n",
        "    x = layers.MaxPooling1D(3, strides=2, padding='same')(x)\n",
        "\n",
        "    # Inception modules\n",
        "    x = inception_module(x, filters=[64, 96, 128, 16, 32, 32])\n",
        "    x = inception_module(x, filters=[128, 128, 192, 32, 96, 64])\n",
        "    x = layers.MaxPooling1D(3, strides=2, padding='same')(x)\n",
        "\n",
        "    # Flatten layer\n",
        "    x = layers.Flatten()(x)\n",
        "\n",
        "    # Fully connected layers\n",
        "    x = layers.Dense(1024, activation='relu')(x)\n",
        "    x = layers.Dropout(0.4)(x)\n",
        "    x = layers.Dense(1024, activation='relu')(x)\n",
        "    x = layers.Dropout(0.4)(x)\n",
        "\n",
        "    # Output layer\n",
        "    outputs = layers.Dense(num_classes, activation='softmax')(x)\n",
        "\n",
        "    model = tf.keras.Model(inputs, outputs)\n",
        "    return model"
      ]
    },
    {
      "cell_type": "markdown",
      "metadata": {
        "id": "8HFP234PGChA"
      },
      "source": [
        " **Splitting the Dataset into Training and Test Sets**"
      ]
    },
    {
      "cell_type": "code",
      "execution_count": null,
      "metadata": {
        "id": "28OTWu6EFvaH"
      },
      "outputs": [],
      "source": [
        "X_train, X_temp, y_train, y_temp = train_test_split(X3, y3, test_size=0.2, random_state=42)\n",
        "X_val, X_test, y_val, y_test = train_test_split(X_temp, y_temp, test_size=0.5, random_state=42)"
      ]
    },
    {
      "cell_type": "markdown",
      "metadata": {
        "id": "B9LMbz9wGMNg"
      },
      "source": [
        " **Reshaping for googlenet model**"
      ]
    },
    {
      "cell_type": "code",
      "execution_count": null,
      "metadata": {
        "id": "GJWR4bNO-h8O"
      },
      "outputs": [],
      "source": [
        "X_train = np.expand_dims(X_train, axis=-1)\n",
        "X_val = np.expand_dims(X_val, axis=-1)\n",
        "X_test = np.expand_dims(X_test, axis=-1)"
      ]
    },
    {
      "cell_type": "markdown",
      "metadata": {
        "id": "n22FL2Z4GMNg"
      },
      "source": [
        "**initialization of a parameter**"
      ]
    },
    {
      "cell_type": "code",
      "execution_count": null,
      "metadata": {
        "id": "KEtaqEUr-wSV"
      },
      "outputs": [],
      "source": [
        "input_shape = (178, 1)\n",
        "num_classes = 2"
      ]
    },
    {
      "cell_type": "markdown",
      "metadata": {
        "id": "OZ0YJ5chGMNg"
      },
      "source": [
        "**Compilation and fiting of a model**"
      ]
    },
    {
      "cell_type": "code",
      "execution_count": null,
      "metadata": {
        "id": "YTbghvxq-y4d"
      },
      "outputs": [],
      "source": [
        "eeg_googlenet = build_eeg_googlenet(input_shape, num_classes)"
      ]
    },
    {
      "cell_type": "code",
      "execution_count": null,
      "metadata": {
        "id": "8kXtde3y-00O"
      },
      "outputs": [],
      "source": [
        "eeg_googlenet.compile(optimizer='adam',\n",
        "                       loss='sparse_categorical_crossentropy',\n",
        "                       metrics=['accuracy'])"
      ]
    },
    {
      "cell_type": "code",
      "execution_count": null,
      "metadata": {
        "colab": {
          "base_uri": "https://localhost:8080/"
        },
        "id": "pVdo4ZCZ-2Ad",
        "outputId": "a99fa3e0-1369-44c0-fe23-037e5d0ade2d"
      },
      "outputs": [
        {
          "output_type": "stream",
          "name": "stdout",
          "text": [
            "Epoch 1/5\n",
            "150/150 [==============================] - 20s 111ms/step - loss: 1.6030 - accuracy: 0.8452 - val_loss: 0.0878 - val_accuracy: 0.9800\n",
            "Epoch 2/5\n",
            "150/150 [==============================] - 15s 101ms/step - loss: 0.0813 - accuracy: 0.9750 - val_loss: 0.0599 - val_accuracy: 0.9750\n",
            "Epoch 3/5\n",
            "150/150 [==============================] - 15s 102ms/step - loss: 0.0619 - accuracy: 0.9792 - val_loss: 0.0705 - val_accuracy: 0.9767\n",
            "Epoch 4/5\n",
            "150/150 [==============================] - 16s 105ms/step - loss: 0.0603 - accuracy: 0.9783 - val_loss: 0.0564 - val_accuracy: 0.9800\n",
            "Epoch 5/5\n",
            "150/150 [==============================] - 15s 101ms/step - loss: 0.0403 - accuracy: 0.9856 - val_loss: 0.1432 - val_accuracy: 0.9667\n"
          ]
        }
      ],
      "source": [
        "history_googlenet = eeg_googlenet.fit(X_train, y_train,epochs=5,validation_data=(X_val, y_val))"
      ]
    },
    {
      "cell_type": "markdown",
      "metadata": {
        "id": "AOHGXTlEGMNg"
      },
      "source": [
        "**Performance metrics**"
      ]
    },
    {
      "cell_type": "code",
      "execution_count": null,
      "metadata": {
        "colab": {
          "base_uri": "https://localhost:8080/"
        },
        "id": "py-Z2ACSieaV",
        "outputId": "8bd20aae-019c-4f65-effa-7491002a64e9"
      },
      "outputs": [
        {
          "output_type": "stream",
          "name": "stdout",
          "text": [
            "19/19 [==============================] - 0s 18ms/step - loss: 0.1098 - accuracy: 0.9717\n",
            "Test accuracy: 0.971666693687439\n"
          ]
        }
      ],
      "source": [
        "test_loss, accuracy_googlenet = eeg_googlenet.evaluate(X_test, y_test)\n",
        "print('Test accuracy:', accuracy_googlenet)"
      ]
    },
    {
      "cell_type": "code",
      "execution_count": null,
      "metadata": {
        "colab": {
          "base_uri": "https://localhost:8080/"
        },
        "id": "f8szgAw6_DnV",
        "outputId": "ba78cad0-b662-43c9-d4ae-dbaaa6be3ee8"
      },
      "outputs": [
        {
          "output_type": "stream",
          "name": "stdout",
          "text": [
            "19/19 [==============================] - 1s 17ms/step\n"
          ]
        }
      ],
      "source": [
        "y_pred_googlenet = eeg_googlenet.predict(X_test)"
      ]
    },
    {
      "cell_type": "code",
      "execution_count": null,
      "metadata": {
        "id": "d9sCDYi0_FVd"
      },
      "outputs": [],
      "source": [
        "y_pred_labels_googlenet = np.argmax(y_pred_googlenet, axis=1)"
      ]
    },
    {
      "cell_type": "code",
      "execution_count": null,
      "metadata": {
        "colab": {
          "base_uri": "https://localhost:8080/"
        },
        "id": "HBjEOuty_G1F",
        "outputId": "fa0015a2-371b-42ca-fbf6-d739fd9d8c75"
      },
      "outputs": [
        {
          "output_type": "stream",
          "name": "stdout",
          "text": [
            "Precision (GoogLeNet): 0.971860119047619\n"
          ]
        }
      ],
      "source": [
        "precision_googlenet = precision_score(y_test, y_pred_labels_googlenet, average='weighted')\n",
        "print(\"Precision (GoogLeNet):\", precision_googlenet)"
      ]
    },
    {
      "cell_type": "code",
      "execution_count": null,
      "metadata": {
        "colab": {
          "base_uri": "https://localhost:8080/"
        },
        "id": "wN3jM5Cy_J3Y",
        "outputId": "1302069d-bb7d-4721-f077-d21b7b80cd34"
      },
      "outputs": [
        {
          "output_type": "stream",
          "name": "stdout",
          "text": [
            "Recall (GoogLeNet): 0.9716666666666667\n"
          ]
        }
      ],
      "source": [
        "recall_googlenet = recall_score(y_test, y_pred_labels_googlenet, average='weighted')\n",
        "print(\"Recall (GoogLeNet):\", recall_googlenet)"
      ]
    },
    {
      "cell_type": "code",
      "execution_count": null,
      "metadata": {
        "colab": {
          "base_uri": "https://localhost:8080/"
        },
        "id": "KB-dsz2d_MaY",
        "outputId": "fe21eeb1-3a80-4bd4-cc98-086b7799ce30"
      },
      "outputs": [
        {
          "output_type": "stream",
          "name": "stdout",
          "text": [
            "F1-score (GoogLeNet): 0.97095338481023\n"
          ]
        }
      ],
      "source": [
        "f1_score_googlenet = f1_score(y_test, y_pred_labels_googlenet, average='weighted')\n",
        "print(\"F1-score (GoogLeNet):\", f1_score_googlenet)"
      ]
    },
    {
      "cell_type": "code",
      "execution_count": null,
      "metadata": {
        "colab": {
          "base_uri": "https://localhost:8080/"
        },
        "id": "AfRy7XJJAOnE",
        "outputId": "0e91b59b-d085-48cd-c64c-6ee1acc4b2d7"
      },
      "outputs": [
        {
          "output_type": "stream",
          "name": "stdout",
          "text": [
            "Epoch 1/5\n",
            "138/138 [==============================] - 16s 101ms/step - loss: 0.1058 - accuracy: 0.9689 - val_loss: 0.0746 - val_accuracy: 0.9745\n",
            "Epoch 2/5\n",
            "138/138 [==============================] - 14s 98ms/step - loss: 0.0721 - accuracy: 0.9789 - val_loss: 0.0828 - val_accuracy: 0.9691\n",
            "Epoch 3/5\n",
            "138/138 [==============================] - 14s 98ms/step - loss: 0.0508 - accuracy: 0.9818 - val_loss: 0.0755 - val_accuracy: 0.9745\n",
            "Epoch 4/5\n",
            "138/138 [==============================] - 14s 103ms/step - loss: 0.0633 - accuracy: 0.9818 - val_loss: 0.1046 - val_accuracy: 0.9764\n",
            "Epoch 5/5\n",
            "138/138 [==============================] - 14s 100ms/step - loss: 0.0721 - accuracy: 0.9809 - val_loss: 0.0700 - val_accuracy: 0.9727\n",
            "19/19 [==============================] - 1s 17ms/step - loss: 0.0604 - accuracy: 0.9833\n",
            "Test accuracy: 0.9833333492279053\n",
            "19/19 [==============================] - 1s 17ms/step\n",
            "Precision (GoogLeNet): 0.9834418010939371\n",
            "Recall (GoogLeNet): 0.9833333333333333\n",
            "F1-score (GoogLeNet): 0.983083213083213\n"
          ]
        }
      ],
      "source": [
        "import tensorflow as tf\n",
        "import numpy as np\n",
        "from sklearn.model_selection import train_test_split\n",
        "from sklearn.metrics import precision_score, recall_score, f1_score\n",
        "\n",
        "# Define the function to compute the Fisher information matrix for each parameter\n",
        "def compute_fisher_information(model, X, y):\n",
        "    # Compute the gradients of the loss with respect to each parameter\n",
        "    with tf.GradientTape() as tape:\n",
        "        predictions = model(X)\n",
        "        loss = tf.keras.losses.sparse_categorical_crossentropy(y, predictions)\n",
        "    gradients = tape.gradient(loss, model.trainable_variables)\n",
        "\n",
        "    # Compute the Fisher information matrix for each parameter\n",
        "    fisher_information = [tf.square(g) for g in gradients]\n",
        "\n",
        "    return fisher_information\n",
        "\n",
        "# Define the EWC loss function\n",
        "def ewc_loss(model, fisher_information, prev_params, lambda_ewc):\n",
        "    # Compute the EWC regularization term\n",
        "    ewc_term = 0.5 * sum(tf.reduce_sum(f * tf.square(p - prev_p)) for f, p, prev_p in zip(fisher_information, model.trainable_variables, prev_params))\n",
        "\n",
        "    # Add the EWC regularization term to the loss\n",
        "    return lambda_ewc * ewc_term\n",
        "\n",
        "# Modify the training loop to compute and store the Fisher information matrix after training on the original task\n",
        "# Assume X_train, X_val, X_test, y_train, y_val, y_test are defined\n",
        "\n",
        "# ... (previous code for model definition and data preprocessing)\n",
        "\n",
        "# Train the model on the original task\n",
        "# history_googlenet = eeg_googlenet.fit(X_train, y_train, epochs=5, validation_data=(X_val, y_val))\n",
        "X_train_new, X_temp, y_train_new, y_temp = train_test_split(X4, y4, test_size=0.2, random_state=42)\n",
        "X_val_new, X_test_new, y_val_new, y_test_new = train_test_split(X_temp, y_temp, test_size=0.5, random_state=42)\n",
        "\n",
        "# Compute and store the Fisher information matrix for each parameter\n",
        "fisher_information = compute_fisher_information(eeg_googlenet, X_train_new, y_train_new)\n",
        "prev_params = [tf.Variable(p) for p in eeg_googlenet.get_weights()]\n",
        "\n",
        "# Modify the loss function to include the EWC regularization term\n",
        "lambda_ewc = 0.1  # Hyperparameter to control the strength of EWC regularization\n",
        "ewc_reg_loss = ewc_loss(eeg_googlenet, fisher_information, prev_params, lambda_ewc)\n",
        "\n",
        "# Compile the model with the modified loss function\n",
        "eeg_googlenet.compile(optimizer='adam', loss=lambda y_true, y_pred: tf.keras.losses.sparse_categorical_crossentropy(y_true, y_pred) + ewc_reg_loss, metrics=['accuracy'])\n",
        "\n",
        "# Train the model on the new task\n",
        "history_googlenet_finetune = eeg_googlenet.fit(X_train_new, y_train_new, epochs=5, validation_data=(X_val_new, y_val_new))\n",
        "\n",
        "# Evaluate the model and print the metrics\n",
        "test_loss, accuracy_googlenet = eeg_googlenet.evaluate(X_test, y_test)\n",
        "print('Test accuracy:', accuracy_googlenet)\n",
        "\n",
        "y_pred_googlenet = eeg_googlenet.predict(X_test)\n",
        "y_pred_labels_googlenet = np.argmax(y_pred_googlenet, axis=1)\n",
        "\n",
        "precision_googlenet = precision_score(y_test, y_pred_labels_googlenet, average='weighted')\n",
        "print(\"Precision (GoogLeNet):\", precision_googlenet)\n",
        "\n",
        "recall_googlenet = recall_score(y_test, y_pred_labels_googlenet, average='weighted')\n",
        "print(\"Recall (GoogLeNet):\", recall_googlenet)\n",
        "\n",
        "f1_score_googlenet = f1_score(y_test, y_pred_labels_googlenet, average='weighted')\n",
        "print(\"F1-score (GoogLeNet):\", f1_score_googlenet)\n"
      ]
    },
    {
      "cell_type": "code",
      "execution_count": null,
      "metadata": {
        "colab": {
          "base_uri": "https://localhost:8080/"
        },
        "id": "IKb1QPxXtqpK",
        "outputId": "fd93d6e0-dcd6-4d44-da85-dc6424d4534f"
      },
      "outputs": [
        {
          "output_type": "stream",
          "name": "stdout",
          "text": [
            "(4799, 178, 1)\n"
          ]
        }
      ],
      "source": [
        "print(X_train.shape)"
      ]
    },
    {
      "cell_type": "code",
      "execution_count": null,
      "metadata": {
        "colab": {
          "base_uri": "https://localhost:8080/"
        },
        "id": "4awmJ37Qt9m8",
        "outputId": "cdd7c2a9-d883-4c0b-cba4-afa816c20af1"
      },
      "outputs": [
        {
          "output_type": "stream",
          "name": "stdout",
          "text": [
            "(4400, 178)\n"
          ]
        }
      ],
      "source": [
        "print(X_train_new.shape)"
      ]
    },
    {
      "cell_type": "markdown",
      "metadata": {
        "id": "PQJUc9Gsdwpw"
      },
      "source": [
        "# *VGG model*"
      ]
    },
    {
      "cell_type": "markdown",
      "metadata": {
        "id": "jRysZnsFGwiY"
      },
      "source": [
        "**Architecture of a model**"
      ]
    },
    {
      "cell_type": "code",
      "execution_count": null,
      "metadata": {
        "id": "IY2pVtAC_YE8"
      },
      "outputs": [],
      "source": [
        "def build_eeg_vgg(input_shape, num_classes):\n",
        "    model = models.Sequential()\n",
        "\n",
        "    # Block 1\n",
        "    model.add(layers.Conv1D(64, 3, activation='relu', padding='same', input_shape=input_shape))\n",
        "    model.add(layers.Conv1D(64, 3, activation='relu', padding='same'))\n",
        "    model.add(layers.MaxPooling1D(pool_size=2, strides=2))\n",
        "\n",
        "    # Block 2\n",
        "    model.add(layers.Conv1D(128, 3, activation='relu', padding='same'))\n",
        "    model.add(layers.Conv1D(128, 3, activation='relu', padding='same'))\n",
        "    model.add(layers.MaxPooling1D(pool_size=2, strides=2))\n",
        "\n",
        "    # Block 3\n",
        "    model.add(layers.Conv1D(256, 3, activation='relu', padding='same'))\n",
        "    model.add(layers.Conv1D(256, 3, activation='relu', padding='same'))\n",
        "    model.add(layers.Conv1D(256, 3, activation='relu', padding='same'))\n",
        "    model.add(layers.MaxPooling1D(pool_size=2, strides=2))\n",
        "\n",
        "    # Block 4\n",
        "    model.add(layers.Conv1D(512, 3, activation='relu', padding='same'))\n",
        "    model.add(layers.Conv1D(512, 3, activation='relu', padding='same'))\n",
        "    model.add(layers.Conv1D(512, 3, activation='relu', padding='same'))\n",
        "    model.add(layers.MaxPooling1D(pool_size=2, strides=2))\n",
        "\n",
        "    # Block 5\n",
        "    model.add(layers.Conv1D(512, 3, activation='relu', padding='same'))\n",
        "    model.add(layers.Conv1D(512, 3, activation='relu', padding='same'))\n",
        "    model.add(layers.Conv1D(512, 3, activation='relu', padding='same'))\n",
        "    model.add(layers.MaxPooling1D(pool_size=2, strides=2))\n",
        "\n",
        "    # Flatten layer\n",
        "    model.add(layers.Flatten())\n",
        "\n",
        "    # Fully connected layers\n",
        "    model.add(layers.Dense(4096, activation='relu'))\n",
        "    model.add(layers.Dropout(0.5))\n",
        "    model.add(layers.Dense(4096, activation='relu'))\n",
        "    model.add(layers.Dropout(0.5))\n",
        "\n",
        "    # Output layer\n",
        "    model.add(layers.Dense(num_classes, activation='softmax'))\n",
        "\n",
        "    return model"
      ]
    },
    {
      "cell_type": "markdown",
      "metadata": {
        "id": "9na10V1PGwie"
      },
      "source": [
        " **Splitting the Dataset into Training and Test Sets**"
      ]
    },
    {
      "cell_type": "code",
      "execution_count": null,
      "metadata": {
        "id": "M4jOqij-GkEK"
      },
      "outputs": [],
      "source": [
        "X_train, X_temp, y_train, y_temp = train_test_split(X3, y3, test_size=0.2, random_state=42)\n",
        "X_val, X_test, y_val, y_test = train_test_split(X_temp, y_temp, test_size=0.5, random_state=42)"
      ]
    },
    {
      "cell_type": "markdown",
      "metadata": {
        "id": "2LgKyOZ7Gwie"
      },
      "source": [
        " **Reshaping for vgg model**"
      ]
    },
    {
      "cell_type": "code",
      "execution_count": null,
      "metadata": {
        "id": "sHpJjGFm_T1g"
      },
      "outputs": [],
      "source": [
        "X_train = np.expand_dims(X_train, axis=-1)\n",
        "X_val = np.expand_dims(X_val, axis=-1)\n",
        "X_test = np.expand_dims(X_test, axis=-1)"
      ]
    },
    {
      "cell_type": "markdown",
      "metadata": {
        "id": "GeYY1-BoGwie"
      },
      "source": [
        "**initialization of a parameter**"
      ]
    },
    {
      "cell_type": "code",
      "execution_count": null,
      "metadata": {
        "id": "dsjea7nq_a9S"
      },
      "outputs": [],
      "source": [
        "input_shape = (178, 1)\n",
        "num_classes = 2"
      ]
    },
    {
      "cell_type": "markdown",
      "metadata": {
        "id": "g3zdBjnTGwie"
      },
      "source": [
        "**Compilation and fiting of a model**"
      ]
    },
    {
      "cell_type": "code",
      "execution_count": null,
      "metadata": {
        "id": "mzGfJFdz_caq"
      },
      "outputs": [],
      "source": [
        "eeg_vgg = build_eeg_vgg(input_shape, num_classes)"
      ]
    },
    {
      "cell_type": "code",
      "execution_count": null,
      "metadata": {
        "id": "qZwhwBtI_drC"
      },
      "outputs": [],
      "source": [
        "eeg_vgg.compile(optimizer='adam',\n",
        "                 loss='sparse_categorical_crossentropy',\n",
        "                 metrics=['accuracy'])"
      ]
    },
    {
      "cell_type": "code",
      "execution_count": null,
      "metadata": {
        "colab": {
          "base_uri": "https://localhost:8080/"
        },
        "id": "rDvAJbSm_fPS",
        "outputId": "ad92e7cf-08c0-4a53-daa7-d08e822b1045"
      },
      "outputs": [
        {
          "output_type": "stream",
          "name": "stdout",
          "text": [
            "Epoch 1/5\n",
            "150/150 [==============================] - 134s 876ms/step - loss: 0.2537 - accuracy: 0.9354 - val_loss: 0.1166 - val_accuracy: 0.9583\n",
            "Epoch 2/5\n",
            "150/150 [==============================] - 131s 870ms/step - loss: 0.1023 - accuracy: 0.9623 - val_loss: 0.1366 - val_accuracy: 0.9500\n",
            "Epoch 3/5\n",
            "150/150 [==============================] - 131s 873ms/step - loss: 0.0765 - accuracy: 0.9721 - val_loss: 0.1200 - val_accuracy: 0.9700\n",
            "Epoch 4/5\n",
            "150/150 [==============================] - 135s 901ms/step - loss: 0.0758 - accuracy: 0.9742 - val_loss: 0.1327 - val_accuracy: 0.9450\n",
            "Epoch 5/5\n",
            "150/150 [==============================] - 132s 875ms/step - loss: 0.0788 - accuracy: 0.9721 - val_loss: 0.0633 - val_accuracy: 0.9800\n"
          ]
        }
      ],
      "source": [
        "history_vgg = eeg_vgg.fit(X_train, y_train,\n",
        "                      epochs=5,\n",
        "                      validation_data=(X_val, y_val))"
      ]
    },
    {
      "cell_type": "markdown",
      "metadata": {
        "id": "beRmlZYqGwif"
      },
      "source": [
        "**Performance metrics**"
      ]
    },
    {
      "cell_type": "code",
      "execution_count": null,
      "metadata": {
        "colab": {
          "base_uri": "https://localhost:8080/"
        },
        "id": "u5YsSq4TdytB",
        "outputId": "ee707e3a-f2dd-4236-86f6-aa6489c5dd9c"
      },
      "outputs": [
        {
          "output_type": "stream",
          "name": "stdout",
          "text": [
            "19/19 [==============================] - 2s 105ms/step - loss: 0.0548 - accuracy: 0.9817\n",
            "Test accuracy: 0.9816666841506958\n"
          ]
        }
      ],
      "source": [
        "test_loss, accuracy_vgg = eeg_vgg.evaluate(X_test, y_test)\n",
        "print('Test accuracy:', accuracy_vgg)"
      ]
    },
    {
      "cell_type": "code",
      "execution_count": null,
      "metadata": {
        "colab": {
          "base_uri": "https://localhost:8080/"
        },
        "id": "faMZK3ky_idN",
        "outputId": "54313902-1ecc-4076-ec78-cdef8740e33b"
      },
      "outputs": [
        {
          "output_type": "stream",
          "name": "stdout",
          "text": [
            "19/19 [==============================] - 2s 106ms/step\n"
          ]
        }
      ],
      "source": [
        "y_pred_vgg = eeg_vgg.predict(X_test)"
      ]
    },
    {
      "cell_type": "code",
      "execution_count": null,
      "metadata": {
        "id": "Q2yYqzFx_jsr"
      },
      "outputs": [],
      "source": [
        "y_pred_labels_vgg = np.argmax(y_pred_vgg, axis=1)"
      ]
    },
    {
      "cell_type": "code",
      "execution_count": null,
      "metadata": {
        "colab": {
          "base_uri": "https://localhost:8080/"
        },
        "id": "uHeh-iKB_lI_",
        "outputId": "88a381d1-baba-44fd-cb34-4a483524e74e"
      },
      "outputs": [
        {
          "output_type": "stream",
          "name": "stdout",
          "text": [
            "Precision (VGG): 0.9818166666666667\n"
          ]
        }
      ],
      "source": [
        "precision_vgg = precision_score(y_test, y_pred_labels_vgg, average='weighted')\n",
        "print(\"Precision (VGG):\", precision_vgg)"
      ]
    },
    {
      "cell_type": "code",
      "execution_count": null,
      "metadata": {
        "colab": {
          "base_uri": "https://localhost:8080/"
        },
        "id": "lVwu0XKl_ndu",
        "outputId": "bace7283-f256-4e38-fb92-b4dd02c4d95b"
      },
      "outputs": [
        {
          "output_type": "stream",
          "name": "stdout",
          "text": [
            "Recall (VGG): 0.9816666666666667\n"
          ]
        }
      ],
      "source": [
        "recall_vgg = recall_score(y_test, y_pred_labels_vgg, average='weighted')\n",
        "print(\"Recall (VGG):\", recall_vgg)"
      ]
    },
    {
      "cell_type": "code",
      "execution_count": null,
      "metadata": {
        "colab": {
          "base_uri": "https://localhost:8080/"
        },
        "id": "ZMQSwMPJubLF",
        "outputId": "4d9d9604-bd39-43fc-f342-7eb5f83199d6"
      },
      "outputs": [
        {
          "output_type": "stream",
          "name": "stdout",
          "text": [
            "F1-score (VGG): 0.98135517906775\n"
          ]
        }
      ],
      "source": [
        "f1_score_vgg = f1_score(y_test, y_pred_labels_vgg, average='weighted')\n",
        "print(\"F1-score (VGG):\", f1_score_vgg)"
      ]
    },
    {
      "cell_type": "markdown",
      "metadata": {
        "id": "KDF4N0E8iEZR"
      },
      "source": [
        "# *Resnet model*"
      ]
    },
    {
      "cell_type": "markdown",
      "metadata": {
        "id": "Tpwak7ySG_UI"
      },
      "source": [
        "**Architecture of a model**"
      ]
    },
    {
      "cell_type": "code",
      "execution_count": null,
      "metadata": {
        "id": "4DX6PHQf_2C_"
      },
      "outputs": [],
      "source": [
        "def resnet_block(input_data, filters, kernel_size, strides=1):\n",
        "    x = layers.Conv1D(filters, kernel_size, strides=strides, padding='same')(input_data)\n",
        "    x = layers.BatchNormalization()(x)\n",
        "    x = layers.Activation('relu')(x)\n",
        "    x = layers.Conv1D(filters, kernel_size, padding='same')(x)\n",
        "    x = layers.BatchNormalization()(x)\n",
        "    if strides != 1:\n",
        "        input_data = layers.Conv1D(filters, kernel_size=1, strides=strides, padding='same')(input_data)\n",
        "    x = layers.add([x, input_data])\n",
        "    x = layers.Activation('relu')(x)\n",
        "    return x"
      ]
    },
    {
      "cell_type": "code",
      "execution_count": null,
      "metadata": {
        "id": "--Z-6zeV_4uY"
      },
      "outputs": [],
      "source": [
        "def build_eeg_resnet(input_shape, num_classes):\n",
        "    inputs = tf.keras.Input(shape=input_shape)\n",
        "\n",
        "    # Initial conv layer\n",
        "    x = layers.Conv1D(64, 7, strides=2, padding='same')(inputs)\n",
        "    x = layers.BatchNormalization()(x)\n",
        "    x = layers.Activation('relu')(x)\n",
        "    x = layers.MaxPooling1D(3, strides=2, padding='same')(x)\n",
        "\n",
        "    # Residual blocks\n",
        "    x = resnet_block(x, filters=64, kernel_size=3)\n",
        "    x = resnet_block(x, filters=64, kernel_size=3)\n",
        "    x = resnet_block(x, filters=64, kernel_size=3)\n",
        "\n",
        "    x = layers.GlobalAveragePooling1D()(x)\n",
        "\n",
        "    # Output layer\n",
        "    outputs = layers.Dense(num_classes, activation='softmax')(x)\n",
        "\n",
        "    model = tf.keras.Model(inputs, outputs)\n",
        "    return model"
      ]
    },
    {
      "cell_type": "markdown",
      "metadata": {
        "id": "HSt-ieo4G_UP"
      },
      "source": [
        " **Splitting the Dataset into Training and Test Sets**"
      ]
    },
    {
      "cell_type": "code",
      "execution_count": null,
      "metadata": {
        "id": "RRPUx6TpHBU7"
      },
      "outputs": [],
      "source": [
        "X_train, X_temp, y_train, y_temp = train_test_split(X3, y3, test_size=0.2, random_state=42)\n",
        "X_val, X_test, y_val, y_test = train_test_split(X_temp, y_temp, test_size=0.5, random_state=42)"
      ]
    },
    {
      "cell_type": "markdown",
      "metadata": {
        "id": "yEMNhSViG_UP"
      },
      "source": [
        " **Reshaping for resnet model**"
      ]
    },
    {
      "cell_type": "code",
      "execution_count": null,
      "metadata": {
        "id": "IR_NGDnK_znL"
      },
      "outputs": [],
      "source": [
        "X_train = np.expand_dims(X_train, axis=-1)\n",
        "X_val = np.expand_dims(X_val, axis=-1)\n",
        "X_test = np.expand_dims(X_test, axis=-1)"
      ]
    },
    {
      "cell_type": "markdown",
      "metadata": {
        "id": "ls657-IHG_UP"
      },
      "source": [
        "**initialization of a parameter**"
      ]
    },
    {
      "cell_type": "code",
      "execution_count": null,
      "metadata": {
        "id": "qb26x3HR_71L"
      },
      "outputs": [],
      "source": [
        "input_shape = (178, 1)\n",
        "num_classes = 2"
      ]
    },
    {
      "cell_type": "markdown",
      "metadata": {
        "id": "ZQVp067tG_UP"
      },
      "source": [
        "**Compilation and fiting of a model**"
      ]
    },
    {
      "cell_type": "code",
      "execution_count": null,
      "metadata": {
        "id": "dU4ZOKlr_9PB"
      },
      "outputs": [],
      "source": [
        "eeg_resnet = build_eeg_resnet(input_shape, num_classes)"
      ]
    },
    {
      "cell_type": "code",
      "execution_count": null,
      "metadata": {
        "id": "tgUj1c8z_-jY"
      },
      "outputs": [],
      "source": [
        "eeg_resnet.compile(optimizer='adam',\n",
        "                    loss='sparse_categorical_crossentropy',\n",
        "                    metrics=['accuracy'])"
      ]
    },
    {
      "cell_type": "code",
      "execution_count": null,
      "metadata": {
        "colab": {
          "base_uri": "https://localhost:8080/"
        },
        "id": "obQ9LTA4__1Q",
        "outputId": "5bcc00e7-850b-47f0-abca-317b0c1816a6"
      },
      "outputs": [
        {
          "output_type": "stream",
          "name": "stdout",
          "text": [
            "Epoch 1/5\n",
            "150/150 [==============================] - 7s 24ms/step - loss: 0.1198 - accuracy: 0.9531 - val_loss: 0.0917 - val_accuracy: 0.9783\n",
            "Epoch 2/5\n",
            "150/150 [==============================] - 3s 22ms/step - loss: 0.0880 - accuracy: 0.9692 - val_loss: 0.0915 - val_accuracy: 0.9633\n",
            "Epoch 3/5\n",
            "150/150 [==============================] - 4s 24ms/step - loss: 0.0703 - accuracy: 0.9775 - val_loss: 0.0525 - val_accuracy: 0.9833\n",
            "Epoch 4/5\n",
            "150/150 [==============================] - 4s 24ms/step - loss: 0.0616 - accuracy: 0.9767 - val_loss: 0.0670 - val_accuracy: 0.9783\n",
            "Epoch 5/5\n",
            "150/150 [==============================] - 3s 22ms/step - loss: 0.0518 - accuracy: 0.9792 - val_loss: 0.0552 - val_accuracy: 0.9850\n"
          ]
        }
      ],
      "source": [
        "history_resnet = eeg_resnet.fit(X_train, y_train,\n",
        "                          epochs=5,\n",
        "                          validation_data=(X_val, y_val))"
      ]
    },
    {
      "cell_type": "markdown",
      "metadata": {
        "id": "tmdU3j6SG_UP"
      },
      "source": [
        "**Performance metrics**"
      ]
    },
    {
      "cell_type": "code",
      "execution_count": null,
      "metadata": {
        "colab": {
          "base_uri": "https://localhost:8080/"
        },
        "id": "GRIkvDlBiHNl",
        "outputId": "1416c2ec-9e58-499e-a430-9f630c83faef"
      },
      "outputs": [
        {
          "output_type": "stream",
          "name": "stdout",
          "text": [
            "19/19 [==============================] - 0s 6ms/step - loss: 0.0583 - accuracy: 0.9717\n",
            "Test accuracy: 0.971666693687439\n"
          ]
        }
      ],
      "source": [
        "test_loss, accuracy_resnet = eeg_resnet.evaluate(X_test, y_test)\n",
        "print('Test accuracy:', accuracy_resnet)"
      ]
    },
    {
      "cell_type": "code",
      "execution_count": null,
      "metadata": {
        "colab": {
          "base_uri": "https://localhost:8080/"
        },
        "id": "k6hnlN__AC3D",
        "outputId": "5aa60865-0990-4ed7-ddc5-72b2d2f66d18"
      },
      "outputs": [
        {
          "output_type": "stream",
          "name": "stdout",
          "text": [
            "19/19 [==============================] - 0s 6ms/step\n"
          ]
        }
      ],
      "source": [
        "y_pred_resnet = eeg_resnet.predict(X_test)"
      ]
    },
    {
      "cell_type": "code",
      "execution_count": null,
      "metadata": {
        "id": "CM1rL252AEgq"
      },
      "outputs": [],
      "source": [
        "y_pred_labels_resnet = np.argmax(y_pred_resnet, axis=1)"
      ]
    },
    {
      "cell_type": "code",
      "execution_count": null,
      "metadata": {
        "colab": {
          "base_uri": "https://localhost:8080/"
        },
        "id": "0t9aBFT0AF3X",
        "outputId": "388b19e9-a534-4c8a-d17f-962e05199d98"
      },
      "outputs": [
        {
          "output_type": "stream",
          "name": "stdout",
          "text": [
            "Precision (ResNet): 0.9736909722222223\n"
          ]
        }
      ],
      "source": [
        "precision_resnet = precision_score(y_test, y_pred_labels_resnet, average='weighted')\n",
        "print(\"Precision (ResNet):\", precision_resnet)"
      ]
    },
    {
      "cell_type": "code",
      "execution_count": null,
      "metadata": {
        "colab": {
          "base_uri": "https://localhost:8080/"
        },
        "id": "576npi1cAIk8",
        "outputId": "d37f094e-b907-48e6-acf3-6d5331b0daab"
      },
      "outputs": [
        {
          "output_type": "stream",
          "name": "stdout",
          "text": [
            "Recall (ResNet): 0.9716666666666667\n"
          ]
        }
      ],
      "source": [
        "recall_resnet = recall_score(y_test, y_pred_labels_resnet, average='weighted')\n",
        "print(\"Recall (ResNet):\", recall_resnet)"
      ]
    },
    {
      "cell_type": "code",
      "execution_count": null,
      "metadata": {
        "colab": {
          "base_uri": "https://localhost:8080/"
        },
        "id": "zIzE-GDnALK8",
        "outputId": "9be69db0-f2fd-4ca3-bce9-70608eb6e4e2"
      },
      "outputs": [
        {
          "output_type": "stream",
          "name": "stdout",
          "text": [
            "F1-score (ResNet): 0.9721866741020901\n"
          ]
        }
      ],
      "source": [
        "f1_score_resnet = f1_score(y_test, y_pred_labels_resnet, average='weighted')\n",
        "print(\"F1-score (ResNet):\", f1_score_resnet)"
      ]
    },
    {
      "cell_type": "markdown",
      "metadata": {
        "id": "tjJXtWt1OzLq"
      },
      "source": [
        "# ***RNN Model***"
      ]
    },
    {
      "cell_type": "markdown",
      "metadata": {
        "id": "9cA0R7uRHfHN"
      },
      "source": [
        "**Architecture of a model**"
      ]
    },
    {
      "cell_type": "code",
      "execution_count": null,
      "metadata": {
        "id": "jWa51GSIHhO-"
      },
      "outputs": [],
      "source": [
        "rnn_model = Sequential()\n",
        "rnn_model.add(Flatten(input_shape=(178,)))\n",
        "rnn_model.add(Dense(64, activation='relu'))\n",
        "rnn_model.add(Dense(1, activation='sigmoid'))"
      ]
    },
    {
      "cell_type": "markdown",
      "metadata": {
        "id": "PDbe6LWTHfHS"
      },
      "source": [
        " **Splitting the Dataset into Training and Test Sets**"
      ]
    },
    {
      "cell_type": "code",
      "execution_count": null,
      "metadata": {
        "colab": {
          "base_uri": "https://localhost:8080/"
        },
        "id": "67vm0bU6CGCk",
        "outputId": "5eb03a19-afbd-4305-b305-d95fb39adb7a"
      },
      "outputs": [
        {
          "output_type": "execute_result",
          "data": {
            "text/plain": [
              "((4499, 178), (1500, 1))"
            ]
          },
          "metadata": {},
          "execution_count": 144
        }
      ],
      "source": [
        "X_train, X_test, y_train, y_test = train_test_split(X3,y3,test_size=0.25,shuffle=True)\n",
        "X_train.shape,y_test.shape"
      ]
    },
    {
      "cell_type": "markdown",
      "metadata": {
        "id": "cW8eWeqBHfHT"
      },
      "source": [
        "**Compilation and fiting of a model**"
      ]
    },
    {
      "cell_type": "code",
      "execution_count": null,
      "metadata": {
        "colab": {
          "base_uri": "https://localhost:8080/"
        },
        "id": "T_3S98QONMsy",
        "outputId": "ef14f06c-2b8a-4614-c368-61b4ee78210f"
      },
      "outputs": [
        {
          "output_type": "stream",
          "name": "stdout",
          "text": [
            "Epoch 1/50\n",
            "141/141 [==============================] - 1s 3ms/step - loss: 13.7424 - accuracy: 0.6813 - val_loss: 7.0202 - val_accuracy: 0.7447\n",
            "Epoch 2/50\n",
            "141/141 [==============================] - 0s 2ms/step - loss: 5.5049 - accuracy: 0.7804 - val_loss: 6.5408 - val_accuracy: 0.7520\n",
            "Epoch 3/50\n",
            "141/141 [==============================] - 0s 2ms/step - loss: 4.0428 - accuracy: 0.8053 - val_loss: 5.1775 - val_accuracy: 0.7540\n",
            "Epoch 4/50\n",
            "141/141 [==============================] - 0s 2ms/step - loss: 3.2433 - accuracy: 0.8275 - val_loss: 5.2583 - val_accuracy: 0.7733\n",
            "Epoch 5/50\n",
            "141/141 [==============================] - 0s 2ms/step - loss: 2.5059 - accuracy: 0.8464 - val_loss: 4.8887 - val_accuracy: 0.7647\n",
            "Epoch 6/50\n",
            "141/141 [==============================] - 0s 2ms/step - loss: 2.2038 - accuracy: 0.8431 - val_loss: 4.9839 - val_accuracy: 0.8100\n",
            "Epoch 7/50\n",
            "141/141 [==============================] - 0s 2ms/step - loss: 1.7626 - accuracy: 0.8624 - val_loss: 5.0447 - val_accuracy: 0.8020\n",
            "Epoch 8/50\n",
            "141/141 [==============================] - 0s 2ms/step - loss: 1.4758 - accuracy: 0.8715 - val_loss: 4.1194 - val_accuracy: 0.8160\n",
            "Epoch 9/50\n",
            "141/141 [==============================] - 0s 2ms/step - loss: 1.5003 - accuracy: 0.8737 - val_loss: 4.5489 - val_accuracy: 0.8207\n",
            "Epoch 10/50\n",
            "141/141 [==============================] - 0s 2ms/step - loss: 1.2465 - accuracy: 0.8820 - val_loss: 4.2845 - val_accuracy: 0.8260\n",
            "Epoch 11/50\n",
            "141/141 [==============================] - 0s 2ms/step - loss: 1.0146 - accuracy: 0.8944 - val_loss: 4.8465 - val_accuracy: 0.8400\n",
            "Epoch 12/50\n",
            "141/141 [==============================] - 0s 2ms/step - loss: 1.0851 - accuracy: 0.8922 - val_loss: 4.6315 - val_accuracy: 0.8133\n",
            "Epoch 13/50\n",
            "141/141 [==============================] - 0s 2ms/step - loss: 0.7694 - accuracy: 0.9058 - val_loss: 3.8665 - val_accuracy: 0.8433\n",
            "Epoch 14/50\n",
            "141/141 [==============================] - 0s 2ms/step - loss: 0.8896 - accuracy: 0.9013 - val_loss: 3.5675 - val_accuracy: 0.8160\n",
            "Epoch 15/50\n",
            "141/141 [==============================] - 0s 3ms/step - loss: 0.7845 - accuracy: 0.9033 - val_loss: 3.8631 - val_accuracy: 0.8373\n",
            "Epoch 16/50\n",
            "141/141 [==============================] - 0s 2ms/step - loss: 0.6678 - accuracy: 0.9198 - val_loss: 3.5439 - val_accuracy: 0.8440\n",
            "Epoch 17/50\n",
            "141/141 [==============================] - 0s 2ms/step - loss: 0.6286 - accuracy: 0.9231 - val_loss: 3.8273 - val_accuracy: 0.8460\n",
            "Epoch 18/50\n",
            "141/141 [==============================] - 0s 2ms/step - loss: 0.5237 - accuracy: 0.9224 - val_loss: 3.4999 - val_accuracy: 0.8540\n",
            "Epoch 19/50\n",
            "141/141 [==============================] - 0s 2ms/step - loss: 0.5056 - accuracy: 0.9304 - val_loss: 3.5842 - val_accuracy: 0.8507\n",
            "Epoch 20/50\n",
            "141/141 [==============================] - 0s 2ms/step - loss: 0.6694 - accuracy: 0.9120 - val_loss: 3.1947 - val_accuracy: 0.8493\n",
            "Epoch 21/50\n",
            "141/141 [==============================] - 0s 2ms/step - loss: 0.6328 - accuracy: 0.9244 - val_loss: 3.4176 - val_accuracy: 0.8387\n",
            "Epoch 22/50\n",
            "141/141 [==============================] - 0s 2ms/step - loss: 0.3742 - accuracy: 0.9431 - val_loss: 2.7334 - val_accuracy: 0.8493\n",
            "Epoch 23/50\n",
            "141/141 [==============================] - 0s 2ms/step - loss: 0.4051 - accuracy: 0.9398 - val_loss: 2.7932 - val_accuracy: 0.8307\n",
            "Epoch 24/50\n",
            "141/141 [==============================] - 0s 2ms/step - loss: 0.3587 - accuracy: 0.9400 - val_loss: 3.3077 - val_accuracy: 0.8507\n",
            "Epoch 25/50\n",
            "141/141 [==============================] - 0s 2ms/step - loss: 0.5563 - accuracy: 0.9300 - val_loss: 3.2103 - val_accuracy: 0.8353\n",
            "Epoch 26/50\n",
            "141/141 [==============================] - 0s 2ms/step - loss: 0.7486 - accuracy: 0.9164 - val_loss: 2.4936 - val_accuracy: 0.8367\n",
            "Epoch 27/50\n",
            "141/141 [==============================] - 0s 2ms/step - loss: 0.4854 - accuracy: 0.9327 - val_loss: 2.7944 - val_accuracy: 0.8513\n",
            "Epoch 28/50\n",
            "141/141 [==============================] - 0s 2ms/step - loss: 0.4483 - accuracy: 0.9362 - val_loss: 3.4486 - val_accuracy: 0.8693\n",
            "Epoch 29/50\n",
            "141/141 [==============================] - 0s 2ms/step - loss: 0.4046 - accuracy: 0.9431 - val_loss: 2.3480 - val_accuracy: 0.8380\n",
            "Epoch 30/50\n",
            "141/141 [==============================] - 0s 2ms/step - loss: 0.3732 - accuracy: 0.9427 - val_loss: 2.1550 - val_accuracy: 0.8320\n",
            "Epoch 31/50\n",
            "141/141 [==============================] - 0s 2ms/step - loss: 0.3391 - accuracy: 0.9487 - val_loss: 2.8470 - val_accuracy: 0.8600\n",
            "Epoch 32/50\n",
            "141/141 [==============================] - 0s 2ms/step - loss: 0.2397 - accuracy: 0.9615 - val_loss: 2.5531 - val_accuracy: 0.8507\n",
            "Epoch 33/50\n",
            "141/141 [==============================] - 0s 2ms/step - loss: 0.1962 - accuracy: 0.9609 - val_loss: 2.6484 - val_accuracy: 0.8573\n",
            "Epoch 34/50\n",
            "141/141 [==============================] - 0s 2ms/step - loss: 0.2353 - accuracy: 0.9604 - val_loss: 2.0877 - val_accuracy: 0.8427\n",
            "Epoch 35/50\n",
            "141/141 [==============================] - 0s 2ms/step - loss: 0.3207 - accuracy: 0.9493 - val_loss: 2.2584 - val_accuracy: 0.8287\n",
            "Epoch 36/50\n",
            "141/141 [==============================] - 0s 2ms/step - loss: 0.2744 - accuracy: 0.9547 - val_loss: 2.5788 - val_accuracy: 0.8587\n",
            "Epoch 37/50\n",
            "141/141 [==============================] - 0s 2ms/step - loss: 0.3772 - accuracy: 0.9433 - val_loss: 2.1392 - val_accuracy: 0.8740\n",
            "Epoch 38/50\n",
            "141/141 [==============================] - 0s 2ms/step - loss: 0.1805 - accuracy: 0.9624 - val_loss: 2.2155 - val_accuracy: 0.8367\n",
            "Epoch 39/50\n",
            "141/141 [==============================] - 0s 2ms/step - loss: 0.3045 - accuracy: 0.9484 - val_loss: 2.1190 - val_accuracy: 0.8727\n",
            "Epoch 40/50\n",
            "141/141 [==============================] - 0s 2ms/step - loss: 0.2203 - accuracy: 0.9651 - val_loss: 1.9028 - val_accuracy: 0.8553\n",
            "Epoch 41/50\n",
            "141/141 [==============================] - 0s 2ms/step - loss: 0.1178 - accuracy: 0.9756 - val_loss: 2.6028 - val_accuracy: 0.8680\n",
            "Epoch 42/50\n",
            "141/141 [==============================] - 0s 2ms/step - loss: 0.3101 - accuracy: 0.9571 - val_loss: 1.8239 - val_accuracy: 0.8567\n",
            "Epoch 43/50\n",
            "141/141 [==============================] - 0s 2ms/step - loss: 0.3072 - accuracy: 0.9480 - val_loss: 2.2467 - val_accuracy: 0.8793\n",
            "Epoch 44/50\n",
            "141/141 [==============================] - 0s 2ms/step - loss: 0.4009 - accuracy: 0.9411 - val_loss: 1.7590 - val_accuracy: 0.8680\n",
            "Epoch 45/50\n",
            "141/141 [==============================] - 0s 2ms/step - loss: 0.1945 - accuracy: 0.9629 - val_loss: 2.4095 - val_accuracy: 0.8887\n",
            "Epoch 46/50\n",
            "141/141 [==============================] - 0s 2ms/step - loss: 0.2254 - accuracy: 0.9613 - val_loss: 1.9488 - val_accuracy: 0.8807\n",
            "Epoch 47/50\n",
            "141/141 [==============================] - 0s 2ms/step - loss: 0.2422 - accuracy: 0.9649 - val_loss: 2.1004 - val_accuracy: 0.8940\n",
            "Epoch 48/50\n",
            "141/141 [==============================] - 0s 2ms/step - loss: 0.1809 - accuracy: 0.9658 - val_loss: 1.8629 - val_accuracy: 0.8540\n",
            "Epoch 49/50\n",
            "141/141 [==============================] - 0s 2ms/step - loss: 0.1681 - accuracy: 0.9702 - val_loss: 1.4883 - val_accuracy: 0.8700\n",
            "Epoch 50/50\n",
            "141/141 [==============================] - 0s 2ms/step - loss: 0.0838 - accuracy: 0.9807 - val_loss: 1.5938 - val_accuracy: 0.8553\n"
          ]
        }
      ],
      "source": [
        "rnn_model.compile(optimizer='adam', loss='binary_crossentropy', metrics=['accuracy'])\n",
        "history_rnn = rnn_model.fit(X_train, y_train, epochs=50, batch_size=32, validation_data=(X_test, y_test))"
      ]
    },
    {
      "cell_type": "markdown",
      "metadata": {
        "id": "GmNHm9irHfHT"
      },
      "source": [
        "**Performance metrics**"
      ]
    },
    {
      "cell_type": "code",
      "execution_count": null,
      "metadata": {
        "colab": {
          "base_uri": "https://localhost:8080/"
        },
        "id": "YBUJE4Cmatto",
        "outputId": "c0a261a3-b6a8-4e46-bc94-0e51ea826777"
      },
      "outputs": [
        {
          "output_type": "stream",
          "name": "stdout",
          "text": [
            "47/47 [==============================] - 0s 987us/step - loss: 1.5938 - accuracy: 0.8553\n",
            "Test Loss: 1.5937526226043701, Test Accuracy: 0.8553333282470703\n"
          ]
        }
      ],
      "source": [
        "loss2, accuracy_rnn = rnn_model.evaluate(X_test, y_test)\n",
        "print(f'Test Loss: {loss2}, Test Accuracy: {accuracy_rnn}')"
      ]
    },
    {
      "cell_type": "code",
      "execution_count": null,
      "metadata": {
        "colab": {
          "base_uri": "https://localhost:8080/"
        },
        "id": "hkWj2pScznG9",
        "outputId": "5bb69a5e-54c4-4ac2-cb71-6608e9782cc1"
      },
      "outputs": [
        {
          "output_type": "stream",
          "name": "stdout",
          "text": [
            "47/47 [==============================] - 0s 951us/step\n"
          ]
        }
      ],
      "source": [
        "predictions2 = rnn_model.predict(X_test)"
      ]
    },
    {
      "cell_type": "code",
      "execution_count": null,
      "metadata": {
        "id": "oxLt7toUzoMM"
      },
      "outputs": [],
      "source": [
        "binary_predictions2 = (predictions2 > 0.5).astype('int32')"
      ]
    },
    {
      "cell_type": "code",
      "execution_count": null,
      "metadata": {
        "colab": {
          "base_uri": "https://localhost:8080/"
        },
        "id": "-Behju-onY3n",
        "outputId": "af2dc6df-f7d5-40db-f7c0-7158694cd5fc"
      },
      "outputs": [
        {
          "output_type": "stream",
          "name": "stdout",
          "text": [
            "Precision: 0.6112600536193029\n"
          ]
        }
      ],
      "source": [
        "precision_rnn = precision_score(y_test, binary_predictions2)\n",
        "print(\"Precision:\", precision_rnn)"
      ]
    },
    {
      "cell_type": "code",
      "execution_count": null,
      "metadata": {
        "colab": {
          "base_uri": "https://localhost:8080/"
        },
        "id": "T8jKLNr-FiG_",
        "outputId": "cacee639-114f-448d-d146-c658d0464e7f"
      },
      "outputs": [
        {
          "output_type": "stream",
          "name": "stdout",
          "text": [
            "F1 Score: 0.6775631500742942\n"
          ]
        }
      ],
      "source": [
        "f1_score_rnn = f1_score(y_test, binary_predictions2)\n",
        "print(\"F1 Score:\", f1_score_rnn)"
      ]
    },
    {
      "cell_type": "code",
      "execution_count": null,
      "metadata": {
        "colab": {
          "base_uri": "https://localhost:8080/"
        },
        "id": "3lOrS9hYFexo",
        "outputId": "e3c927f0-e169-405c-f011-38b64af080a8"
      },
      "outputs": [
        {
          "output_type": "stream",
          "name": "stdout",
          "text": [
            "Recall: 0.76\n"
          ]
        }
      ],
      "source": [
        "recall_rnn = recall_score(y_test, binary_predictions2)\n",
        "print(\"Recall:\", recall_rnn)"
      ]
    },
    {
      "cell_type": "markdown",
      "metadata": {
        "id": "1whrhZlVpzEm"
      },
      "source": [
        "# Validation loss of a higest accuracy model(Resnet)"
      ]
    },
    {
      "cell_type": "code",
      "execution_count": null,
      "metadata": {
        "colab": {
          "base_uri": "https://localhost:8080/",
          "height": 472
        },
        "id": "owYKUfaTp2-9",
        "outputId": "54006092-1026-445a-c24a-253346f83653"
      },
      "outputs": [
        {
          "output_type": "display_data",
          "data": {
            "text/plain": [
              "<Figure size 640x480 with 1 Axes>"
            ],
            "image/png": "[encoded data removed]"
          },
          "metadata": {}
        }
      ],
      "source": [
        "import matplotlib.pyplot as plt\n",
        "\n",
        "# Plot the training and validation loss\n",
        "plt.plot(history_googlenet.history['loss'], label='Training Loss')\n",
        "plt.plot(history_googlenet.history['val_loss'], label='Validation Loss')\n",
        "plt.xlabel('Epoch')\n",
        "plt.ylabel('Loss')\n",
        "plt.title('Training and Validation Loss')\n",
        "plt.legend()\n",
        "plt.show()\n"
      ]
    },
    {
      "cell_type": "markdown",
      "metadata": {
        "id": "dN_Rv5O_2_Gr"
      },
      "source": [
        "# Visualization of performance metrics of all models"
      ]
    },
    {
      "cell_type": "code",
      "execution_count": null,
      "metadata": {
        "id": "g-UlGDXsAju_"
      },
      "outputs": [],
      "source": [
        "all_metrics = [\n",
        "    [accuracy_alexnet, precision_alexnet, recall_alexnet, f1_score_alexnet],\n",
        "    [accuracy_densenet, precision_densenet, recall_densenet, f1_score_densenet],\n",
        "    [accuracy_googlenet, precision_googlenet, recall_googlenet, f1_score_googlenet],\n",
        "    [accuracy_vgg, precision_vgg, recall_vgg, f1_score_vgg],\n",
        "    [accuracy_resnet, precision_resnet, recall_resnet, f1_score_resnet],\n",
        "    [accuracy_rnn, precision_rnn, recall_rnn, f1_score_rnn]\n",
        "]"
      ]
    },
    {
      "cell_type": "code",
      "execution_count": null,
      "metadata": {
        "id": "gzYp_IA_AlIw"
      },
      "outputs": [],
      "source": [
        "model_names = ['Alexnet', 'Densenet', 'Googlenet', 'VGG', 'Resnet', 'RNN']"
      ]
    },
    {
      "cell_type": "code",
      "execution_count": null,
      "metadata": {
        "id": "BBrn46vLAmsI"
      },
      "outputs": [],
      "source": [
        "metrics_names = ['Accuracy', 'Precision', 'Recall', 'F1-score']"
      ]
    },
    {
      "cell_type": "code",
      "execution_count": null,
      "metadata": {
        "id": "kePq7E0wAn_4"
      },
      "outputs": [],
      "source": [
        "num_models = len(all_metrics)"
      ]
    },
    {
      "cell_type": "code",
      "execution_count": null,
      "metadata": {
        "id": "ZcQMigxlApQB"
      },
      "outputs": [],
      "source": [
        "bar_width = 0.10\n",
        "index = range(len(metrics_names))"
      ]
    },
    {
      "cell_type": "code",
      "execution_count": null,
      "metadata": {
        "colab": {
          "base_uri": "https://localhost:8080/",
          "height": 507
        },
        "id": "-A62pI-gAqla",
        "outputId": "52f0359e-ccc7-486e-e001-52c8e0a3a9d8"
      },
      "outputs": [
        {
          "output_type": "display_data",
          "data": {
            "text/plain": [
              "<Figure size 800x500 with 1 Axes>"
            ],
            "image/png": "[encoded data removed]"
          },
          "metadata": {}
        }
      ],
      "source": [
        "fig, ax = plt.subplots(figsize=(8, 5))\n",
        "\n",
        "for i in range(num_models):\n",
        "    ax.bar([p + i * bar_width for p in index], all_metrics[i], bar_width, label= model_names[i]+ ' Model ')\n",
        "\n",
        "ax.set_xlabel('Metrics')\n",
        "ax.set_ylabel('Scores')\n",
        "ax.set_title('Performance Metrics by Models')\n",
        "ax.set_xticks([p + bar_width * (num_models - 1) / 2 for p in index])\n",
        "ax.set_xticklabels(metrics_names)\n",
        "ax.legend(loc='lower right')\n",
        "plt.tight_layout()\n",
        "plt.show()"
      ]
    }
  ],
  "metadata": {
    "colab": {
      "provenance": []
    },
    "kernelspec": {
      "display_name": "Python 3",
      "name": "python3"
    },
    "language_info": {
      "name": "python"
    }
  },
  "nbformat": 4,
  "nbformat_minor": 0
}